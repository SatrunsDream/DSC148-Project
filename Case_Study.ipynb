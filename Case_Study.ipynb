{
 "cells": [
  {
   "cell_type": "markdown",
   "id": "ada27896",
   "metadata": {},
   "source": [
    "<h1 style=\"text-align: center;\">Final Project Code</h1>\n",
    "\n",
    "<p style=\"text-align: center; font-size: 18px;\">By Diego Arévalo, Diego Osborn, Khoi Phan, &amp; Sardor Sobirov</p>"
   ]
  },
  {
   "cell_type": "markdown",
   "id": "a54313c2-8cd0-4a45-b271-490e2000f490",
   "metadata": {
    "jp-MarkdownHeadingCollapsed": true
   },
   "source": [
    "## Imports"
   ]
  },
  {
   "cell_type": "code",
   "execution_count": 1,
   "id": "47d6889c-cd93-4a39-85d0-a9e41ae98e9d",
   "metadata": {},
   "outputs": [],
   "source": [
    "# Standard libraries\n",
    "import pandas as pd\n",
    "import numpy as np\n",
    "import re\n",
    "from itertools import chain, combinations\n",
    "from tqdm import tqdm\n",
    "\n",
    "# Display settings\n",
    "from IPython.display import display\n",
    "pd.options.display.max_columns = None\n",
    "\n",
    "# Scientific computing and statistics\n",
    "from scipy.spatial import cKDTree\n",
    "from scipy import stats\n",
    "import statsmodels.api as sm\n",
    "import statsmodels.formula.api as smf\n",
    "\n",
    "# Visualization libraries\n",
    "import seaborn as sns\n",
    "import matplotlib.pyplot as plt\n",
    "import plotly.graph_objects as go\n",
    "from plotly.subplots import make_subplots\n",
    "import plotly.express as px\n",
    "from mpl_toolkits.mplot3d import Axes3D \n",
    "\n",
    "# Scikit-learn: Data processing\n",
    "from sklearn.preprocessing import StandardScaler\n",
    "from sklearn.model_selection import train_test_split\n",
    "from sklearn.preprocessing import StandardScaler, LabelEncoder\n",
    "\n",
    "# Scikit-learn: Evaluation metrics\n",
    "from sklearn.metrics import mean_squared_error, adjusted_rand_score, accuracy_score, \\\n",
    "    confusion_matrix, classification_report, precision_score, recall_score, f1_score, \\\n",
    "    precision_recall_fscore_support\n",
    "\n",
    "# Scikit-learn: Machine learning models\n",
    "from sklearn.svm import SVC\n",
    "from sklearn.naive_bayes import GaussianNB\n",
    "from sklearn.mixture import GaussianMixture\n",
    "from sklearn.tree import DecisionTreeClassifier\n",
    "from sklearn.ensemble import RandomForestClassifier, RandomForestRegressor\n",
    "import xgboost as xgb\n",
    "import lightgbm as lgb\n",
    "\n",
    "# Scikit-learn: Dimensionality reduction and clustering\n",
    "from sklearn.decomposition import PCA\n",
    "from sklearn.cluster import KMeans, DBSCAN\n",
    "\n",
    "# Scikit-learn: Regression models\n",
    "from sklearn.linear_model import Lasso, LinearRegression, Ridge\n",
    "\n",
    "# Scikit-learn: Model selection\n",
    "from sklearn.model_selection import RandomizedSearchCV"
   ]
  },
  {
   "cell_type": "markdown",
   "id": "2744e8cd",
   "metadata": {
    "jp-MarkdownHeadingCollapsed": true
   },
   "source": [
    "## Datasets"
   ]
  },
  {
   "cell_type": "code",
   "execution_count": 2,
   "id": "27aa8df5",
   "metadata": {},
   "outputs": [
    {
     "data": {
      "text/plain": [
       "['brokered_by',\n",
       " 'status',\n",
       " 'price',\n",
       " 'bed',\n",
       " 'bath',\n",
       " 'acre_lot',\n",
       " 'street',\n",
       " 'city',\n",
       " 'state',\n",
       " 'zip_code',\n",
       " 'house_size',\n",
       " 'prev_sold_date']"
      ]
     },
     "metadata": {},
     "output_type": "display_data"
    },
    {
     "data": {
      "text/plain": [
       "brokered_by       float64\n",
       "status             object\n",
       "price             float64\n",
       "bed               float64\n",
       "bath              float64\n",
       "acre_lot          float64\n",
       "street            float64\n",
       "city               object\n",
       "state              object\n",
       "zip_code          float64\n",
       "house_size        float64\n",
       "prev_sold_date     object\n",
       "dtype: object"
      ]
     },
     "metadata": {},
     "output_type": "display_data"
    },
    {
     "data": {
      "text/html": [
       "<div>\n",
       "<style scoped>\n",
       "    .dataframe tbody tr th:only-of-type {\n",
       "        vertical-align: middle;\n",
       "    }\n",
       "\n",
       "    .dataframe tbody tr th {\n",
       "        vertical-align: top;\n",
       "    }\n",
       "\n",
       "    .dataframe thead th {\n",
       "        text-align: right;\n",
       "    }\n",
       "</style>\n",
       "<table border=\"1\" class=\"dataframe\">\n",
       "  <thead>\n",
       "    <tr style=\"text-align: right;\">\n",
       "      <th></th>\n",
       "      <th>brokered_by</th>\n",
       "      <th>status</th>\n",
       "      <th>price</th>\n",
       "      <th>bed</th>\n",
       "      <th>bath</th>\n",
       "      <th>acre_lot</th>\n",
       "      <th>street</th>\n",
       "      <th>city</th>\n",
       "      <th>state</th>\n",
       "      <th>zip_code</th>\n",
       "      <th>house_size</th>\n",
       "      <th>prev_sold_date</th>\n",
       "    </tr>\n",
       "  </thead>\n",
       "  <tbody>\n",
       "    <tr>\n",
       "      <th>0</th>\n",
       "      <td>103378.0</td>\n",
       "      <td>for_sale</td>\n",
       "      <td>105000.0</td>\n",
       "      <td>3.0</td>\n",
       "      <td>2.0</td>\n",
       "      <td>0.12</td>\n",
       "      <td>1962661.0</td>\n",
       "      <td>adjuntas</td>\n",
       "      <td>puerto rico</td>\n",
       "      <td>601.0</td>\n",
       "      <td>920.0</td>\n",
       "      <td>NaN</td>\n",
       "    </tr>\n",
       "    <tr>\n",
       "      <th>1</th>\n",
       "      <td>52707.0</td>\n",
       "      <td>for_sale</td>\n",
       "      <td>80000.0</td>\n",
       "      <td>4.0</td>\n",
       "      <td>2.0</td>\n",
       "      <td>0.08</td>\n",
       "      <td>1902874.0</td>\n",
       "      <td>adjuntas</td>\n",
       "      <td>puerto rico</td>\n",
       "      <td>601.0</td>\n",
       "      <td>1527.0</td>\n",
       "      <td>NaN</td>\n",
       "    </tr>\n",
       "    <tr>\n",
       "      <th>2</th>\n",
       "      <td>103379.0</td>\n",
       "      <td>for_sale</td>\n",
       "      <td>67000.0</td>\n",
       "      <td>2.0</td>\n",
       "      <td>1.0</td>\n",
       "      <td>0.15</td>\n",
       "      <td>1404990.0</td>\n",
       "      <td>juana diaz</td>\n",
       "      <td>puerto rico</td>\n",
       "      <td>795.0</td>\n",
       "      <td>748.0</td>\n",
       "      <td>NaN</td>\n",
       "    </tr>\n",
       "    <tr>\n",
       "      <th>3</th>\n",
       "      <td>31239.0</td>\n",
       "      <td>for_sale</td>\n",
       "      <td>145000.0</td>\n",
       "      <td>4.0</td>\n",
       "      <td>2.0</td>\n",
       "      <td>0.10</td>\n",
       "      <td>1947675.0</td>\n",
       "      <td>ponce</td>\n",
       "      <td>puerto rico</td>\n",
       "      <td>731.0</td>\n",
       "      <td>1800.0</td>\n",
       "      <td>NaN</td>\n",
       "    </tr>\n",
       "    <tr>\n",
       "      <th>4</th>\n",
       "      <td>34632.0</td>\n",
       "      <td>for_sale</td>\n",
       "      <td>65000.0</td>\n",
       "      <td>6.0</td>\n",
       "      <td>2.0</td>\n",
       "      <td>0.05</td>\n",
       "      <td>331151.0</td>\n",
       "      <td>mayaguez</td>\n",
       "      <td>puerto rico</td>\n",
       "      <td>680.0</td>\n",
       "      <td>NaN</td>\n",
       "      <td>NaN</td>\n",
       "    </tr>\n",
       "  </tbody>\n",
       "</table>\n",
       "</div>"
      ],
      "text/plain": [
       "   brokered_by    status     price  bed  bath  acre_lot     street  \\\n",
       "0     103378.0  for_sale  105000.0  3.0   2.0      0.12  1962661.0   \n",
       "1      52707.0  for_sale   80000.0  4.0   2.0      0.08  1902874.0   \n",
       "2     103379.0  for_sale   67000.0  2.0   1.0      0.15  1404990.0   \n",
       "3      31239.0  for_sale  145000.0  4.0   2.0      0.10  1947675.0   \n",
       "4      34632.0  for_sale   65000.0  6.0   2.0      0.05   331151.0   \n",
       "\n",
       "         city        state  zip_code  house_size prev_sold_date  \n",
       "0    adjuntas  puerto rico     601.0       920.0            NaN  \n",
       "1    adjuntas  puerto rico     601.0      1527.0            NaN  \n",
       "2  juana diaz  puerto rico     795.0       748.0            NaN  \n",
       "3       ponce  puerto rico     731.0      1800.0            NaN  \n",
       "4    mayaguez  puerto rico     680.0         NaN            NaN  "
      ]
     },
     "metadata": {},
     "output_type": "display_data"
    }
   ],
   "source": [
    "first_half = pd.read_csv('files/first_half.csv')\n",
    "second_half = pd.read_csv('files/second_half.csv')\n",
    "third_half = pd.read_csv('files/third_half.csv')\n",
    "realtor_data = pd.concat([first_half, second_half, third_half]).reset_index(drop=True).iloc[:, 1:]\n",
    "realtor_data[realtor_data.select_dtypes(include=['object']).columns] = realtor_data.select_dtypes(include=['object']).apply(lambda i: i.str.lower())\n",
    "display(realtor_data.columns.tolist())\n",
    "display(realtor_data.dtypes)\n",
    "display(realtor_data.head(5))"
   ]
  },
  {
   "cell_type": "code",
   "execution_count": 3,
   "id": "4e737c9d",
   "metadata": {},
   "outputs": [
    {
     "data": {
      "text/plain": [
       "(33791, 7)"
      ]
     },
     "metadata": {},
     "output_type": "display_data"
    },
    {
     "data": {
      "text/plain": [
       "['zip_code', 'land_area', 'water_area', 'latitude', 'longitude']"
      ]
     },
     "metadata": {},
     "output_type": "display_data"
    },
    {
     "data": {
      "text/plain": [
       "zip_code       object\n",
       "land_area     float64\n",
       "water_area    float64\n",
       "latitude      float64\n",
       "longitude     float64\n",
       "dtype: object"
      ]
     },
     "metadata": {},
     "output_type": "display_data"
    },
    {
     "data": {
      "text/html": [
       "<div>\n",
       "<style scoped>\n",
       "    .dataframe tbody tr th:only-of-type {\n",
       "        vertical-align: middle;\n",
       "    }\n",
       "\n",
       "    .dataframe tbody tr th {\n",
       "        vertical-align: top;\n",
       "    }\n",
       "\n",
       "    .dataframe thead th {\n",
       "        text-align: right;\n",
       "    }\n",
       "</style>\n",
       "<table border=\"1\" class=\"dataframe\">\n",
       "  <thead>\n",
       "    <tr style=\"text-align: right;\">\n",
       "      <th></th>\n",
       "      <th>zip_code</th>\n",
       "      <th>land_area</th>\n",
       "      <th>water_area</th>\n",
       "      <th>latitude</th>\n",
       "      <th>longitude</th>\n",
       "    </tr>\n",
       "  </thead>\n",
       "  <tbody>\n",
       "    <tr>\n",
       "      <th>0</th>\n",
       "      <td>601</td>\n",
       "      <td>64.416</td>\n",
       "      <td>0.308</td>\n",
       "      <td>18.180555</td>\n",
       "      <td>-66.749961</td>\n",
       "    </tr>\n",
       "    <tr>\n",
       "      <th>1</th>\n",
       "      <td>602</td>\n",
       "      <td>30.327</td>\n",
       "      <td>1.710</td>\n",
       "      <td>18.361945</td>\n",
       "      <td>-67.175597</td>\n",
       "    </tr>\n",
       "    <tr>\n",
       "      <th>2</th>\n",
       "      <td>603</td>\n",
       "      <td>34.356</td>\n",
       "      <td>2.414</td>\n",
       "      <td>18.457399</td>\n",
       "      <td>-67.124867</td>\n",
       "    </tr>\n",
       "    <tr>\n",
       "      <th>3</th>\n",
       "      <td>606</td>\n",
       "      <td>44.334</td>\n",
       "      <td>0.005</td>\n",
       "      <td>18.158327</td>\n",
       "      <td>-66.932928</td>\n",
       "    </tr>\n",
       "    <tr>\n",
       "      <th>4</th>\n",
       "      <td>610</td>\n",
       "      <td>37.124</td>\n",
       "      <td>1.656</td>\n",
       "      <td>18.295304</td>\n",
       "      <td>-67.125180</td>\n",
       "    </tr>\n",
       "  </tbody>\n",
       "</table>\n",
       "</div>"
      ],
      "text/plain": [
       "  zip_code  land_area  water_area   latitude  longitude\n",
       "0      601     64.416       0.308  18.180555 -66.749961\n",
       "1      602     30.327       1.710  18.361945 -67.175597\n",
       "2      603     34.356       2.414  18.457399 -67.124867\n",
       "3      606     44.334       0.005  18.158327 -66.932928\n",
       "4      610     37.124       1.656  18.295304 -67.125180"
      ]
     },
     "metadata": {},
     "output_type": "display_data"
    }
   ],
   "source": [
    "zipcode_land = pd.read_csv('files/national-zcta-data.csv', dtype={\"GEOID\": str})\n",
    "display(zipcode_land.shape)\n",
    "zipcode_land.columns = zipcode_land.columns.str.strip()\n",
    "zipcode_land = zipcode_land.rename(columns={\n",
    "    \"GEOID\": \"zip_code\",\n",
    "    \"ALAND_SQMI\": \"land_area\",\n",
    "    \"AWATER_SQMI\": \"water_area\",\n",
    "    \"INTPTLAT\": \"latitude\",\n",
    "    \"INTPTLONG\": \"longitude\"})\n",
    "zipcode_land = zipcode_land.drop(columns=['ALAND', 'AWATER'])\n",
    "display(zipcode_land.columns.tolist())\n",
    "display(zipcode_land.dtypes)\n",
    "display(zipcode_land.head(5))"
   ]
  },
  {
   "cell_type": "code",
   "execution_count": 4,
   "id": "03f83f14",
   "metadata": {},
   "outputs": [
    {
     "data": {
      "text/plain": [
       "['zip_code', 'population', 'density', 'City', 'St', 'lat', 'long']"
      ]
     },
     "metadata": {},
     "output_type": "display_data"
    },
    {
     "data": {
      "text/plain": [
       "zip_code       object\n",
       "population      int64\n",
       "density       float64\n",
       "City           object\n",
       "St             object\n",
       "lat           float64\n",
       "long          float64\n",
       "dtype: object"
      ]
     },
     "metadata": {},
     "output_type": "display_data"
    },
    {
     "data": {
      "text/html": [
       "<div>\n",
       "<style scoped>\n",
       "    .dataframe tbody tr th:only-of-type {\n",
       "        vertical-align: middle;\n",
       "    }\n",
       "\n",
       "    .dataframe tbody tr th {\n",
       "        vertical-align: top;\n",
       "    }\n",
       "\n",
       "    .dataframe thead th {\n",
       "        text-align: right;\n",
       "    }\n",
       "</style>\n",
       "<table border=\"1\" class=\"dataframe\">\n",
       "  <thead>\n",
       "    <tr style=\"text-align: right;\">\n",
       "      <th></th>\n",
       "      <th>zip_code</th>\n",
       "      <th>population</th>\n",
       "      <th>density</th>\n",
       "      <th>City</th>\n",
       "      <th>St</th>\n",
       "      <th>lat</th>\n",
       "      <th>long</th>\n",
       "    </tr>\n",
       "  </thead>\n",
       "  <tbody>\n",
       "    <tr>\n",
       "      <th>0</th>\n",
       "      <td>92337</td>\n",
       "      <td>38868</td>\n",
       "      <td>1049.1</td>\n",
       "      <td>fontana</td>\n",
       "      <td>california</td>\n",
       "      <td>34.0498</td>\n",
       "      <td>-117.4706</td>\n",
       "    </tr>\n",
       "    <tr>\n",
       "      <th>1</th>\n",
       "      <td>92338</td>\n",
       "      <td>0</td>\n",
       "      <td>0.0</td>\n",
       "      <td>ludlow</td>\n",
       "      <td>california</td>\n",
       "      <td>34.7211</td>\n",
       "      <td>-116.1600</td>\n",
       "    </tr>\n",
       "    <tr>\n",
       "      <th>2</th>\n",
       "      <td>92339</td>\n",
       "      <td>1185</td>\n",
       "      <td>32.3</td>\n",
       "      <td>forest falls</td>\n",
       "      <td>california</td>\n",
       "      <td>34.0937</td>\n",
       "      <td>-116.9362</td>\n",
       "    </tr>\n",
       "    <tr>\n",
       "      <th>3</th>\n",
       "      <td>92340</td>\n",
       "      <td>1185</td>\n",
       "      <td>32.3</td>\n",
       "      <td>hesperia</td>\n",
       "      <td>california</td>\n",
       "      <td>34.4264</td>\n",
       "      <td>-117.3009</td>\n",
       "    </tr>\n",
       "    <tr>\n",
       "      <th>4</th>\n",
       "      <td>92341</td>\n",
       "      <td>203</td>\n",
       "      <td>22.4</td>\n",
       "      <td>green valley lake</td>\n",
       "      <td>california</td>\n",
       "      <td>34.2348</td>\n",
       "      <td>-117.0660</td>\n",
       "    </tr>\n",
       "  </tbody>\n",
       "</table>\n",
       "</div>"
      ],
      "text/plain": [
       "  zip_code  population  density               City          St      lat  \\\n",
       "0    92337       38868   1049.1            fontana  california  34.0498   \n",
       "1    92338           0      0.0             ludlow  california  34.7211   \n",
       "2    92339        1185     32.3       forest falls  california  34.0937   \n",
       "3    92340        1185     32.3           hesperia  california  34.4264   \n",
       "4    92341         203     22.4  green valley lake  california  34.2348   \n",
       "\n",
       "       long  \n",
       "0 -117.4706  \n",
       "1 -116.1600  \n",
       "2 -116.9362  \n",
       "3 -117.3009  \n",
       "4 -117.0660  "
      ]
     },
     "metadata": {},
     "output_type": "display_data"
    }
   ],
   "source": [
    "zipcode_pop = pd.read_excel('files/zip_population.xlsx', dtype={\"Zip\": str})\n",
    "zipcode_pop.columns = zipcode_pop.columns.str.strip()\n",
    "zipcode_pop = zipcode_pop.rename(columns={\n",
    "    \"Zip\": \"zip_code\"})\n",
    "zipcode_pop[zipcode_pop.select_dtypes(include=['object']).columns] = zipcode_pop.select_dtypes(include=['object']).apply(lambda i: i.str.lower())\n",
    "zipcode_pop = zipcode_pop.drop(columns=['CitySt', 'Coordinates', 'Country', 'State', 'County'])\n",
    "display(zipcode_pop.columns.tolist())\n",
    "display(zipcode_pop.dtypes)\n",
    "display(zipcode_pop.head(5))"
   ]
  },
  {
   "cell_type": "code",
   "execution_count": 5,
   "id": "d5bb6ce0",
   "metadata": {},
   "outputs": [
    {
     "data": {
      "text/plain": [
       "['state', 'city', 'population', 'violent_crime', 'property_crime']"
      ]
     },
     "metadata": {},
     "output_type": "display_data"
    },
    {
     "data": {
      "text/plain": [
       "state              object\n",
       "city               object\n",
       "population        float64\n",
       "violent_crime     float64\n",
       "property_crime    float64\n",
       "dtype: object"
      ]
     },
     "metadata": {},
     "output_type": "display_data"
    },
    {
     "data": {
      "text/html": [
       "<div>\n",
       "<style scoped>\n",
       "    .dataframe tbody tr th:only-of-type {\n",
       "        vertical-align: middle;\n",
       "    }\n",
       "\n",
       "    .dataframe tbody tr th {\n",
       "        vertical-align: top;\n",
       "    }\n",
       "\n",
       "    .dataframe thead th {\n",
       "        text-align: right;\n",
       "    }\n",
       "</style>\n",
       "<table border=\"1\" class=\"dataframe\">\n",
       "  <thead>\n",
       "    <tr style=\"text-align: right;\">\n",
       "      <th></th>\n",
       "      <th>state</th>\n",
       "      <th>city</th>\n",
       "      <th>population</th>\n",
       "      <th>violent_crime</th>\n",
       "      <th>property_crime</th>\n",
       "    </tr>\n",
       "  </thead>\n",
       "  <tbody>\n",
       "    <tr>\n",
       "      <th>0</th>\n",
       "      <td>alabama</td>\n",
       "      <td>abbeville</td>\n",
       "      <td>2610.0</td>\n",
       "      <td>9.0</td>\n",
       "      <td>76.0</td>\n",
       "    </tr>\n",
       "    <tr>\n",
       "      <th>1</th>\n",
       "      <td>alabama</td>\n",
       "      <td>adamsville</td>\n",
       "      <td>4414.0</td>\n",
       "      <td>25.0</td>\n",
       "      <td>330.0</td>\n",
       "    </tr>\n",
       "    <tr>\n",
       "      <th>2</th>\n",
       "      <td>alabama</td>\n",
       "      <td>addison</td>\n",
       "      <td>748.0</td>\n",
       "      <td>4.0</td>\n",
       "      <td>28.0</td>\n",
       "    </tr>\n",
       "    <tr>\n",
       "      <th>3</th>\n",
       "      <td>alabama</td>\n",
       "      <td>alabaster</td>\n",
       "      <td>31821.0</td>\n",
       "      <td>132.0</td>\n",
       "      <td>534.0</td>\n",
       "    </tr>\n",
       "    <tr>\n",
       "      <th>4</th>\n",
       "      <td>alabama</td>\n",
       "      <td>albertville</td>\n",
       "      <td>21534.0</td>\n",
       "      <td>30.0</td>\n",
       "      <td>723.0</td>\n",
       "    </tr>\n",
       "  </tbody>\n",
       "</table>\n",
       "</div>"
      ],
      "text/plain": [
       "     state         city  population  violent_crime  property_crime\n",
       "0  alabama    abbeville      2610.0            9.0            76.0\n",
       "1  alabama   adamsville      4414.0           25.0           330.0\n",
       "2  alabama      addison       748.0            4.0            28.0\n",
       "3  alabama    alabaster     31821.0          132.0           534.0\n",
       "4  alabama  albertville     21534.0           30.0           723.0"
      ]
     },
     "metadata": {},
     "output_type": "display_data"
    }
   ],
   "source": [
    "crime_data = pd.read_csv('files/fbi-crime.csv')\n",
    "crime_data.columns = [re.sub(r'[^A-Za-z\\s]', '', col).strip().replace('\\n', '_').replace(' ', '_').lower() for col in crime_data.columns]\n",
    "object_cols = ['population', 'violent_crime', 'robbery', 'aggravated_assault', 'property_crime', 'burglary', 'larceny_theft', 'motor_vehicle_theft', 'arson']\n",
    "for i in object_cols:\n",
    "    crime_data[i] = crime_data[i].str.replace(',', '').astype(float)\n",
    "crime_data[crime_data.select_dtypes(include=['object']).columns] = crime_data.select_dtypes(include=['object']).apply(lambda i: i.str.lower())\n",
    "crime_data = crime_data.fillna(0)\n",
    "crime_data = crime_data.drop(columns=['rape_revised_definition', 'rape_legacy_definition'])\n",
    "crime_data['state'] = crime_data['state'].str.replace(r'\\d', '', regex=True).str.strip()\n",
    "crime_data = crime_data.drop(columns=['murder_and_nonnegligent_manslaughter', 'robbery', \n",
    "                                      'aggravated_assault', 'burglary', 'larceny_theft', \n",
    "                                      'motor_vehicle_theft', 'arson'])\n",
    "display(crime_data.columns.tolist())\n",
    "display(crime_data.dtypes)\n",
    "display(crime_data.head(5))"
   ]
  },
  {
   "cell_type": "code",
   "execution_count": 6,
   "id": "2beb72cb",
   "metadata": {},
   "outputs": [
    {
     "name": "stdout",
     "output_type": "stream",
     "text": [
      "(6163, 73)\n"
     ]
    },
    {
     "data": {
      "text/plain": [
       "['instnm',\n",
       " 'city',\n",
       " 'stabbr',\n",
       " 'zip',\n",
       " 'obereg',\n",
       " 'countynm',\n",
       " 'longitud',\n",
       " 'latitude',\n",
       " 'hloffer']"
      ]
     },
     "metadata": {},
     "output_type": "display_data"
    },
    {
     "data": {
      "text/plain": [
       "instnm       object\n",
       "city         object\n",
       "stabbr       object\n",
       "zip          object\n",
       "obereg        int64\n",
       "countynm     object\n",
       "longitud    float64\n",
       "latitude    float64\n",
       "hloffer       int64\n",
       "dtype: object"
      ]
     },
     "metadata": {},
     "output_type": "display_data"
    },
    {
     "data": {
      "text/html": [
       "<div>\n",
       "<style scoped>\n",
       "    .dataframe tbody tr th:only-of-type {\n",
       "        vertical-align: middle;\n",
       "    }\n",
       "\n",
       "    .dataframe tbody tr th {\n",
       "        vertical-align: top;\n",
       "    }\n",
       "\n",
       "    .dataframe thead th {\n",
       "        text-align: right;\n",
       "    }\n",
       "</style>\n",
       "<table border=\"1\" class=\"dataframe\">\n",
       "  <thead>\n",
       "    <tr style=\"text-align: right;\">\n",
       "      <th></th>\n",
       "      <th>instnm</th>\n",
       "      <th>city</th>\n",
       "      <th>stabbr</th>\n",
       "      <th>zip</th>\n",
       "      <th>obereg</th>\n",
       "      <th>countynm</th>\n",
       "      <th>longitud</th>\n",
       "      <th>latitude</th>\n",
       "      <th>hloffer</th>\n",
       "    </tr>\n",
       "  </thead>\n",
       "  <tbody>\n",
       "    <tr>\n",
       "      <th>0</th>\n",
       "      <td>alabama a &amp; m university</td>\n",
       "      <td>normal</td>\n",
       "      <td>alabama</td>\n",
       "      <td>35762</td>\n",
       "      <td>5</td>\n",
       "      <td>madison county</td>\n",
       "      <td>-86.568502</td>\n",
       "      <td>34.783368</td>\n",
       "      <td>9</td>\n",
       "    </tr>\n",
       "    <tr>\n",
       "      <th>1</th>\n",
       "      <td>university of alabama at birmingham</td>\n",
       "      <td>birmingham</td>\n",
       "      <td>alabama</td>\n",
       "      <td>35294</td>\n",
       "      <td>5</td>\n",
       "      <td>jefferson county</td>\n",
       "      <td>-86.799345</td>\n",
       "      <td>33.505697</td>\n",
       "      <td>9</td>\n",
       "    </tr>\n",
       "    <tr>\n",
       "      <th>2</th>\n",
       "      <td>amridge university</td>\n",
       "      <td>montgomery</td>\n",
       "      <td>alabama</td>\n",
       "      <td>36117</td>\n",
       "      <td>5</td>\n",
       "      <td>montgomery county</td>\n",
       "      <td>-86.174010</td>\n",
       "      <td>32.362609</td>\n",
       "      <td>9</td>\n",
       "    </tr>\n",
       "    <tr>\n",
       "      <th>3</th>\n",
       "      <td>university of alabama in huntsville</td>\n",
       "      <td>huntsville</td>\n",
       "      <td>alabama</td>\n",
       "      <td>35899</td>\n",
       "      <td>5</td>\n",
       "      <td>madison county</td>\n",
       "      <td>-86.640449</td>\n",
       "      <td>34.724557</td>\n",
       "      <td>9</td>\n",
       "    </tr>\n",
       "    <tr>\n",
       "      <th>4</th>\n",
       "      <td>alabama state university</td>\n",
       "      <td>montgomery</td>\n",
       "      <td>alabama</td>\n",
       "      <td>36104</td>\n",
       "      <td>5</td>\n",
       "      <td>montgomery county</td>\n",
       "      <td>-86.295677</td>\n",
       "      <td>32.364317</td>\n",
       "      <td>9</td>\n",
       "    </tr>\n",
       "  </tbody>\n",
       "</table>\n",
       "</div>"
      ],
      "text/plain": [
       "                                instnm        city   stabbr    zip  obereg  \\\n",
       "0             alabama a & m university      normal  alabama  35762       5   \n",
       "1  university of alabama at birmingham  birmingham  alabama  35294       5   \n",
       "2                   amridge university  montgomery  alabama  36117       5   \n",
       "3  university of alabama in huntsville  huntsville  alabama  35899       5   \n",
       "4             alabama state university  montgomery  alabama  36104       5   \n",
       "\n",
       "            countynm   longitud   latitude  hloffer  \n",
       "0     madison county -86.568502  34.783368        9  \n",
       "1   jefferson county -86.799345  33.505697        9  \n",
       "2  montgomery county -86.174010  32.362609        9  \n",
       "3     madison county -86.640449  34.724557        9  \n",
       "4  montgomery county -86.295677  32.364317        9  "
      ]
     },
     "metadata": {},
     "output_type": "display_data"
    }
   ],
   "source": [
    "us_state_to_abbrev = {\n",
    "    \"Alabama\": \"AL\",\n",
    "    \"Alaska\": \"AK\",\n",
    "    \"Arizona\": \"AZ\",\n",
    "    \"Arkansas\": \"AR\",\n",
    "    \"California\": \"CA\",\n",
    "    \"Colorado\": \"CO\",\n",
    "    \"Connecticut\": \"CT\",\n",
    "    \"Delaware\": \"DE\",\n",
    "    \"Florida\": \"FL\",\n",
    "    \"Georgia\": \"GA\",\n",
    "    \"Hawaii\": \"HI\",\n",
    "    \"Idaho\": \"ID\",\n",
    "    \"Illinois\": \"IL\",\n",
    "    \"Indiana\": \"IN\",\n",
    "    \"Iowa\": \"IA\",\n",
    "    \"Kansas\": \"KS\",\n",
    "    \"Kentucky\": \"KY\",\n",
    "    \"Louisiana\": \"LA\",\n",
    "    \"Maine\": \"ME\",\n",
    "    \"Maryland\": \"MD\",\n",
    "    \"Massachusetts\": \"MA\",\n",
    "    \"Michigan\": \"MI\",\n",
    "    \"Minnesota\": \"MN\",\n",
    "    \"Mississippi\": \"MS\",\n",
    "    \"Missouri\": \"MO\",\n",
    "    \"Montana\": \"MT\",\n",
    "    \"Nebraska\": \"NE\",\n",
    "    \"Nevada\": \"NV\",\n",
    "    \"New Hampshire\": \"NH\",\n",
    "    \"New Jersey\": \"NJ\",\n",
    "    \"New Mexico\": \"NM\",\n",
    "    \"New York\": \"NY\",\n",
    "    \"North Carolina\": \"NC\",\n",
    "    \"North Dakota\": \"ND\",\n",
    "    \"Ohio\": \"OH\",\n",
    "    \"Oklahoma\": \"OK\",\n",
    "    \"Oregon\": \"OR\",\n",
    "    \"Pennsylvania\": \"PA\",\n",
    "    \"Rhode Island\": \"RI\",\n",
    "    \"South Carolina\": \"SC\",\n",
    "    \"South Dakota\": \"SD\",\n",
    "    \"Tennessee\": \"TN\",\n",
    "    \"Texas\": \"TX\",\n",
    "    \"Utah\": \"UT\",\n",
    "    \"Vermont\": \"VT\",\n",
    "    \"Virginia\": \"VA\",\n",
    "    \"Washington\": \"WA\",\n",
    "    \"West Virginia\": \"WV\",\n",
    "    \"Wisconsin\": \"WI\",\n",
    "    \"Wyoming\": \"WY\",\n",
    "    \"District of Columbia\": \"DC\",\n",
    "}\n",
    "abbrev_to_us_state = dict(map(reversed, us_state_to_abbrev.items()))\n",
    "\n",
    "uni_data = pd.read_csv('files/hd2023.csv', encoding='ISO-8859-1', na_values=['', ' '])\n",
    "print(uni_data.shape)\n",
    "uni_data = uni_data[['INSTNM', 'CITY', 'STABBR', 'ZIP', 'OBEREG','COUNTYNM', 'LONGITUD', 'LATITUDE', 'HLOFFER']]\n",
    "uni_data.columns = [i.lower() for i in uni_data.columns]\n",
    "uni_data = uni_data[uni_data['stabbr'].isin(us_state_to_abbrev.values())]\n",
    "uni_data['stabbr'] = uni_data['stabbr'].map(abbrev_to_us_state)\n",
    "uni_data[uni_data.select_dtypes(include=['object']).columns] = uni_data.select_dtypes(include=['object']).apply(lambda i: i.str.lower())\n",
    "uni_data['zip'] = uni_data['zip'].apply(lambda x: x[:5])\n",
    "uni_data['hloffer'] = uni_data['hloffer'].apply(lambda x: -1 if x == 'b' else x).astype(int)\n",
    "display(uni_data.columns.tolist())\n",
    "display(uni_data.dtypes)\n",
    "display(uni_data.head(5))"
   ]
  },
  {
   "cell_type": "code",
   "execution_count": 7,
   "id": "0c6f9ef4",
   "metadata": {},
   "outputs": [
    {
     "data": {
      "text/plain": [
       "['state', 'property_tax', 'rank']"
      ]
     },
     "metadata": {},
     "output_type": "display_data"
    },
    {
     "data": {
      "text/plain": [
       "state            object\n",
       "property_tax    float64\n",
       "rank              int64\n",
       "dtype: object"
      ]
     },
     "metadata": {},
     "output_type": "display_data"
    },
    {
     "data": {
      "text/html": [
       "<div>\n",
       "<style scoped>\n",
       "    .dataframe tbody tr th:only-of-type {\n",
       "        vertical-align: middle;\n",
       "    }\n",
       "\n",
       "    .dataframe tbody tr th {\n",
       "        vertical-align: top;\n",
       "    }\n",
       "\n",
       "    .dataframe thead th {\n",
       "        text-align: right;\n",
       "    }\n",
       "</style>\n",
       "<table border=\"1\" class=\"dataframe\">\n",
       "  <thead>\n",
       "    <tr style=\"text-align: right;\">\n",
       "      <th></th>\n",
       "      <th>state</th>\n",
       "      <th>property_tax</th>\n",
       "      <th>rank</th>\n",
       "    </tr>\n",
       "  </thead>\n",
       "  <tbody>\n",
       "    <tr>\n",
       "      <th>0</th>\n",
       "      <td>alabama</td>\n",
       "      <td>0.38</td>\n",
       "      <td>49</td>\n",
       "    </tr>\n",
       "    <tr>\n",
       "      <th>1</th>\n",
       "      <td>alaska</td>\n",
       "      <td>1.14</td>\n",
       "      <td>16</td>\n",
       "    </tr>\n",
       "    <tr>\n",
       "      <th>2</th>\n",
       "      <td>arizona</td>\n",
       "      <td>0.52</td>\n",
       "      <td>45</td>\n",
       "    </tr>\n",
       "    <tr>\n",
       "      <th>3</th>\n",
       "      <td>arkansas</td>\n",
       "      <td>0.57</td>\n",
       "      <td>38</td>\n",
       "    </tr>\n",
       "    <tr>\n",
       "      <th>4</th>\n",
       "      <td>california</td>\n",
       "      <td>0.71</td>\n",
       "      <td>35</td>\n",
       "    </tr>\n",
       "  </tbody>\n",
       "</table>\n",
       "</div>"
      ],
      "text/plain": [
       "        state  property_tax  rank\n",
       "0     alabama          0.38    49\n",
       "1      alaska          1.14    16\n",
       "2     arizona          0.52    45\n",
       "3    arkansas          0.57    38\n",
       "4  california          0.71    35"
      ]
     },
     "metadata": {},
     "output_type": "display_data"
    }
   ],
   "source": [
    "property_taxes = pd.read_csv('files/propertytax-by-state.csv')\n",
    "property_taxes.columns = [i.strip().lower().replace(' ', '_').replace('(', '').replace(')', '') for i in property_taxes.columns]\n",
    "property_taxes['state'] = property_taxes['state'].str.lower()\n",
    "property_taxes = property_taxes.drop(columns=['effective_tax_rate_2022'])\n",
    "property_taxes['effective_tax_rate_2023'] = property_taxes['effective_tax_rate_2023'].str.replace('%', '').astype(float)\n",
    "property_taxes = property_taxes.rename(columns={\n",
    "    \"effective_tax_rate_2023\": \"property_tax\"})\n",
    "display(property_taxes.columns.tolist())\n",
    "display(property_taxes.dtypes)\n",
    "display(property_taxes.head(5))"
   ]
  },
  {
   "cell_type": "markdown",
   "id": "98b90bc7-e4ab-4662-972b-748a20d77dc9",
   "metadata": {},
   "source": [
    "## Data Cleaning"
   ]
  },
  {
   "cell_type": "code",
   "execution_count": 8,
   "id": "2f0a39df",
   "metadata": {},
   "outputs": [
    {
     "data": {
      "text/plain": [
       "brokered_by         4533\n",
       "status                 0\n",
       "price               1541\n",
       "bed               481317\n",
       "bath              511771\n",
       "acre_lot          325589\n",
       "street             10866\n",
       "city                1407\n",
       "state                  8\n",
       "zip_code             299\n",
       "house_size        568484\n",
       "prev_sold_date    734297\n",
       "dtype: int64"
      ]
     },
     "metadata": {},
     "output_type": "display_data"
    }
   ],
   "source": [
    "display(realtor_data.isnull().sum())"
   ]
  },
  {
   "cell_type": "code",
   "execution_count": 9,
   "id": "166a31cb",
   "metadata": {},
   "outputs": [
    {
     "data": {
      "text/plain": [
       "zip_code      0\n",
       "land_area     0\n",
       "water_area    0\n",
       "latitude      0\n",
       "longitude     0\n",
       "dtype: int64"
      ]
     },
     "metadata": {},
     "output_type": "display_data"
    }
   ],
   "source": [
    "display(zipcode_land.isnull().sum())"
   ]
  },
  {
   "cell_type": "markdown",
   "id": "b3c5c74a",
   "metadata": {},
   "source": [
    "Dropping rows with missing 'zip_code' since it can't be reliably filled in"
   ]
  },
  {
   "cell_type": "code",
   "execution_count": 10,
   "id": "1ee9232c",
   "metadata": {},
   "outputs": [],
   "source": [
    "realtor_data = realtor_data.dropna(subset=['zip_code'])"
   ]
  },
  {
   "attachments": {},
   "cell_type": "markdown",
   "id": "c2528df2",
   "metadata": {},
   "source": [
    "Filling NaN values of `price` steps:\n",
    "\n",
    "1) Fill in missing prices with median zip code prices\n",
    "\n",
    "2) Fill in missing prices with median state prices if the zip code group has all missing values\n",
    "\n",
    "3) Fill in missing prices with global median prices as a final fallback"
   ]
  },
  {
   "cell_type": "code",
   "execution_count": 11,
   "id": "5994edcf",
   "metadata": {},
   "outputs": [],
   "source": [
    "# 1)\n",
    "zip_price = realtor_data.groupby('zip_code')['price'].median()\n",
    "realtor_data['price'] = realtor_data['price'].fillna(realtor_data['zip_code'].map(zip_price))\n",
    "\n",
    "# 2)\n",
    "state_price = realtor_data.groupby('state')['price'].median()\n",
    "realtor_data['price'] = realtor_data['price'].fillna(realtor_data['state'].map(state_price))\n",
    "\n",
    "# 3)\n",
    "global_price_median = realtor_data['price'].median()\n",
    "realtor_data['price'] = realtor_data['price'].fillna(global_price_median)"
   ]
  },
  {
   "attachments": {},
   "cell_type": "markdown",
   "id": "e981bfb8",
   "metadata": {},
   "source": [
    "Filling NaN values of `bed` and `bath` steps:\n",
    "\n",
    "1) Fill in missing beds and baths with median zip code beds and baths\n",
    "\n",
    "2) Fill in missing beds and baths with median state beds and baths if the zip code group has all missing values\n",
    "\n",
    "3) Fill in missing beds and baths with global median beds and baths as a final fallback"
   ]
  },
  {
   "cell_type": "code",
   "execution_count": 12,
   "id": "dd94e530",
   "metadata": {},
   "outputs": [],
   "source": [
    "# 1)\n",
    "zip_bed = realtor_data.groupby('zip_code')['bed'].median()\n",
    "zip_bath = realtor_data.groupby('zip_code')['bath'].median()\n",
    "realtor_data['bed'] = realtor_data['bed'].fillna(realtor_data['zip_code'].map(zip_bed))\n",
    "realtor_data['bath'] = realtor_data['bath'].fillna(realtor_data['zip_code'].map(zip_bath))\n",
    "\n",
    "# 2)\n",
    "state_bed = realtor_data.groupby('state')['bed'].median()\n",
    "state_bath = realtor_data.groupby('state')['bath'].median()\n",
    "realtor_data['bed'] = realtor_data['bed'].fillna(realtor_data['state'].map(state_bed))\n",
    "realtor_data['bath'] = realtor_data['bath'].fillna(realtor_data['state'].map(state_bath))\n",
    "\n",
    "# 3)\n",
    "global_bed_median = realtor_data['bed'].median()\n",
    "global_bath_median = realtor_data['bath'].median()\n",
    "realtor_data['bed'] = realtor_data['bed'].fillna(global_bed_median)\n",
    "realtor_data['bath'] = realtor_data['bath'].fillna(global_bath_median)"
   ]
  },
  {
   "attachments": {},
   "cell_type": "markdown",
   "id": "b4d9af1d",
   "metadata": {},
   "source": [
    "Filling NaN values of `acre_lot` steps:\n",
    "\n",
    "1) Fill in missing acreage with median zip code acreage\n",
    "\n",
    "2) Fill in missing acreage with median state acreage if the zip code group has all missing values\n",
    "\n",
    "3) Fill in missing acreage with global median acreage as a final fallback"
   ]
  },
  {
   "cell_type": "code",
   "execution_count": 13,
   "id": "f6e83cb5",
   "metadata": {},
   "outputs": [],
   "source": [
    "# 1)\n",
    "zip_acre = realtor_data.groupby('zip_code')['acre_lot'].median()\n",
    "realtor_data['acre_lot'] = realtor_data['acre_lot'].fillna(realtor_data['zip_code'].map(zip_acre))\n",
    "\n",
    "# 2)\n",
    "state_acre = realtor_data.groupby('state')['acre_lot'].median()\n",
    "realtor_data['acre_lot'] = realtor_data['acre_lot'].fillna(realtor_data['state'].map(state_acre))\n",
    "\n",
    "# 3)\n",
    "global_acre_median = realtor_data['acre_lot'].median()\n",
    "realtor_data['acre_lot'] = realtor_data['acre_lot'].fillna(global_acre_median)"
   ]
  },
  {
   "attachments": {},
   "cell_type": "markdown",
   "id": "2dac0f2e",
   "metadata": {},
   "source": [
    "Filling missing states with `Guam` because the zipcode 96999 is found in Guam1. Filtering `state` to only include US states and Washington DC and remove US territories and else (e.g. New Brunswick is a Canadian province)$^1$"
   ]
  },
  {
   "cell_type": "code",
   "execution_count": 14,
   "id": "45e1be7c",
   "metadata": {},
   "outputs": [],
   "source": [
    "non_us_states = ['puerto rico', 'virgin islands', 'guam', 'new brunswick']\n",
    "realtor_data['state'] = realtor_data['state'].fillna('guam')\n",
    "realtor_data = realtor_data[~realtor_data['state'].isin(non_us_states)].reset_index(drop=True)"
   ]
  },
  {
   "cell_type": "markdown",
   "id": "6d2c9ca2",
   "metadata": {},
   "source": [
    "Filling NaN values of `city` steps:\n",
    "\n",
    "1) Fill in missing cities using zip code\n",
    "\n",
    "2) Fill in missing acreage with state if the zip code group has all missing values\n",
    "\n",
    "3) Drop rows where city is still missing as a final fallback"
   ]
  },
  {
   "cell_type": "code",
   "execution_count": 15,
   "id": "6443bfbe",
   "metadata": {},
   "outputs": [],
   "source": [
    "# 1)\n",
    "zip_to_city = realtor_data.groupby('zip_code')['city'].agg(lambda x: x.mode()[0] if not x.mode().empty else None)\n",
    "realtor_data['city'] = realtor_data['city'].fillna(realtor_data['zip_code'].map(zip_to_city))\n",
    "\n",
    "# 2)\n",
    "state_to_city = realtor_data.groupby('state')['city'].agg(lambda x: x.mode()[0] if not x.mode().empty else None)\n",
    "realtor_data['city'] = realtor_data['city'].fillna(realtor_data['state'].map(state_to_city))\n",
    "\n",
    "# 3)\n",
    "realtor_data.dropna(subset=['city'], inplace=True)"
   ]
  },
  {
   "attachments": {},
   "cell_type": "markdown",
   "id": "77d58b50",
   "metadata": {},
   "source": [
    "Filling NaN values of `house_size` steps:\n",
    "\n",
    "1) Fill in missing house sizes using zip code\n",
    "\n",
    "2) Fill in missing house sizes with city if the zip code group has all missing values + created temporary `city_state` column to avoid city name ambiguity\n",
    "\n",
    "3) Fill in missing house sizes with state as a final fallback"
   ]
  },
  {
   "cell_type": "code",
   "execution_count": 16,
   "id": "7060e4f5",
   "metadata": {},
   "outputs": [],
   "source": [
    "# 1)\n",
    "zip_size = realtor_data.groupby('zip_code')['house_size'].median()\n",
    "realtor_data['house_size'] = realtor_data['house_size'].fillna(realtor_data['zip_code'].map(zip_size))\n",
    "\n",
    "# 2)\n",
    "realtor_data['city_state'] = realtor_data['city'] + ', ' + realtor_data['state']\n",
    "city_state_size = realtor_data.groupby(['city', 'state'])['house_size'].median()\n",
    "realtor_data['house_size'] = realtor_data['house_size'].fillna(realtor_data['city_state'].map(city_state_size))\n",
    "\n",
    "# 3)\n",
    "state_size = realtor_data.groupby('state')['house_size'].median()\n",
    "realtor_data['house_size'] = realtor_data['house_size'].fillna(realtor_data['state'].map(state_size))"
   ]
  },
  {
   "cell_type": "markdown",
   "id": "20f13ac4",
   "metadata": {},
   "source": [
    "Convert `prev_sold_date` to datetime"
   ]
  },
  {
   "cell_type": "code",
   "execution_count": 17,
   "id": "e8ec4481",
   "metadata": {},
   "outputs": [],
   "source": [
    "realtor_data['prev_sold_date'] = pd.to_datetime(realtor_data['prev_sold_date'], errors='coerce')"
   ]
  },
  {
   "attachments": {},
   "cell_type": "markdown",
   "id": "5832f993",
   "metadata": {},
   "source": [
    "Given that there are over 700_000 NaN values of `prev_sold_date`, these null values most likely exist represent that the homes have never been sold before, therefore we will create a binary indicator column `first_sale` where a 1 represents if the home has never been sold before (the NaN values) and 0 if it has (the non-NaN values)."
   ]
  },
  {
   "cell_type": "code",
   "execution_count": 18,
   "id": "2d07bb12",
   "metadata": {},
   "outputs": [],
   "source": [
    "realtor_data['first_time'] = np.where(realtor_data['prev_sold_date'].isna(), 1, 0)\n",
    "realtor_data['first_time'] = realtor_data['first_time'].astype('category')"
   ]
  },
  {
   "attachments": {},
   "cell_type": "markdown",
   "id": "9c6eed57",
   "metadata": {},
   "source": [
    "Given that there were `prev_sold_date` dates that happened after the dataset `usa real estate data` was last updated, which was in 2024, those dates will be made NaN"
   ]
  },
  {
   "cell_type": "code",
   "execution_count": 19,
   "id": "113f0295",
   "metadata": {},
   "outputs": [],
   "source": [
    "realtor_data.loc[realtor_data['prev_sold_date'] > '2024-01-01', 'prev_sold_date'] = pd.NaT"
   ]
  },
  {
   "attachments": {},
   "cell_type": "markdown",
   "id": "78d67f3c",
   "metadata": {},
   "source": [
    "Filling NaN values of `prev_sold_date` steps:\n",
    "\n",
    "1) Fill in missing previous sold dates using zip code\n",
    "\n",
    "2) Fill in missing previous sold dates with city_state if the zip code group has all missing values\n",
    "\n",
    "3) Fill in missing previous sold dates with state\n",
    "\n",
    "4) Fill in missing previous sold dates with global median as a final fallback\n",
    "\n",
    "drop `city_state` since it was a temporary column and we have cleaned the missing values of all of the features"
   ]
  },
  {
   "cell_type": "code",
   "execution_count": 20,
   "id": "f22361c4",
   "metadata": {},
   "outputs": [],
   "source": [
    "# 1)\n",
    "zip_date = realtor_data.groupby('zip_code')['prev_sold_date'].median()\n",
    "realtor_data['prev_sold_date'] = realtor_data['prev_sold_date'].fillna(realtor_data['zip_code'].map(zip_date))\n",
    "\n",
    "# 2)\n",
    "city_state_date = realtor_data.groupby(['city', 'state'])['prev_sold_date'].median()\n",
    "realtor_data['prev_sold_date'] = realtor_data['prev_sold_date'].fillna(realtor_data['city_state'].map(city_state_date))\n",
    "\n",
    "# 3)\n",
    "state_date = realtor_data.groupby('state')['prev_sold_date'].median()\n",
    "realtor_data['prev_sold_date'] = realtor_data['prev_sold_date'].fillna(realtor_data['state'].map(state_date))\n",
    "\n",
    "# 4) \n",
    "prev_sold_date_median = realtor_data['prev_sold_date'].median()\n",
    "realtor_data['prev_sold_date'] = realtor_data['prev_sold_date'].fillna(prev_sold_date_median)\n",
    "\n",
    "# dropped temp col\n",
    "realtor_data.drop(columns=['city_state'], inplace=True)"
   ]
  },
  {
   "cell_type": "markdown",
   "id": "ac51d105",
   "metadata": {},
   "source": [
    "Cleaning up and normalizing the values of the categorical features"
   ]
  },
  {
   "cell_type": "code",
   "execution_count": 21,
   "id": "08eb4cdd",
   "metadata": {},
   "outputs": [],
   "source": [
    "categorical_cols = ['status', 'city', 'state']\n",
    "realtor_data['status'] = realtor_data['status'].apply(lambda x: x.replace('_', ' '))\n",
    "realtor_data[categorical_cols] = realtor_data[categorical_cols].apply(lambda x: x.str.strip().str.lower())"
   ]
  },
  {
   "cell_type": "markdown",
   "id": "3005d70f",
   "metadata": {},
   "source": [
    "Changing types of `zip_code`, `bed`, `bath`, and `house_size` to `int`"
   ]
  },
  {
   "cell_type": "code",
   "execution_count": 22,
   "id": "e20addd3",
   "metadata": {},
   "outputs": [],
   "source": [
    "int_cols = ['bed', 'bath', 'house_size']\n",
    "realtor_data[int_cols] = realtor_data[int_cols].astype(int)"
   ]
  },
  {
   "cell_type": "markdown",
   "id": "021ba25d",
   "metadata": {},
   "source": [
    "Convert both the categorically encoded features `brokered_by` and `street` to strings and fill the NaN values with 'Not Specified'"
   ]
  },
  {
   "cell_type": "code",
   "execution_count": 23,
   "id": "30ef6f23",
   "metadata": {},
   "outputs": [],
   "source": [
    "realtor_data['brokered_by'] = realtor_data['brokered_by'].astype(str)\n",
    "realtor_data['brokered_by'].fillna('Not Specified', inplace=True)\n",
    "\n",
    "realtor_data['street'] = realtor_data['street'].astype(str)\n",
    "realtor_data['street'].fillna('Not Specified', inplace=True)"
   ]
  },
  {
   "cell_type": "markdown",
   "id": "6a5f9d78",
   "metadata": {},
   "source": [
    "Changing types of the categorically encoded features and `zip_code` to `str`"
   ]
  },
  {
   "cell_type": "code",
   "execution_count": 24,
   "id": "5171017a",
   "metadata": {},
   "outputs": [],
   "source": [
    "id_changer = lambda x: x.split('.')[0]\n",
    "\n",
    "realtor_data['brokered_by'] = realtor_data['brokered_by'].astype(str).apply(id_changer)\n",
    "realtor_data['street'] = realtor_data['street'].astype(str).apply(id_changer)\n",
    "realtor_data['zip_code'] = realtor_data['zip_code'].astype(str).apply(id_changer)"
   ]
  },
  {
   "cell_type": "markdown",
   "id": "d0b0d1ca",
   "metadata": {},
   "source": [
    "Drop duplicates"
   ]
  },
  {
   "cell_type": "code",
   "execution_count": 25,
   "id": "f54ac886-96c7-4426-a39f-f90d85a1733d",
   "metadata": {
    "scrolled": true
   },
   "outputs": [],
   "source": [
    "realtor_data = realtor_data.drop_duplicates(keep='first')"
   ]
  },
  {
   "attachments": {},
   "cell_type": "markdown",
   "id": "6de0b1f0",
   "metadata": {},
   "source": [
    "Merging the dataframe `zipcode_land` onto `realtor_data` to include `land_area` (in sq. miles), `water_area` (in sq. miles), and latitude & longitude for each `zip_code`."
   ]
  },
  {
   "cell_type": "code",
   "execution_count": 26,
   "id": "8e6154c6",
   "metadata": {},
   "outputs": [],
   "source": [
    "realtor_data = realtor_data.merge(zipcode_land, on=\"zip_code\", how=\"left\")"
   ]
  },
  {
   "attachments": {},
   "cell_type": "markdown",
   "id": "49e4691c",
   "metadata": {},
   "source": [
    "Merging the dataframe `zipcode_pop` onto `realtor_data` to include `population` and\t`density` for each `zip_code`."
   ]
  },
  {
   "cell_type": "code",
   "execution_count": 27,
   "id": "42e3d3be",
   "metadata": {},
   "outputs": [],
   "source": [
    "realtor_data = realtor_data.merge(zipcode_pop, on='zip_code', how='left')"
   ]
  },
  {
   "cell_type": "markdown",
   "id": "0b8c7c20",
   "metadata": {},
   "source": [
    "* Replacing `city` and `state` values with non-missing `City` and `St` values from `zipcode_pop` for cases where `zipcode_land` data was missing. Missing values in `zipcode_land` occured when there was an incorrect zipcode assignment--Kent, Washington, being incorrectly linked to a Los Angeles-area zipcode—-or a zipcode covered a niche area, such as Hat Island in Washington.\n",
    "\n",
    "* Filling in most of the missing `latitude` and `longitude` values with `lat` and `long` from `zipcode_pop`, as both datasets were merged based on zip code.\n",
    "\n",
    "* Since I used the `City`, `St`, `lat`, and `long` from `zipcode_pop` to help clean up the dataset more, they are no longer necessary."
   ]
  },
  {
   "cell_type": "code",
   "execution_count": 28,
   "id": "2adfeb5d",
   "metadata": {},
   "outputs": [],
   "source": [
    "realtor_data.loc[(realtor_data['land_area'].isna()) & (realtor_data['City'].notna()), 'city'] = realtor_data['City']\n",
    "realtor_data.loc[(realtor_data['land_area'].isna()) & (realtor_data['St'].notna()), 'state'] = realtor_data['St']\n",
    "\n",
    "realtor_data.loc[realtor_data['latitude'].isna(), 'latitude'] = realtor_data.loc[realtor_data['latitude'].isna(), 'lat']\n",
    "realtor_data.loc[realtor_data['longitude'].isna(), 'longitude'] = realtor_data.loc[realtor_data['longitude'].isna(), 'long']\n",
    "\n",
    "realtor_data = realtor_data.drop(columns=['City', 'St', 'lat', 'long'])"
   ]
  },
  {
   "attachments": {},
   "cell_type": "markdown",
   "id": "9f0266d2",
   "metadata": {},
   "source": [
    "Merging the dataframe `crime_data` onto `realtor_data` to include crime statistics for each `city_state` (a combinationation of city and state as a temp identifier)."
   ]
  },
  {
   "cell_type": "code",
   "execution_count": 29,
   "id": "91847aac",
   "metadata": {},
   "outputs": [],
   "source": [
    "realtor_data['city_state'] = realtor_data['city']+', '+realtor_data['state']\n",
    "crime_data['city_state'] = crime_data['city']+', '+crime_data['state']\n",
    "realtor_data = realtor_data.merge(crime_data, on='city_state', how='left')"
   ]
  },
  {
   "attachments": {},
   "cell_type": "markdown",
   "id": "e9713b41",
   "metadata": {},
   "source": [
    "Getting rid of additional columns from the merge that are unnecessary and filtering `population` to only keep rows properties where the city has a population above 0."
   ]
  },
  {
   "cell_type": "code",
   "execution_count": 30,
   "id": "cb0f5902",
   "metadata": {},
   "outputs": [],
   "source": [
    "realtor_data = realtor_data.drop(columns=['city_state', 'state_y', 'city_y', 'population_y'])\n",
    "realtor_data = realtor_data.rename(columns={\n",
    "    \"city_x\": \"city\",\n",
    "    \"state_x\": \"state\",\n",
    "    \"population_x\": \"population\"})\n",
    "realtor_data = realtor_data[realtor_data['population'] > 0]"
   ]
  },
  {
   "attachments": {},
   "cell_type": "markdown",
   "id": "7b05a763",
   "metadata": {},
   "source": [
    "Filling some NaN values of `land_area`, `water_area`, `latitude`, and `longitude` with the median for each (`city`, `state`) group"
   ]
  },
  {
   "cell_type": "code",
   "execution_count": 31,
   "id": "ca74a255",
   "metadata": {},
   "outputs": [],
   "source": [
    "city_state_medians = realtor_data.groupby(['city', 'state'])[['land_area', 'water_area', 'latitude', 'longitude']].median()\n",
    "realtor_data = realtor_data.merge(city_state_medians, on=['city', 'state'], suffixes=('', '_median'))\n",
    "for i in ['land_area', 'water_area', 'latitude', 'longitude']:\n",
    "    realtor_data[i].fillna(realtor_data[f\"{i}_median\"], inplace=True)\n",
    "realtor_data.drop(columns=[f\"{i}_median\" for i in ['land_area', 'water_area', 'latitude', 'longitude']], inplace=True)"
   ]
  },
  {
   "attachments": {},
   "cell_type": "markdown",
   "id": "2fd98e35",
   "metadata": {},
   "source": [
    "Dropping the remaining rows where `latitude` and `longitude` are missing, as these correspond to non-existent areas, such as out of county, louisiana or out of county, california, or remote locations such as Naukati Bay, Alaska, or Kasaan, Alaska."
   ]
  },
  {
   "cell_type": "code",
   "execution_count": 32,
   "id": "09f1a258",
   "metadata": {},
   "outputs": [],
   "source": [
    "realtor_data = realtor_data.dropna(subset=['latitude', 'longitude'])"
   ]
  },
  {
   "attachments": {},
   "cell_type": "markdown",
   "id": "e336fece",
   "metadata": {},
   "source": [
    "Haversine function to calculate the great-circle distance between two coordinates in miles where 3958.8 is the Earth's radius in miles"
   ]
  },
  {
   "cell_type": "code",
   "execution_count": 33,
   "id": "1d7bb1cb",
   "metadata": {},
   "outputs": [],
   "source": [
    "def haversine(lat1, lon1, lat2, lon2):\n",
    "    R = 3958.8\n",
    "    lat1, lon1, lat2, lon2 = map(np.radians, [lat1, lon1, lat2, lon2])\n",
    "    dlat = lat2 - lat1\n",
    "    dlon = lon2 - lon1\n",
    "    a = np.sin(dlat / 2)**2 + np.cos(lat1) * np.cos(lat2) * np.sin(dlon / 2)**2\n",
    "    c = 2 * np.arctan2(np.sqrt(a), np.sqrt(1 - a))\n",
    "    return R * c"
   ]
  },
  {
   "attachments": {},
   "cell_type": "markdown",
   "id": "d33f2e5e",
   "metadata": {},
   "source": [
    "Merging `uni_data` onto `realtor_data` by grouping by zip code and computing the nearest university once for each unique zip code using the haversine distance formula and creating the features `closest_uni_name`, `closest_uni_lat`, `closest_uni_lon`, `closest_uni_zip`, `closest_uni_obereg`, `closest_uni_hloffer`, and `distance_to_uni` (sq miles)."
   ]
  },
  {
   "cell_type": "code",
   "execution_count": 34,
   "id": "e1db9cc2",
   "metadata": {},
   "outputs": [
    {
     "name": "stderr",
     "output_type": "stream",
     "text": [
      "100%|██████████| 29835/29835 [00:28<00:00, 1062.77it/s]\n"
     ]
    }
   ],
   "source": [
    "zip_coords = realtor_data[['zip_code', 'latitude', 'longitude']].dropna().drop_duplicates()\n",
    "\n",
    "zip_to_uni = {}\n",
    "for _, zip_row in tqdm(zip_coords.iterrows(), total=len(zip_coords)):\n",
    "    lat1, lon1 = zip_row['latitude'], zip_row['longitude']\n",
    "    uni_data['distance'] = haversine(lat1, lon1, uni_data['latitude'], uni_data['longitud'])\n",
    "    nearest_uni = uni_data.loc[uni_data['distance'].idxmin()]\n",
    "    zip_to_uni[zip_row['zip_code']] = {\n",
    "        'closest_uni_name': nearest_uni['instnm'],\n",
    "        'closest_uni_lat': nearest_uni['latitude'],\n",
    "        'closest_uni_lon': nearest_uni['longitud'],\n",
    "        'closest_uni_zip': nearest_uni['zip'],\n",
    "        'closest_uni_obereg': nearest_uni['obereg'],\n",
    "        'closest_uni_hloffer': nearest_uni['hloffer'],\n",
    "        'distance_to_uni': nearest_uni['distance']}\n",
    "zip_uni_df = pd.DataFrame.from_dict(zip_to_uni, orient='index').reset_index().rename(columns={'index': 'zip_code'})\n",
    "\n",
    "realtor_data = realtor_data.merge(zip_uni_df, on='zip_code', how='left')\n",
    "realtor_data['distance_to_uni'] = realtor_data['distance_to_uni'].apply(lambda x: x**2)\n",
    "realtor_data['closest_uni_hloffer'] = realtor_data['closest_uni_hloffer'].astype('category')\n",
    "realtor_data['closest_uni_obereg'] = realtor_data['closest_uni_obereg'].astype('category')"
   ]
  },
  {
   "attachments": {},
   "cell_type": "markdown",
   "id": "31b95cd9",
   "metadata": {},
   "source": [
    "Creating a new feature `median_zip_price`, which represents the median price of homes in the zip code (helps compare listing prices to the market norm)."
   ]
  },
  {
   "cell_type": "code",
   "execution_count": 35,
   "id": "8b31405b",
   "metadata": {},
   "outputs": [],
   "source": [
    "median_zip_price = realtor_data[realtor_data['status'] == 'for sale'].groupby('zip_code')['price'].median().reset_index(name='median_zip_price')\n",
    "realtor_data = realtor_data.merge(median_zip_price, on=\"zip_code\", how=\"left\")"
   ]
  },
  {
   "attachments": {},
   "cell_type": "markdown",
   "id": "aa29368c",
   "metadata": {},
   "source": [
    "Creating a new feature `inventory_count`, which represents the number of homes available for sale (low inventory → higher prices) by zip code."
   ]
  },
  {
   "cell_type": "code",
   "execution_count": 36,
   "id": "2ea1af2e",
   "metadata": {},
   "outputs": [],
   "source": [
    "inventory_count = realtor_data[realtor_data['status'] == 'for sale'].groupby('zip_code').size().reset_index(name='inventory_count')\n",
    "realtor_data = realtor_data.merge(inventory_count, on=\"zip_code\", how=\"left\")"
   ]
  },
  {
   "attachments": {},
   "cell_type": "markdown",
   "id": "6123e907",
   "metadata": {},
   "source": [
    "Merging the nearest zip code (with available crime data) onto `realtor_data` by calculating the nearest zip code for each unique zip code using the haversine distance formula and creating the features `nearest_zip` and `nearest_zip_distance` (sq miles)."
   ]
  },
  {
   "cell_type": "code",
   "execution_count": 37,
   "id": "8271d397",
   "metadata": {},
   "outputs": [
    {
     "name": "stderr",
     "output_type": "stream",
     "text": [
      "100%|██████████| 29835/29835 [00:57<00:00, 522.93it/s]\n"
     ]
    }
   ],
   "source": [
    "zip_coords = realtor_data[['zip_code', 'latitude', 'longitude']].drop_duplicates()\n",
    "ref_zips = realtor_data[~realtor_data['violent_crime'].isnull()][['zip_code', 'latitude', 'longitude']].drop_duplicates()\n",
    "\n",
    "nearest_zip_map = {}\n",
    "for _, zip_row in tqdm(zip_coords.iterrows(), total=len(zip_coords)):\n",
    "    lat1, lon1 = zip_row['latitude'], zip_row['longitude']\n",
    "    current_zip = zip_row['zip_code']\n",
    "    candidate_zips = ref_zips[ref_zips['zip_code'] != current_zip].copy()\n",
    "    if not candidate_zips.empty:\n",
    "        candidate_zips['distance'] = haversine(lat1, lon1, candidate_zips['latitude'], candidate_zips['longitude'])\n",
    "        nearest_zip = candidate_zips.loc[candidate_zips['distance'].idxmin()]\n",
    "        nearest_zip_map[current_zip] = {'nearest_zip': nearest_zip['zip_code'], 'nearest_zip_distance': nearest_zip['distance']}\n",
    "    else:\n",
    "        nearest_zip_map[current_zip] = {'nearest_zip': np.nan, 'nearest_zip_distance': np.nan}\n",
    "\n",
    "nearest_zip_df = pd.DataFrame.from_dict(nearest_zip_map, orient='index').reset_index().rename(columns={'index': 'zip_code'})\n",
    "realtor_data = realtor_data.merge(nearest_zip_df, on='zip_code', how='left')\n",
    "realtor_data['nearest_zip_distance'] = realtor_data['nearest_zip_distance'].apply(lambda x: x**2)"
   ]
  },
  {
   "attachments": {},
   "cell_type": "markdown",
   "id": "73c19034",
   "metadata": {},
   "source": [
    "Filling NaN values of `violent_crime` and `property_crime` steps:\n",
    "\n",
    "1) Fill in missing violent crime and property crime numbers using nearest zip code's violent_crime and property_crime numbers\n",
    "\n",
    "2) Fill in missing violent crime and property crime numbers using state violent_crime and property_crime numbers as a final fallback"
   ]
  },
  {
   "cell_type": "code",
   "execution_count": 38,
   "id": "00a73c39",
   "metadata": {},
   "outputs": [],
   "source": [
    "zip_violent_crime = realtor_data.groupby('nearest_zip')['violent_crime'].median()\n",
    "realtor_data['violent_crime'] = realtor_data['violent_crime'].fillna(realtor_data['nearest_zip'].map(zip_violent_crime))\n",
    "state_violent_crime = realtor_data.groupby('state')['violent_crime'].median()\n",
    "realtor_data['violent_crime'] = realtor_data['violent_crime'].fillna(realtor_data['state'].map(state_violent_crime))\n",
    "\n",
    "zip_property_crime = realtor_data.groupby('nearest_zip')['property_crime'].median()\n",
    "realtor_data['property_crime'] = realtor_data['property_crime'].fillna(realtor_data['nearest_zip'].map(zip_property_crime))\n",
    "state_property_crime = realtor_data.groupby('state')['property_crime'].median()\n",
    "realtor_data['property_crime'] = realtor_data['property_crime'].fillna(realtor_data['state'].map(state_property_crime))\n",
    "\n",
    "realtor_data['total_crime'] = realtor_data['violent_crime'] + realtor_data['property_crime']"
   ]
  },
  {
   "attachments": {},
   "cell_type": "markdown",
   "id": "9b3aa8e8",
   "metadata": {},
   "source": [
    "Creating new feature `total_crime` that sums up total `violent_crime` numbers and `property_crime` numbers for a given zip code to calculate `crime_rate` which is based on the formula: $\\frac{\\#\\text{ of total crimes reported}}{\\text{population}}\\times 1,000$, meaning crime Rate per 1,000 inhabitants."
   ]
  },
  {
   "cell_type": "code",
   "execution_count": 39,
   "id": "468eb6ef",
   "metadata": {},
   "outputs": [],
   "source": [
    "realtor_data['total_crime'] = realtor_data['violent_crime'] + realtor_data['property_crime']\n",
    "realtor_data['crime_rate'] = (realtor_data['total_crime']/realtor_data['population'])*1_000"
   ]
  },
  {
   "attachments": {},
   "cell_type": "markdown",
   "id": "06da1ef9",
   "metadata": {},
   "source": [
    "Filling NaN values of `land_area` and `water_area` steps:\n",
    "\n",
    "1) Fill in missing land_area and water_area sq miles using nearest zip code's land_area and water_area sq miles\n",
    "\n",
    "2) Fill in missing land_area and water_area sq miles using state land_area and water_area sq miles as a final fallback"
   ]
  },
  {
   "cell_type": "code",
   "execution_count": 40,
   "id": "e59fbce6",
   "metadata": {},
   "outputs": [],
   "source": [
    "zip_land_area = realtor_data.groupby('nearest_zip')['land_area'].median()\n",
    "realtor_data['land_area'] = realtor_data['land_area'].fillna(realtor_data['nearest_zip'].map(zip_land_area))\n",
    "state_land_area = realtor_data.groupby('state')['land_area'].median()\n",
    "realtor_data['land_area'] = realtor_data['land_area'].fillna(realtor_data['state'].map(state_land_area))\n",
    "\n",
    "zip_water_area = realtor_data.groupby('nearest_zip')['water_area'].median()\n",
    "realtor_data['water_area'] = realtor_data['water_area'].fillna(realtor_data['nearest_zip'].map(zip_water_area))\n",
    "state_water_area = realtor_data.groupby('state')['water_area'].median()\n",
    "realtor_data['water_area'] = realtor_data['water_area'].fillna(realtor_data['state'].map(state_water_area))"
   ]
  },
  {
   "attachments": {},
   "cell_type": "markdown",
   "id": "2286141f",
   "metadata": {},
   "source": [
    "Filling NaN values of `population` and `density` steps:\n",
    "\n",
    "1) Fill in missing land_area and water_area sq miles using nearest zip code's land_area and water_area sq miles\n",
    "\n",
    "2) Fill in missing land_area and water_area sq miles using state land_area and water_area sq miles as a final fallback"
   ]
  },
  {
   "cell_type": "code",
   "execution_count": 41,
   "id": "51c51600",
   "metadata": {},
   "outputs": [],
   "source": [
    "zip_pop = realtor_data.groupby('nearest_zip')['population'].median()\n",
    "realtor_data['population'] = realtor_data['population'].fillna(realtor_data['nearest_zip'].map(zip_pop))\n",
    "state_pop = realtor_data.groupby('state')['population'].median()\n",
    "realtor_data['population'] = realtor_data['population'].fillna(realtor_data['state'].map(state_pop))\n",
    "\n",
    "zip_density = realtor_data.groupby('nearest_zip')['density'].median()\n",
    "realtor_data['density'] = realtor_data['density'].fillna(realtor_data['nearest_zip'].map(zip_density))\n",
    "state_density = realtor_data.groupby('state')['density'].median()\n",
    "realtor_data['density'] = realtor_data['density'].fillna(realtor_data['state'].map(state_density))"
   ]
  },
  {
   "attachments": {},
   "cell_type": "markdown",
   "id": "d8868242",
   "metadata": {},
   "source": [
    "Filling NaN values of `median_zip_price` and `inventory_count` steps:\n",
    "\n",
    "1) Fill in missing median_zip_price and inventory_count using nearest zip code's median_zip_price and inventory_count numbers\n",
    "\n",
    "2) Fill in missing median_zip_price and inventory_count using state median_zip_price and inventory_count numbers as a final fallback"
   ]
  },
  {
   "cell_type": "code",
   "execution_count": 42,
   "id": "936d9165",
   "metadata": {},
   "outputs": [],
   "source": [
    "zip_median_zip_price = realtor_data.groupby('nearest_zip')['median_zip_price'].median()\n",
    "realtor_data['median_zip_price'] = realtor_data['median_zip_price'].fillna(realtor_data['nearest_zip'].map(zip_median_zip_price))\n",
    "state_median_zip_price = realtor_data.groupby('state')['median_zip_price'].median()\n",
    "realtor_data['median_zip_price'] = realtor_data['median_zip_price'].fillna(realtor_data['state'].map(state_median_zip_price))\n",
    "\n",
    "zip_inventory_count = realtor_data.groupby('nearest_zip')['inventory_count'].median()\n",
    "realtor_data['inventory_count'] = realtor_data['inventory_count'].fillna(realtor_data['nearest_zip'].map(zip_inventory_count))\n",
    "state_inventory_count = realtor_data.groupby('state')['inventory_count'].median()\n",
    "realtor_data['inventory_count'] = realtor_data['inventory_count'].fillna(realtor_data['state'].map(state_inventory_count))"
   ]
  },
  {
   "attachments": {},
   "cell_type": "markdown",
   "id": "ade3203e",
   "metadata": {},
   "source": [
    "Merging the dataframe `property_taxes` onto `realtor_data` to include property taxes for each state"
   ]
  },
  {
   "cell_type": "code",
   "execution_count": 43,
   "id": "fae952e0",
   "metadata": {},
   "outputs": [],
   "source": [
    "realtor_data = realtor_data.merge(property_taxes, on='state', how='left')"
   ]
  },
  {
   "cell_type": "code",
   "execution_count": 44,
   "id": "5bdcf3f3",
   "metadata": {},
   "outputs": [
    {
     "data": {
      "text/html": [
       "<div>\n",
       "<style scoped>\n",
       "    .dataframe tbody tr th:only-of-type {\n",
       "        vertical-align: middle;\n",
       "    }\n",
       "\n",
       "    .dataframe tbody tr th {\n",
       "        vertical-align: top;\n",
       "    }\n",
       "\n",
       "    .dataframe thead th {\n",
       "        text-align: right;\n",
       "    }\n",
       "</style>\n",
       "<table border=\"1\" class=\"dataframe\">\n",
       "  <thead>\n",
       "    <tr style=\"text-align: right;\">\n",
       "      <th></th>\n",
       "      <th>brokered_by</th>\n",
       "      <th>status</th>\n",
       "      <th>price</th>\n",
       "      <th>bed</th>\n",
       "      <th>bath</th>\n",
       "      <th>acre_lot</th>\n",
       "      <th>street</th>\n",
       "      <th>city</th>\n",
       "      <th>state</th>\n",
       "      <th>zip_code</th>\n",
       "      <th>house_size</th>\n",
       "      <th>prev_sold_date</th>\n",
       "      <th>first_time</th>\n",
       "      <th>land_area</th>\n",
       "      <th>water_area</th>\n",
       "      <th>latitude</th>\n",
       "      <th>longitude</th>\n",
       "      <th>population</th>\n",
       "      <th>density</th>\n",
       "      <th>violent_crime</th>\n",
       "      <th>property_crime</th>\n",
       "      <th>closest_uni_name</th>\n",
       "      <th>closest_uni_lat</th>\n",
       "      <th>closest_uni_lon</th>\n",
       "      <th>closest_uni_zip</th>\n",
       "      <th>closest_uni_obereg</th>\n",
       "      <th>closest_uni_hloffer</th>\n",
       "      <th>distance_to_uni</th>\n",
       "      <th>median_zip_price</th>\n",
       "      <th>inventory_count</th>\n",
       "      <th>nearest_zip</th>\n",
       "      <th>nearest_zip_distance</th>\n",
       "      <th>total_crime</th>\n",
       "      <th>crime_rate</th>\n",
       "      <th>property_tax</th>\n",
       "      <th>rank</th>\n",
       "    </tr>\n",
       "  </thead>\n",
       "  <tbody>\n",
       "    <tr>\n",
       "      <th>0</th>\n",
       "      <td>67832</td>\n",
       "      <td>for sale</td>\n",
       "      <td>180000.0</td>\n",
       "      <td>2</td>\n",
       "      <td>1</td>\n",
       "      <td>0.34</td>\n",
       "      <td>732726</td>\n",
       "      <td>agawam</td>\n",
       "      <td>massachusetts</td>\n",
       "      <td>1001</td>\n",
       "      <td>676</td>\n",
       "      <td>2021-11-30</td>\n",
       "      <td>1</td>\n",
       "      <td>11.292</td>\n",
       "      <td>0.821</td>\n",
       "      <td>42.062368</td>\n",
       "      <td>-72.625754</td>\n",
       "      <td>17621.0</td>\n",
       "      <td>562.8</td>\n",
       "      <td>76.0</td>\n",
       "      <td>521.0</td>\n",
       "      <td>bay path university</td>\n",
       "      <td>42.055088</td>\n",
       "      <td>-72.583382</td>\n",
       "      <td>01106</td>\n",
       "      <td>1</td>\n",
       "      <td>9</td>\n",
       "      <td>4.977823</td>\n",
       "      <td>242000.0</td>\n",
       "      <td>27.0</td>\n",
       "      <td>1030</td>\n",
       "      <td>10.391737</td>\n",
       "      <td>597.0</td>\n",
       "      <td>33.88003</td>\n",
       "      <td>1.11</td>\n",
       "      <td>17</td>\n",
       "    </tr>\n",
       "    <tr>\n",
       "      <th>1</th>\n",
       "      <td>97400</td>\n",
       "      <td>for sale</td>\n",
       "      <td>25000.0</td>\n",
       "      <td>3</td>\n",
       "      <td>2</td>\n",
       "      <td>3.41</td>\n",
       "      <td>1909493</td>\n",
       "      <td>agawam</td>\n",
       "      <td>massachusetts</td>\n",
       "      <td>1001</td>\n",
       "      <td>1397</td>\n",
       "      <td>2021-11-30</td>\n",
       "      <td>1</td>\n",
       "      <td>11.292</td>\n",
       "      <td>0.821</td>\n",
       "      <td>42.062368</td>\n",
       "      <td>-72.625754</td>\n",
       "      <td>17621.0</td>\n",
       "      <td>562.8</td>\n",
       "      <td>76.0</td>\n",
       "      <td>521.0</td>\n",
       "      <td>bay path university</td>\n",
       "      <td>42.055088</td>\n",
       "      <td>-72.583382</td>\n",
       "      <td>01106</td>\n",
       "      <td>1</td>\n",
       "      <td>9</td>\n",
       "      <td>4.977823</td>\n",
       "      <td>242000.0</td>\n",
       "      <td>27.0</td>\n",
       "      <td>1030</td>\n",
       "      <td>10.391737</td>\n",
       "      <td>597.0</td>\n",
       "      <td>33.88003</td>\n",
       "      <td>1.11</td>\n",
       "      <td>17</td>\n",
       "    </tr>\n",
       "    <tr>\n",
       "      <th>2</th>\n",
       "      <td>58796</td>\n",
       "      <td>for sale</td>\n",
       "      <td>169900.0</td>\n",
       "      <td>2</td>\n",
       "      <td>2</td>\n",
       "      <td>0.41</td>\n",
       "      <td>1194249</td>\n",
       "      <td>agawam</td>\n",
       "      <td>massachusetts</td>\n",
       "      <td>1001</td>\n",
       "      <td>892</td>\n",
       "      <td>2019-04-30</td>\n",
       "      <td>0</td>\n",
       "      <td>11.292</td>\n",
       "      <td>0.821</td>\n",
       "      <td>42.062368</td>\n",
       "      <td>-72.625754</td>\n",
       "      <td>17621.0</td>\n",
       "      <td>562.8</td>\n",
       "      <td>76.0</td>\n",
       "      <td>521.0</td>\n",
       "      <td>bay path university</td>\n",
       "      <td>42.055088</td>\n",
       "      <td>-72.583382</td>\n",
       "      <td>01106</td>\n",
       "      <td>1</td>\n",
       "      <td>9</td>\n",
       "      <td>4.977823</td>\n",
       "      <td>242000.0</td>\n",
       "      <td>27.0</td>\n",
       "      <td>1030</td>\n",
       "      <td>10.391737</td>\n",
       "      <td>597.0</td>\n",
       "      <td>33.88003</td>\n",
       "      <td>1.11</td>\n",
       "      <td>17</td>\n",
       "    </tr>\n",
       "    <tr>\n",
       "      <th>3</th>\n",
       "      <td>8147</td>\n",
       "      <td>for sale</td>\n",
       "      <td>242000.0</td>\n",
       "      <td>2</td>\n",
       "      <td>2</td>\n",
       "      <td>0.41</td>\n",
       "      <td>913299</td>\n",
       "      <td>agawam</td>\n",
       "      <td>massachusetts</td>\n",
       "      <td>1001</td>\n",
       "      <td>1428</td>\n",
       "      <td>2021-11-30</td>\n",
       "      <td>1</td>\n",
       "      <td>11.292</td>\n",
       "      <td>0.821</td>\n",
       "      <td>42.062368</td>\n",
       "      <td>-72.625754</td>\n",
       "      <td>17621.0</td>\n",
       "      <td>562.8</td>\n",
       "      <td>76.0</td>\n",
       "      <td>521.0</td>\n",
       "      <td>bay path university</td>\n",
       "      <td>42.055088</td>\n",
       "      <td>-72.583382</td>\n",
       "      <td>01106</td>\n",
       "      <td>1</td>\n",
       "      <td>9</td>\n",
       "      <td>4.977823</td>\n",
       "      <td>242000.0</td>\n",
       "      <td>27.0</td>\n",
       "      <td>1030</td>\n",
       "      <td>10.391737</td>\n",
       "      <td>597.0</td>\n",
       "      <td>33.88003</td>\n",
       "      <td>1.11</td>\n",
       "      <td>17</td>\n",
       "    </tr>\n",
       "    <tr>\n",
       "      <th>4</th>\n",
       "      <td>22700</td>\n",
       "      <td>for sale</td>\n",
       "      <td>299950.0</td>\n",
       "      <td>2</td>\n",
       "      <td>2</td>\n",
       "      <td>0.41</td>\n",
       "      <td>560791</td>\n",
       "      <td>agawam</td>\n",
       "      <td>massachusetts</td>\n",
       "      <td>1001</td>\n",
       "      <td>1659</td>\n",
       "      <td>2021-11-30</td>\n",
       "      <td>1</td>\n",
       "      <td>11.292</td>\n",
       "      <td>0.821</td>\n",
       "      <td>42.062368</td>\n",
       "      <td>-72.625754</td>\n",
       "      <td>17621.0</td>\n",
       "      <td>562.8</td>\n",
       "      <td>76.0</td>\n",
       "      <td>521.0</td>\n",
       "      <td>bay path university</td>\n",
       "      <td>42.055088</td>\n",
       "      <td>-72.583382</td>\n",
       "      <td>01106</td>\n",
       "      <td>1</td>\n",
       "      <td>9</td>\n",
       "      <td>4.977823</td>\n",
       "      <td>242000.0</td>\n",
       "      <td>27.0</td>\n",
       "      <td>1030</td>\n",
       "      <td>10.391737</td>\n",
       "      <td>597.0</td>\n",
       "      <td>33.88003</td>\n",
       "      <td>1.11</td>\n",
       "      <td>17</td>\n",
       "    </tr>\n",
       "  </tbody>\n",
       "</table>\n",
       "</div>"
      ],
      "text/plain": [
       "  brokered_by    status     price  bed  bath  acre_lot   street    city  \\\n",
       "0       67832  for sale  180000.0    2     1      0.34   732726  agawam   \n",
       "1       97400  for sale   25000.0    3     2      3.41  1909493  agawam   \n",
       "2       58796  for sale  169900.0    2     2      0.41  1194249  agawam   \n",
       "3        8147  for sale  242000.0    2     2      0.41   913299  agawam   \n",
       "4       22700  for sale  299950.0    2     2      0.41   560791  agawam   \n",
       "\n",
       "           state zip_code  house_size prev_sold_date first_time  land_area  \\\n",
       "0  massachusetts     1001         676     2021-11-30          1     11.292   \n",
       "1  massachusetts     1001        1397     2021-11-30          1     11.292   \n",
       "2  massachusetts     1001         892     2019-04-30          0     11.292   \n",
       "3  massachusetts     1001        1428     2021-11-30          1     11.292   \n",
       "4  massachusetts     1001        1659     2021-11-30          1     11.292   \n",
       "\n",
       "   water_area   latitude  longitude  population  density  violent_crime  \\\n",
       "0       0.821  42.062368 -72.625754     17621.0    562.8           76.0   \n",
       "1       0.821  42.062368 -72.625754     17621.0    562.8           76.0   \n",
       "2       0.821  42.062368 -72.625754     17621.0    562.8           76.0   \n",
       "3       0.821  42.062368 -72.625754     17621.0    562.8           76.0   \n",
       "4       0.821  42.062368 -72.625754     17621.0    562.8           76.0   \n",
       "\n",
       "   property_crime     closest_uni_name  closest_uni_lat  closest_uni_lon  \\\n",
       "0           521.0  bay path university        42.055088       -72.583382   \n",
       "1           521.0  bay path university        42.055088       -72.583382   \n",
       "2           521.0  bay path university        42.055088       -72.583382   \n",
       "3           521.0  bay path university        42.055088       -72.583382   \n",
       "4           521.0  bay path university        42.055088       -72.583382   \n",
       "\n",
       "  closest_uni_zip closest_uni_obereg closest_uni_hloffer  distance_to_uni  \\\n",
       "0           01106                  1                   9         4.977823   \n",
       "1           01106                  1                   9         4.977823   \n",
       "2           01106                  1                   9         4.977823   \n",
       "3           01106                  1                   9         4.977823   \n",
       "4           01106                  1                   9         4.977823   \n",
       "\n",
       "   median_zip_price  inventory_count nearest_zip  nearest_zip_distance  \\\n",
       "0          242000.0             27.0        1030             10.391737   \n",
       "1          242000.0             27.0        1030             10.391737   \n",
       "2          242000.0             27.0        1030             10.391737   \n",
       "3          242000.0             27.0        1030             10.391737   \n",
       "4          242000.0             27.0        1030             10.391737   \n",
       "\n",
       "   total_crime  crime_rate  property_tax  rank  \n",
       "0        597.0    33.88003          1.11    17  \n",
       "1        597.0    33.88003          1.11    17  \n",
       "2        597.0    33.88003          1.11    17  \n",
       "3        597.0    33.88003          1.11    17  \n",
       "4        597.0    33.88003          1.11    17  "
      ]
     },
     "execution_count": 44,
     "metadata": {},
     "output_type": "execute_result"
    }
   ],
   "source": [
    "realtor_data.head(5)"
   ]
  },
  {
   "cell_type": "code",
   "execution_count": 45,
   "id": "78891234",
   "metadata": {},
   "outputs": [
    {
     "data": {
      "text/plain": [
       "brokered_by             0\n",
       "status                  0\n",
       "price                   0\n",
       "bed                     0\n",
       "bath                    0\n",
       "acre_lot                0\n",
       "street                  0\n",
       "city                    0\n",
       "state                   0\n",
       "zip_code                0\n",
       "house_size              0\n",
       "prev_sold_date          0\n",
       "first_time              0\n",
       "land_area               0\n",
       "water_area              0\n",
       "latitude                0\n",
       "longitude               0\n",
       "population              0\n",
       "density                 0\n",
       "violent_crime           0\n",
       "property_crime          0\n",
       "closest_uni_name        0\n",
       "closest_uni_lat         0\n",
       "closest_uni_lon         0\n",
       "closest_uni_zip         0\n",
       "closest_uni_obereg      0\n",
       "closest_uni_hloffer     0\n",
       "distance_to_uni         0\n",
       "median_zip_price        0\n",
       "inventory_count         0\n",
       "nearest_zip             0\n",
       "nearest_zip_distance    0\n",
       "total_crime             0\n",
       "crime_rate              0\n",
       "property_tax            0\n",
       "rank                    0\n",
       "dtype: int64"
      ]
     },
     "metadata": {},
     "output_type": "display_data"
    }
   ],
   "source": [
    "display(realtor_data.isnull().sum())"
   ]
  },
  {
   "attachments": {},
   "cell_type": "markdown",
   "id": "aef92498-a891-488f-970a-11d134918062",
   "metadata": {},
   "source": [
    "Summary statistics + Outlier Removal"
   ]
  },
  {
   "cell_type": "markdown",
   "id": "96d29e03-58b5-43c3-9158-981c3d5b65fd",
   "metadata": {},
   "source": [
    "## EDA"
   ]
  },
  {
   "cell_type": "code",
   "execution_count": 46,
   "id": "427acada",
   "metadata": {},
   "outputs": [],
   "source": [
    "def winsorize_col(x, lower_quantile=0.01, upper_quantile=0.99):\n",
    "    lower = x.quantile(lower_quantile)\n",
    "    upper = x.quantile(upper_quantile)\n",
    "    return np.clip(x, lower, upper)"
   ]
  },
  {
   "cell_type": "code",
   "execution_count": 47,
   "id": "c180c86c-de93-4c8c-bce6-3522dd2ca83c",
   "metadata": {},
   "outputs": [
    {
     "data": {
      "text/html": [
       "<div>\n",
       "<style scoped>\n",
       "    .dataframe tbody tr th:only-of-type {\n",
       "        vertical-align: middle;\n",
       "    }\n",
       "\n",
       "    .dataframe tbody tr th {\n",
       "        vertical-align: top;\n",
       "    }\n",
       "\n",
       "    .dataframe thead th {\n",
       "        text-align: right;\n",
       "    }\n",
       "</style>\n",
       "<table border=\"1\" class=\"dataframe\">\n",
       "  <thead>\n",
       "    <tr style=\"text-align: right;\">\n",
       "      <th></th>\n",
       "      <th>count</th>\n",
       "      <th>mean</th>\n",
       "      <th>std</th>\n",
       "      <th>min</th>\n",
       "      <th>25%</th>\n",
       "      <th>50%</th>\n",
       "      <th>75%</th>\n",
       "      <th>max</th>\n",
       "    </tr>\n",
       "  </thead>\n",
       "  <tbody>\n",
       "    <tr>\n",
       "      <th>price</th>\n",
       "      <td>2220527.0</td>\n",
       "      <td>522776.664706</td>\n",
       "      <td>1581069.310109</td>\n",
       "      <td>0.0</td>\n",
       "      <td>165000.000</td>\n",
       "      <td>325000.000</td>\n",
       "      <td>550000.000</td>\n",
       "      <td>1000000000.0</td>\n",
       "    </tr>\n",
       "    <tr>\n",
       "      <th>bed</th>\n",
       "      <td>2220527.0</td>\n",
       "      <td>3.230458</td>\n",
       "      <td>1.407296</td>\n",
       "      <td>1.0</td>\n",
       "      <td>3.000</td>\n",
       "      <td>3.000</td>\n",
       "      <td>4.000</td>\n",
       "      <td>473.0</td>\n",
       "    </tr>\n",
       "    <tr>\n",
       "      <th>bath</th>\n",
       "      <td>2220527.0</td>\n",
       "      <td>2.434484</td>\n",
       "      <td>1.477724</td>\n",
       "      <td>1.0</td>\n",
       "      <td>2.000</td>\n",
       "      <td>2.000</td>\n",
       "      <td>3.000</td>\n",
       "      <td>830.0</td>\n",
       "    </tr>\n",
       "    <tr>\n",
       "      <th>acre_lot</th>\n",
       "      <td>2220527.0</td>\n",
       "      <td>12.969577</td>\n",
       "      <td>699.278383</td>\n",
       "      <td>0.0</td>\n",
       "      <td>0.150</td>\n",
       "      <td>0.250</td>\n",
       "      <td>0.760</td>\n",
       "      <td>100000.0</td>\n",
       "    </tr>\n",
       "    <tr>\n",
       "      <th>house_size</th>\n",
       "      <td>2220527.0</td>\n",
       "      <td>4134.642164</td>\n",
       "      <td>1157885.216121</td>\n",
       "      <td>4.0</td>\n",
       "      <td>1386.000</td>\n",
       "      <td>1764.000</td>\n",
       "      <td>2276.000</td>\n",
       "      <td>1040400400.0</td>\n",
       "    </tr>\n",
       "    <tr>\n",
       "      <th>land_area</th>\n",
       "      <td>2220527.0</td>\n",
       "      <td>79.252337</td>\n",
       "      <td>168.710580</td>\n",
       "      <td>0.0</td>\n",
       "      <td>10.153</td>\n",
       "      <td>30.988</td>\n",
       "      <td>86.787</td>\n",
       "      <td>13680.1</td>\n",
       "    </tr>\n",
       "    <tr>\n",
       "      <th>water_area</th>\n",
       "      <td>2220527.0</td>\n",
       "      <td>2.570152</td>\n",
       "      <td>9.497591</td>\n",
       "      <td>0.0</td>\n",
       "      <td>0.064</td>\n",
       "      <td>0.436</td>\n",
       "      <td>1.872</td>\n",
       "      <td>1426.1</td>\n",
       "    </tr>\n",
       "    <tr>\n",
       "      <th>latitude</th>\n",
       "      <td>2220527.0</td>\n",
       "      <td>36.744744</td>\n",
       "      <td>5.536321</td>\n",
       "      <td>19.1</td>\n",
       "      <td>33.010</td>\n",
       "      <td>37.117</td>\n",
       "      <td>40.865</td>\n",
       "      <td>71.3</td>\n",
       "    </tr>\n",
       "    <tr>\n",
       "      <th>longitude</th>\n",
       "      <td>2220527.0</td>\n",
       "      <td>-92.259118</td>\n",
       "      <td>15.885142</td>\n",
       "      <td>-164.7</td>\n",
       "      <td>-98.472</td>\n",
       "      <td>-87.605</td>\n",
       "      <td>-80.622</td>\n",
       "      <td>-67.0</td>\n",
       "    </tr>\n",
       "    <tr>\n",
       "      <th>population</th>\n",
       "      <td>2220527.0</td>\n",
       "      <td>27459.907275</td>\n",
       "      <td>19300.271619</td>\n",
       "      <td>1.0</td>\n",
       "      <td>12091.000</td>\n",
       "      <td>25050.000</td>\n",
       "      <td>38926.500</td>\n",
       "      <td>122814.0</td>\n",
       "    </tr>\n",
       "    <tr>\n",
       "      <th>density</th>\n",
       "      <td>2220527.0</td>\n",
       "      <td>1150.571052</td>\n",
       "      <td>3434.531205</td>\n",
       "      <td>0.0</td>\n",
       "      <td>59.500</td>\n",
       "      <td>271.800</td>\n",
       "      <td>1065.000</td>\n",
       "      <td>55636.0</td>\n",
       "    </tr>\n",
       "    <tr>\n",
       "      <th>violent_crime</th>\n",
       "      <td>2220527.0</td>\n",
       "      <td>2204.055152</td>\n",
       "      <td>7218.766364</td>\n",
       "      <td>0.0</td>\n",
       "      <td>23.000</td>\n",
       "      <td>95.000</td>\n",
       "      <td>508.000</td>\n",
       "      <td>50088.0</td>\n",
       "    </tr>\n",
       "    <tr>\n",
       "      <th>property_crime</th>\n",
       "      <td>2220527.0</td>\n",
       "      <td>8990.796694</td>\n",
       "      <td>22929.103417</td>\n",
       "      <td>0.0</td>\n",
       "      <td>263.000</td>\n",
       "      <td>954.000</td>\n",
       "      <td>3781.000</td>\n",
       "      <td>129860.0</td>\n",
       "    </tr>\n",
       "    <tr>\n",
       "      <th>closest_uni_lat</th>\n",
       "      <td>2220527.0</td>\n",
       "      <td>36.744003</td>\n",
       "      <td>5.533059</td>\n",
       "      <td>19.7</td>\n",
       "      <td>32.979</td>\n",
       "      <td>37.102</td>\n",
       "      <td>40.855</td>\n",
       "      <td>71.3</td>\n",
       "    </tr>\n",
       "    <tr>\n",
       "      <th>closest_uni_lon</th>\n",
       "      <td>2220527.0</td>\n",
       "      <td>-92.260709</td>\n",
       "      <td>15.889395</td>\n",
       "      <td>-159.4</td>\n",
       "      <td>-98.468</td>\n",
       "      <td>-87.619</td>\n",
       "      <td>-80.623</td>\n",
       "      <td>-67.2</td>\n",
       "    </tr>\n",
       "    <tr>\n",
       "      <th>distance_to_uni</th>\n",
       "      <td>2220527.0</td>\n",
       "      <td>167.966757</td>\n",
       "      <td>938.654261</td>\n",
       "      <td>0.0</td>\n",
       "      <td>3.995</td>\n",
       "      <td>22.164</td>\n",
       "      <td>111.937</td>\n",
       "      <td>253263.3</td>\n",
       "    </tr>\n",
       "    <tr>\n",
       "      <th>median_zip_price</th>\n",
       "      <td>2220527.0</td>\n",
       "      <td>419811.709526</td>\n",
       "      <td>444835.226698</td>\n",
       "      <td>1.0</td>\n",
       "      <td>186250.000</td>\n",
       "      <td>325000.000</td>\n",
       "      <td>500000.000</td>\n",
       "      <td>32740000.0</td>\n",
       "    </tr>\n",
       "    <tr>\n",
       "      <th>inventory_count</th>\n",
       "      <td>2220527.0</td>\n",
       "      <td>159.977919</td>\n",
       "      <td>172.671337</td>\n",
       "      <td>1.0</td>\n",
       "      <td>60.000</td>\n",
       "      <td>110.000</td>\n",
       "      <td>198.000</td>\n",
       "      <td>1681.0</td>\n",
       "    </tr>\n",
       "    <tr>\n",
       "      <th>nearest_zip_distance</th>\n",
       "      <td>2220527.0</td>\n",
       "      <td>124.403070</td>\n",
       "      <td>1305.287009</td>\n",
       "      <td>0.0</td>\n",
       "      <td>7.366</td>\n",
       "      <td>22.499</td>\n",
       "      <td>67.598</td>\n",
       "      <td>101296.4</td>\n",
       "    </tr>\n",
       "    <tr>\n",
       "      <th>total_crime</th>\n",
       "      <td>2220527.0</td>\n",
       "      <td>11194.851846</td>\n",
       "      <td>29894.435323</td>\n",
       "      <td>0.0</td>\n",
       "      <td>293.000</td>\n",
       "      <td>1061.000</td>\n",
       "      <td>4342.000</td>\n",
       "      <td>179948.0</td>\n",
       "    </tr>\n",
       "    <tr>\n",
       "      <th>crime_rate</th>\n",
       "      <td>2220527.0</td>\n",
       "      <td>575.365186</td>\n",
       "      <td>7041.125465</td>\n",
       "      <td>0.0</td>\n",
       "      <td>15.428</td>\n",
       "      <td>48.581</td>\n",
       "      <td>241.983</td>\n",
       "      <td>2617400.0</td>\n",
       "    </tr>\n",
       "    <tr>\n",
       "      <th>property_tax</th>\n",
       "      <td>2220527.0</td>\n",
       "      <td>1.025729</td>\n",
       "      <td>0.462394</td>\n",
       "      <td>0.3</td>\n",
       "      <td>0.710</td>\n",
       "      <td>0.810</td>\n",
       "      <td>1.360</td>\n",
       "      <td>2.2</td>\n",
       "    </tr>\n",
       "    <tr>\n",
       "      <th>rank</th>\n",
       "      <td>2220527.0</td>\n",
       "      <td>24.083832</td>\n",
       "      <td>13.667616</td>\n",
       "      <td>1.0</td>\n",
       "      <td>11.000</td>\n",
       "      <td>27.000</td>\n",
       "      <td>35.000</td>\n",
       "      <td>50.0</td>\n",
       "    </tr>\n",
       "  </tbody>\n",
       "</table>\n",
       "</div>"
      ],
      "text/plain": [
       "                          count           mean             std     min  \\\n",
       "price                 2220527.0  522776.664706  1581069.310109     0.0   \n",
       "bed                   2220527.0       3.230458        1.407296     1.0   \n",
       "bath                  2220527.0       2.434484        1.477724     1.0   \n",
       "acre_lot              2220527.0      12.969577      699.278383     0.0   \n",
       "house_size            2220527.0    4134.642164  1157885.216121     4.0   \n",
       "land_area             2220527.0      79.252337      168.710580     0.0   \n",
       "water_area            2220527.0       2.570152        9.497591     0.0   \n",
       "latitude              2220527.0      36.744744        5.536321    19.1   \n",
       "longitude             2220527.0     -92.259118       15.885142  -164.7   \n",
       "population            2220527.0   27459.907275    19300.271619     1.0   \n",
       "density               2220527.0    1150.571052     3434.531205     0.0   \n",
       "violent_crime         2220527.0    2204.055152     7218.766364     0.0   \n",
       "property_crime        2220527.0    8990.796694    22929.103417     0.0   \n",
       "closest_uni_lat       2220527.0      36.744003        5.533059    19.7   \n",
       "closest_uni_lon       2220527.0     -92.260709       15.889395  -159.4   \n",
       "distance_to_uni       2220527.0     167.966757      938.654261     0.0   \n",
       "median_zip_price      2220527.0  419811.709526   444835.226698     1.0   \n",
       "inventory_count       2220527.0     159.977919      172.671337     1.0   \n",
       "nearest_zip_distance  2220527.0     124.403070     1305.287009     0.0   \n",
       "total_crime           2220527.0   11194.851846    29894.435323     0.0   \n",
       "crime_rate            2220527.0     575.365186     7041.125465     0.0   \n",
       "property_tax          2220527.0       1.025729        0.462394     0.3   \n",
       "rank                  2220527.0      24.083832       13.667616     1.0   \n",
       "\n",
       "                             25%         50%         75%           max  \n",
       "price                 165000.000  325000.000  550000.000  1000000000.0  \n",
       "bed                        3.000       3.000       4.000         473.0  \n",
       "bath                       2.000       2.000       3.000         830.0  \n",
       "acre_lot                   0.150       0.250       0.760      100000.0  \n",
       "house_size              1386.000    1764.000    2276.000  1040400400.0  \n",
       "land_area                 10.153      30.988      86.787       13680.1  \n",
       "water_area                 0.064       0.436       1.872        1426.1  \n",
       "latitude                  33.010      37.117      40.865          71.3  \n",
       "longitude                -98.472     -87.605     -80.622         -67.0  \n",
       "population             12091.000   25050.000   38926.500      122814.0  \n",
       "density                   59.500     271.800    1065.000       55636.0  \n",
       "violent_crime             23.000      95.000     508.000       50088.0  \n",
       "property_crime           263.000     954.000    3781.000      129860.0  \n",
       "closest_uni_lat           32.979      37.102      40.855          71.3  \n",
       "closest_uni_lon          -98.468     -87.619     -80.623         -67.2  \n",
       "distance_to_uni            3.995      22.164     111.937      253263.3  \n",
       "median_zip_price      186250.000  325000.000  500000.000    32740000.0  \n",
       "inventory_count           60.000     110.000     198.000        1681.0  \n",
       "nearest_zip_distance       7.366      22.499      67.598      101296.4  \n",
       "total_crime              293.000    1061.000    4342.000      179948.0  \n",
       "crime_rate                15.428      48.581     241.983     2617400.0  \n",
       "property_tax               0.710       0.810       1.360           2.2  \n",
       "rank                      11.000      27.000      35.000          50.0  "
      ]
     },
     "metadata": {},
     "output_type": "display_data"
    }
   ],
   "source": [
    "summary_stats = realtor_data.describe().T\n",
    "summary_stats['std'] = summary_stats['std'].apply(lambda x: f\"{x:.6f}\")\n",
    "summary_stats['max'] = summary_stats['max'].apply(lambda x: f\"{x:.1f}\")\n",
    "summary_stats['min'] = summary_stats['min'].apply(lambda x: f\"{x:.1f}\")\n",
    "for i in ['25%', '50%', '75%']:\n",
    "    summary_stats[i] = summary_stats[i].apply(lambda x: f\"{x:.3f}\")\n",
    "display(summary_stats)"
   ]
  },
  {
   "cell_type": "code",
   "execution_count": 48,
   "id": "d0b6d5f7",
   "metadata": {},
   "outputs": [
    {
     "data": {
      "image/png": "[encoded data removed]",
      "text/plain": [
       "<Figure size 1800x500 with 2 Axes>"
      ]
     },
     "metadata": {},
     "output_type": "display_data"
    }
   ],
   "source": [
    "fig, axes = plt.subplots(1, 2, figsize=(18, 5))\n",
    "sns.boxplot(y=realtor_data['price'], ax=axes[0]).set_title('Price Outliers')\n",
    "sns.boxplot(y=np.log1p(realtor_data['price']), ax=axes[1]).set_title('ln(Price) Outliers')\n",
    "plt.show()"
   ]
  },
  {
   "attachments": {},
   "cell_type": "markdown",
   "id": "bf296471",
   "metadata": {},
   "source": [
    "From the summary statistics and the outlier plots we can see that the max `price` is $1\\times 10^9$, which is \\$1 billion, however this is not realistic because, as of February 2024, the most expensive home in the United States is Gordon Pointe in Naples, Florida, which is listed for \\$295 million dollars$^2$. Therefore we can filter `realtor_data` to not include the outliers in `price` that are greater than \\$295 million dollars.$^2$ We can also see that the min is 0.0, meaning the home was free, however, this is not realistic and to avoid data entry errors, the lowest threshold will be set at \\$10,000.\n",
    "\n",
    "..."
   ]
  },
  {
   "cell_type": "code",
   "execution_count": 49,
   "id": "960a8b22",
   "metadata": {},
   "outputs": [],
   "source": [
    "realtor_data = realtor_data[(realtor_data['price'] >= 1e4) & (realtor_data['price'] <= 2.95e8)]\n",
    "realtor_data['price'] = winsorize_col(realtor_data['price'])"
   ]
  },
  {
   "cell_type": "code",
   "execution_count": 50,
   "id": "26766476",
   "metadata": {},
   "outputs": [
    {
     "data": {
      "image/png": "[encoded data removed]",
      "text/plain": [
       "<Figure size 1800x500 with 2 Axes>"
      ]
     },
     "metadata": {},
     "output_type": "display_data"
    }
   ],
   "source": [
    "fig, axes = plt.subplots(1, 2, figsize=(18, 5))\n",
    "sns.boxplot(y=realtor_data['bed'], ax=axes[0]).set_title('bed Outliers')\n",
    "sns.boxplot(y=np.log1p(realtor_data['bed']), ax=axes[1]).set_title('ln(bed) Outliers')\n",
    "plt.show()"
   ]
  },
  {
   "attachments": {},
   "cell_type": "markdown",
   "id": "204393fa",
   "metadata": {},
   "source": [
    "From the summary statistics we can see that the max `bed` is $473$, however this is not realistic because the Biltmore Estate in Asheville, North Carolina has the most amount of bedrooms in the United States at 35 $^3$. Therefore we can filter `realtor_data` to not include the outliers in `bed` that are greater than $35$.$^3$"
   ]
  },
  {
   "cell_type": "code",
   "execution_count": 51,
   "id": "6432dc20",
   "metadata": {},
   "outputs": [],
   "source": [
    "realtor_data = realtor_data[realtor_data['bed']<=35]"
   ]
  },
  {
   "cell_type": "code",
   "execution_count": 52,
   "id": "10b11bb8",
   "metadata": {},
   "outputs": [
    {
     "data": {
      "image/png": "[encoded data removed]",
      "text/plain": [
       "<Figure size 1800x500 with 2 Axes>"
      ]
     },
     "metadata": {},
     "output_type": "display_data"
    }
   ],
   "source": [
    "fig, axes = plt.subplots(1, 2, figsize=(18, 5))\n",
    "sns.boxplot(y=realtor_data['bath'], ax=axes[0]).set_title('bath Outliers')\n",
    "sns.boxplot(y=np.log1p(realtor_data['bath']), ax=axes[1]).set_title('ln(bath) Outliers')\n",
    "plt.show()"
   ]
  },
  {
   "attachments": {},
   "cell_type": "markdown",
   "id": "cceeb963",
   "metadata": {},
   "source": [
    "From the summary statistics we can see that the max `bath` is $752$, however this is not realistic because The One in Bel Air, California has the most amount of bathrooms in the United States at 49$^4$. Therefore we can filter `realtor_data` to not include the outliers in `bath` that are greater than $49$.$^4$"
   ]
  },
  {
   "cell_type": "code",
   "execution_count": 53,
   "id": "1d2009a4",
   "metadata": {},
   "outputs": [],
   "source": [
    "realtor_data = realtor_data[realtor_data['bath']<=49]"
   ]
  },
  {
   "cell_type": "code",
   "execution_count": 54,
   "id": "d95b2303",
   "metadata": {},
   "outputs": [
    {
     "data": {
      "image/png": "[encoded data removed]",
      "text/plain": [
       "<Figure size 1800x500 with 2 Axes>"
      ]
     },
     "metadata": {},
     "output_type": "display_data"
    }
   ],
   "source": [
    "fig, axes = plt.subplots(1, 2, figsize=(18, 5))\n",
    "sns.boxplot(y=realtor_data['house_size'], ax=axes[0]).set_title('house_size Outliers')\n",
    "sns.boxplot(y=np.log1p(realtor_data['house_size']), ax=axes[1]).set_title('ln(house_size) Outliers')\n",
    "plt.show()"
   ]
  },
  {
   "attachments": {},
   "cell_type": "markdown",
   "id": "816923da",
   "metadata": {},
   "source": [
    "From the summary statistics we can see that the max `house_size` is $1.0404004\\times 10^9$, which is around 1.04 billion, however this is not realistic because the Biltmore Estate in Asheville, North Carolina, the largest home in the United States by square footage, is at 175,000 sq ft$^5$. Therefore we can filter `realtor_data` to not include the outliers in `house_size` that are greater than $175,000$.$^5$"
   ]
  },
  {
   "cell_type": "code",
   "execution_count": 55,
   "id": "bd5a1195",
   "metadata": {},
   "outputs": [],
   "source": [
    "realtor_data = realtor_data[realtor_data['house_size']<=175_000]\n",
    "realtor_data['house_size'] = winsorize_col(realtor_data['house_size'])"
   ]
  },
  {
   "cell_type": "code",
   "execution_count": 56,
   "id": "4e8cb10a",
   "metadata": {},
   "outputs": [
    {
     "data": {
      "image/png": "[encoded data removed]",
      "text/plain": [
       "<Figure size 1800x500 with 2 Axes>"
      ]
     },
     "metadata": {},
     "output_type": "display_data"
    }
   ],
   "source": [
    "fig, axes = plt.subplots(1, 2, figsize=(18, 5))\n",
    "sns.boxplot(y=realtor_data['acre_lot'], ax=axes[0]).set_title('acre_lot Outliers')\n",
    "sns.boxplot(y=np.log1p(realtor_data['acre_lot']), ax=axes[1]).set_title('ln(acre_lot) Outliers')\n",
    "plt.show()"
   ]
  },
  {
   "attachments": {},
   "cell_type": "markdown",
   "id": "1283ad2d",
   "metadata": {},
   "source": [
    "..."
   ]
  },
  {
   "cell_type": "code",
   "execution_count": 57,
   "id": "b7a08453",
   "metadata": {},
   "outputs": [],
   "source": [
    "realtor_data['acre_lot'] = winsorize_col(realtor_data['acre_lot'])"
   ]
  },
  {
   "cell_type": "code",
   "execution_count": 58,
   "id": "80faec56",
   "metadata": {},
   "outputs": [
    {
     "data": {
      "image/png": "[encoded data removed]",
      "text/plain": [
       "<Figure size 1800x500 with 2 Axes>"
      ]
     },
     "metadata": {},
     "output_type": "display_data"
    }
   ],
   "source": [
    "fig, axes = plt.subplots(1, 2, figsize=(18, 5))\n",
    "sns.boxplot(y=realtor_data['land_area'], ax=axes[0]).set_title('land_area Outliers')\n",
    "sns.boxplot(y=np.log1p(realtor_data['land_area']), ax=axes[1]).set_title('ln(land_area) Outliers')\n",
    "plt.show()"
   ]
  },
  {
   "cell_type": "markdown",
   "id": "cb7c0a5a",
   "metadata": {},
   "source": []
  },
  {
   "cell_type": "code",
   "execution_count": 59,
   "id": "179d4ba2",
   "metadata": {},
   "outputs": [],
   "source": [
    "realtor_data['land_area'] = winsorize_col(realtor_data['land_area'])"
   ]
  },
  {
   "cell_type": "code",
   "execution_count": 60,
   "id": "589ea9a7",
   "metadata": {},
   "outputs": [
    {
     "data": {
      "image/png": "[encoded data removed]",
      "text/plain": [
       "<Figure size 1800x500 with 2 Axes>"
      ]
     },
     "metadata": {},
     "output_type": "display_data"
    }
   ],
   "source": [
    "fig, axes = plt.subplots(1, 2, figsize=(18, 5))\n",
    "sns.boxplot(y=realtor_data['water_area'], ax=axes[0]).set_title('water_area Outliers')\n",
    "sns.boxplot(y=np.log1p(realtor_data['water_area']), ax=axes[1]).set_title('ln(water_area) Outliers')\n",
    "plt.show()"
   ]
  },
  {
   "cell_type": "markdown",
   "id": "426af956",
   "metadata": {},
   "source": []
  },
  {
   "cell_type": "code",
   "execution_count": 61,
   "id": "5ebd5d05",
   "metadata": {},
   "outputs": [],
   "source": [
    "realtor_data['water_area'] = winsorize_col(realtor_data['water_area'])"
   ]
  },
  {
   "cell_type": "code",
   "execution_count": 62,
   "id": "a273b9e9",
   "metadata": {},
   "outputs": [
    {
     "data": {
      "image/png": "[encoded data removed]",
      "text/plain": [
       "<Figure size 1800x500 with 2 Axes>"
      ]
     },
     "metadata": {},
     "output_type": "display_data"
    }
   ],
   "source": [
    "fig, axes = plt.subplots(1, 2, figsize=(18, 5))\n",
    "sns.boxplot(y=realtor_data['violent_crime'], ax=axes[0]).set_title('violent_crime Outliers')\n",
    "sns.boxplot(y=np.log1p(realtor_data['violent_crime']), ax=axes[1]).set_title('ln(violent_crime) Outliers')\n",
    "plt.show()"
   ]
  },
  {
   "cell_type": "markdown",
   "id": "7b60f009",
   "metadata": {},
   "source": []
  },
  {
   "cell_type": "code",
   "execution_count": 63,
   "id": "e70eb9e8",
   "metadata": {},
   "outputs": [],
   "source": [
    "realtor_data['violent_crime'] = winsorize_col(realtor_data['violent_crime'])"
   ]
  },
  {
   "cell_type": "code",
   "execution_count": 64,
   "id": "d022d660",
   "metadata": {},
   "outputs": [
    {
     "data": {
      "image/png": "[encoded data removed]",
      "text/plain": [
       "<Figure size 1800x500 with 2 Axes>"
      ]
     },
     "metadata": {},
     "output_type": "display_data"
    }
   ],
   "source": [
    "fig, axes = plt.subplots(1, 2, figsize=(18, 5))\n",
    "sns.boxplot(y=realtor_data['property_crime'], ax=axes[0]).set_title('property_crime Outliers')\n",
    "sns.boxplot(y=np.log1p(realtor_data['property_crime']), ax=axes[1]).set_title('ln(property_crime) Outliers')\n",
    "plt.show()"
   ]
  },
  {
   "cell_type": "markdown",
   "id": "98882a0f",
   "metadata": {},
   "source": []
  },
  {
   "cell_type": "code",
   "execution_count": 65,
   "id": "09891c8b",
   "metadata": {},
   "outputs": [],
   "source": [
    "realtor_data['property_crime'] = winsorize_col(realtor_data['property_crime'])"
   ]
  },
  {
   "attachments": {},
   "cell_type": "markdown",
   "id": "cbe140a3",
   "metadata": {},
   "source": []
  },
  {
   "cell_type": "code",
   "execution_count": 66,
   "id": "19810620-3926-41ec-b7c3-5630de7402af",
   "metadata": {},
   "outputs": [],
   "source": [
    "realtor_data_copy = realtor_data.copy()"
   ]
  },
  {
   "cell_type": "code",
   "execution_count": 67,
   "id": "5992e38f",
   "metadata": {},
   "outputs": [],
   "source": [
    "num_cols = realtor_data.select_dtypes(include=['float64', 'int64']).columns\n",
    "num_cols = [i for i in num_cols if i not in ['bed', 'bath', 'property_tax', 'crime_rate', 'crime_rate', 'nearest_zip_distance', 'total_crime']]\n",
    "skewed_feats = realtor_data[num_cols].apply(lambda x: x.skew()).sort_values(ascending=False)\n",
    "high_skew = skewed_feats[skewed_feats >= 1.0].index\n",
    "realtor_data[high_skew] = np.log1p(realtor_data[high_skew])\n",
    "realtor_data['total_crime'] = realtor_data['property_crime'] + realtor_data['violent_crime']\n",
    "realtor_data['crime_rate'] = (realtor_data['total_crime']/realtor_data['population']) * 1_000"
   ]
  },
  {
   "cell_type": "markdown",
   "id": "0d4c0e70",
   "metadata": {},
   "source": [
    "Cleaned summary stats"
   ]
  },
  {
   "cell_type": "code",
   "execution_count": 68,
   "id": "a3e71685",
   "metadata": {},
   "outputs": [
    {
     "data": {
      "text/html": [
       "<div>\n",
       "<style scoped>\n",
       "    .dataframe tbody tr th:only-of-type {\n",
       "        vertical-align: middle;\n",
       "    }\n",
       "\n",
       "    .dataframe tbody tr th {\n",
       "        vertical-align: top;\n",
       "    }\n",
       "\n",
       "    .dataframe thead th {\n",
       "        text-align: right;\n",
       "    }\n",
       "</style>\n",
       "<table border=\"1\" class=\"dataframe\">\n",
       "  <thead>\n",
       "    <tr style=\"text-align: right;\">\n",
       "      <th></th>\n",
       "      <th>count</th>\n",
       "      <th>mean</th>\n",
       "      <th>std</th>\n",
       "      <th>min</th>\n",
       "      <th>25%</th>\n",
       "      <th>50%</th>\n",
       "      <th>75%</th>\n",
       "      <th>max</th>\n",
       "    </tr>\n",
       "  </thead>\n",
       "  <tbody>\n",
       "    <tr>\n",
       "      <th>price</th>\n",
       "      <td>2200928.0</td>\n",
       "      <td>12.579661</td>\n",
       "      <td>1.064879</td>\n",
       "      <td>9.615872</td>\n",
       "      <td>12.042971</td>\n",
       "      <td>12.700772</td>\n",
       "      <td>13.217675</td>\n",
       "      <td>15.2</td>\n",
       "    </tr>\n",
       "    <tr>\n",
       "      <th>bed</th>\n",
       "      <td>2200928.0</td>\n",
       "      <td>3.225658</td>\n",
       "      <td>1.128150</td>\n",
       "      <td>1.000000</td>\n",
       "      <td>3.000000</td>\n",
       "      <td>3.000000</td>\n",
       "      <td>4.000000</td>\n",
       "      <td>35.0</td>\n",
       "    </tr>\n",
       "    <tr>\n",
       "      <th>bath</th>\n",
       "      <td>2200928.0</td>\n",
       "      <td>2.432646</td>\n",
       "      <td>1.100958</td>\n",
       "      <td>1.000000</td>\n",
       "      <td>2.000000</td>\n",
       "      <td>2.000000</td>\n",
       "      <td>3.000000</td>\n",
       "      <td>49.0</td>\n",
       "    </tr>\n",
       "    <tr>\n",
       "      <th>acre_lot</th>\n",
       "      <td>2200928.0</td>\n",
       "      <td>0.567700</td>\n",
       "      <td>0.839784</td>\n",
       "      <td>0.019803</td>\n",
       "      <td>0.139762</td>\n",
       "      <td>0.223144</td>\n",
       "      <td>0.570980</td>\n",
       "      <td>4.4</td>\n",
       "    </tr>\n",
       "    <tr>\n",
       "      <th>house_size</th>\n",
       "      <td>2200928.0</td>\n",
       "      <td>7.490001</td>\n",
       "      <td>0.419728</td>\n",
       "      <td>6.447306</td>\n",
       "      <td>7.234177</td>\n",
       "      <td>7.477604</td>\n",
       "      <td>7.732369</td>\n",
       "      <td>8.7</td>\n",
       "    </tr>\n",
       "    <tr>\n",
       "      <th>land_area</th>\n",
       "      <td>2200928.0</td>\n",
       "      <td>3.447160</td>\n",
       "      <td>1.352506</td>\n",
       "      <td>0.553310</td>\n",
       "      <td>2.406044</td>\n",
       "      <td>3.453853</td>\n",
       "      <td>4.465920</td>\n",
       "      <td>6.6</td>\n",
       "    </tr>\n",
       "    <tr>\n",
       "      <th>water_area</th>\n",
       "      <td>2200928.0</td>\n",
       "      <td>0.693074</td>\n",
       "      <td>0.825413</td>\n",
       "      <td>0.000000</td>\n",
       "      <td>0.061095</td>\n",
       "      <td>0.359770</td>\n",
       "      <td>1.046968</td>\n",
       "      <td>3.5</td>\n",
       "    </tr>\n",
       "    <tr>\n",
       "      <th>latitude</th>\n",
       "      <td>2200928.0</td>\n",
       "      <td>36.750704</td>\n",
       "      <td>5.541792</td>\n",
       "      <td>19.065548</td>\n",
       "      <td>33.011304</td>\n",
       "      <td>37.144971</td>\n",
       "      <td>40.870240</td>\n",
       "      <td>71.3</td>\n",
       "    </tr>\n",
       "    <tr>\n",
       "      <th>longitude</th>\n",
       "      <td>2200928.0</td>\n",
       "      <td>-92.259891</td>\n",
       "      <td>15.908530</td>\n",
       "      <td>-164.654295</td>\n",
       "      <td>-98.487889</td>\n",
       "      <td>-87.598390</td>\n",
       "      <td>-80.587633</td>\n",
       "      <td>-67.0</td>\n",
       "    </tr>\n",
       "    <tr>\n",
       "      <th>population</th>\n",
       "      <td>2200928.0</td>\n",
       "      <td>27576.988973</td>\n",
       "      <td>19304.146942</td>\n",
       "      <td>1.000000</td>\n",
       "      <td>12248.000000</td>\n",
       "      <td>25161.000000</td>\n",
       "      <td>39020.000000</td>\n",
       "      <td>122814.0</td>\n",
       "    </tr>\n",
       "    <tr>\n",
       "      <th>density</th>\n",
       "      <td>2200928.0</td>\n",
       "      <td>5.517796</td>\n",
       "      <td>1.887025</td>\n",
       "      <td>0.000000</td>\n",
       "      <td>4.120662</td>\n",
       "      <td>5.631570</td>\n",
       "      <td>6.982863</td>\n",
       "      <td>10.9</td>\n",
       "    </tr>\n",
       "    <tr>\n",
       "      <th>violent_crime</th>\n",
       "      <td>2200928.0</td>\n",
       "      <td>4.864518</td>\n",
       "      <td>2.432635</td>\n",
       "      <td>0.000000</td>\n",
       "      <td>3.178054</td>\n",
       "      <td>4.574711</td>\n",
       "      <td>6.232448</td>\n",
       "      <td>10.8</td>\n",
       "    </tr>\n",
       "    <tr>\n",
       "      <th>property_crime</th>\n",
       "      <td>2200928.0</td>\n",
       "      <td>6.992941</td>\n",
       "      <td>2.156525</td>\n",
       "      <td>2.079442</td>\n",
       "      <td>5.579730</td>\n",
       "      <td>6.880384</td>\n",
       "      <td>8.247744</td>\n",
       "      <td>11.8</td>\n",
       "    </tr>\n",
       "    <tr>\n",
       "      <th>closest_uni_lat</th>\n",
       "      <td>2200928.0</td>\n",
       "      <td>36.750126</td>\n",
       "      <td>5.538580</td>\n",
       "      <td>19.701189</td>\n",
       "      <td>32.978817</td>\n",
       "      <td>37.156972</td>\n",
       "      <td>40.860976</td>\n",
       "      <td>71.3</td>\n",
       "    </tr>\n",
       "    <tr>\n",
       "      <th>closest_uni_lon</th>\n",
       "      <td>2200928.0</td>\n",
       "      <td>-92.261363</td>\n",
       "      <td>15.912732</td>\n",
       "      <td>-159.395883</td>\n",
       "      <td>-98.491290</td>\n",
       "      <td>-87.607449</td>\n",
       "      <td>-80.623123</td>\n",
       "      <td>-67.2</td>\n",
       "    </tr>\n",
       "    <tr>\n",
       "      <th>distance_to_uni</th>\n",
       "      <td>2200928.0</td>\n",
       "      <td>3.230242</td>\n",
       "      <td>1.951679</td>\n",
       "      <td>0.000342</td>\n",
       "      <td>1.594303</td>\n",
       "      <td>3.124793</td>\n",
       "      <td>4.712652</td>\n",
       "      <td>12.4</td>\n",
       "    </tr>\n",
       "    <tr>\n",
       "      <th>median_zip_price</th>\n",
       "      <td>2200928.0</td>\n",
       "      <td>12.612512</td>\n",
       "      <td>0.861397</td>\n",
       "      <td>0.693147</td>\n",
       "      <td>12.154258</td>\n",
       "      <td>12.694625</td>\n",
       "      <td>13.130093</td>\n",
       "      <td>17.3</td>\n",
       "    </tr>\n",
       "    <tr>\n",
       "      <th>inventory_count</th>\n",
       "      <td>2200928.0</td>\n",
       "      <td>4.636089</td>\n",
       "      <td>1.005440</td>\n",
       "      <td>0.693147</td>\n",
       "      <td>4.110874</td>\n",
       "      <td>4.709530</td>\n",
       "      <td>5.288267</td>\n",
       "      <td>7.4</td>\n",
       "    </tr>\n",
       "    <tr>\n",
       "      <th>nearest_zip_distance</th>\n",
       "      <td>2200928.0</td>\n",
       "      <td>123.327689</td>\n",
       "      <td>1298.933064</td>\n",
       "      <td>0.000000</td>\n",
       "      <td>7.295963</td>\n",
       "      <td>22.222954</td>\n",
       "      <td>66.648944</td>\n",
       "      <td>101296.4</td>\n",
       "    </tr>\n",
       "    <tr>\n",
       "      <th>total_crime</th>\n",
       "      <td>2200928.0</td>\n",
       "      <td>11.857459</td>\n",
       "      <td>4.551276</td>\n",
       "      <td>2.079442</td>\n",
       "      <td>8.755422</td>\n",
       "      <td>11.413370</td>\n",
       "      <td>14.527264</td>\n",
       "      <td>22.6</td>\n",
       "    </tr>\n",
       "    <tr>\n",
       "      <th>crime_rate</th>\n",
       "      <td>2200928.0</td>\n",
       "      <td>1.663816</td>\n",
       "      <td>34.301891</td>\n",
       "      <td>0.030534</td>\n",
       "      <td>0.310714</td>\n",
       "      <td>0.470594</td>\n",
       "      <td>0.814853</td>\n",
       "      <td>11665.9</td>\n",
       "    </tr>\n",
       "    <tr>\n",
       "      <th>property_tax</th>\n",
       "      <td>2200928.0</td>\n",
       "      <td>1.026963</td>\n",
       "      <td>0.462661</td>\n",
       "      <td>0.270000</td>\n",
       "      <td>0.710000</td>\n",
       "      <td>0.810000</td>\n",
       "      <td>1.360000</td>\n",
       "      <td>2.2</td>\n",
       "    </tr>\n",
       "    <tr>\n",
       "      <th>rank</th>\n",
       "      <td>2200928.0</td>\n",
       "      <td>24.044742</td>\n",
       "      <td>13.666939</td>\n",
       "      <td>1.000000</td>\n",
       "      <td>11.000000</td>\n",
       "      <td>27.000000</td>\n",
       "      <td>35.000000</td>\n",
       "      <td>50.0</td>\n",
       "    </tr>\n",
       "  </tbody>\n",
       "</table>\n",
       "</div>"
      ],
      "text/plain": [
       "                          count          mean           std         min  \\\n",
       "price                 2200928.0     12.579661      1.064879    9.615872   \n",
       "bed                   2200928.0      3.225658      1.128150    1.000000   \n",
       "bath                  2200928.0      2.432646      1.100958    1.000000   \n",
       "acre_lot              2200928.0      0.567700      0.839784    0.019803   \n",
       "house_size            2200928.0      7.490001      0.419728    6.447306   \n",
       "land_area             2200928.0      3.447160      1.352506    0.553310   \n",
       "water_area            2200928.0      0.693074      0.825413    0.000000   \n",
       "latitude              2200928.0     36.750704      5.541792   19.065548   \n",
       "longitude             2200928.0    -92.259891     15.908530 -164.654295   \n",
       "population            2200928.0  27576.988973  19304.146942    1.000000   \n",
       "density               2200928.0      5.517796      1.887025    0.000000   \n",
       "violent_crime         2200928.0      4.864518      2.432635    0.000000   \n",
       "property_crime        2200928.0      6.992941      2.156525    2.079442   \n",
       "closest_uni_lat       2200928.0     36.750126      5.538580   19.701189   \n",
       "closest_uni_lon       2200928.0    -92.261363     15.912732 -159.395883   \n",
       "distance_to_uni       2200928.0      3.230242      1.951679    0.000342   \n",
       "median_zip_price      2200928.0     12.612512      0.861397    0.693147   \n",
       "inventory_count       2200928.0      4.636089      1.005440    0.693147   \n",
       "nearest_zip_distance  2200928.0    123.327689   1298.933064    0.000000   \n",
       "total_crime           2200928.0     11.857459      4.551276    2.079442   \n",
       "crime_rate            2200928.0      1.663816     34.301891    0.030534   \n",
       "property_tax          2200928.0      1.026963      0.462661    0.270000   \n",
       "rank                  2200928.0     24.044742     13.666939    1.000000   \n",
       "\n",
       "                               25%           50%           75%       max  \n",
       "price                    12.042971     12.700772     13.217675      15.2  \n",
       "bed                       3.000000      3.000000      4.000000      35.0  \n",
       "bath                      2.000000      2.000000      3.000000      49.0  \n",
       "acre_lot                  0.139762      0.223144      0.570980       4.4  \n",
       "house_size                7.234177      7.477604      7.732369       8.7  \n",
       "land_area                 2.406044      3.453853      4.465920       6.6  \n",
       "water_area                0.061095      0.359770      1.046968       3.5  \n",
       "latitude                 33.011304     37.144971     40.870240      71.3  \n",
       "longitude               -98.487889    -87.598390    -80.587633     -67.0  \n",
       "population            12248.000000  25161.000000  39020.000000  122814.0  \n",
       "density                   4.120662      5.631570      6.982863      10.9  \n",
       "violent_crime             3.178054      4.574711      6.232448      10.8  \n",
       "property_crime            5.579730      6.880384      8.247744      11.8  \n",
       "closest_uni_lat          32.978817     37.156972     40.860976      71.3  \n",
       "closest_uni_lon         -98.491290    -87.607449    -80.623123     -67.2  \n",
       "distance_to_uni           1.594303      3.124793      4.712652      12.4  \n",
       "median_zip_price         12.154258     12.694625     13.130093      17.3  \n",
       "inventory_count           4.110874      4.709530      5.288267       7.4  \n",
       "nearest_zip_distance      7.295963     22.222954     66.648944  101296.4  \n",
       "total_crime               8.755422     11.413370     14.527264      22.6  \n",
       "crime_rate                0.310714      0.470594      0.814853   11665.9  \n",
       "property_tax              0.710000      0.810000      1.360000       2.2  \n",
       "rank                     11.000000     27.000000     35.000000      50.0  "
      ]
     },
     "metadata": {},
     "output_type": "display_data"
    }
   ],
   "source": [
    "summary_stats = realtor_data.describe().T\n",
    "summary_stats['std'] = summary_stats['std'].apply(lambda x: f\"{x:.6f}\")\n",
    "summary_stats['max'] = summary_stats['max'].apply(lambda x: f\"{x:.1f}\")\n",
    "display(summary_stats)"
   ]
  },
  {
   "cell_type": "code",
   "execution_count": 69,
   "id": "b1adf807",
   "metadata": {},
   "outputs": [
    {
     "data": {
      "text/plain": [
       "brokered_by                     object\n",
       "status                          object\n",
       "price                          float64\n",
       "bed                              int64\n",
       "bath                             int64\n",
       "acre_lot                       float64\n",
       "street                          object\n",
       "city                            object\n",
       "state                           object\n",
       "zip_code                        object\n",
       "house_size                     float64\n",
       "prev_sold_date          datetime64[ns]\n",
       "first_time                    category\n",
       "land_area                      float64\n",
       "water_area                     float64\n",
       "latitude                       float64\n",
       "longitude                      float64\n",
       "population                     float64\n",
       "density                        float64\n",
       "violent_crime                  float64\n",
       "property_crime                 float64\n",
       "closest_uni_name                object\n",
       "closest_uni_lat                float64\n",
       "closest_uni_lon                float64\n",
       "closest_uni_zip                 object\n",
       "closest_uni_obereg            category\n",
       "closest_uni_hloffer           category\n",
       "distance_to_uni                float64\n",
       "median_zip_price               float64\n",
       "inventory_count                float64\n",
       "nearest_zip                     object\n",
       "nearest_zip_distance           float64\n",
       "total_crime                    float64\n",
       "crime_rate                     float64\n",
       "property_tax                   float64\n",
       "rank                             int64\n",
       "dtype: object"
      ]
     },
     "metadata": {},
     "output_type": "display_data"
    },
    {
     "data": {
      "text/plain": [
       "Index(['brokered_by', 'status', 'price', 'bed', 'bath', 'acre_lot', 'street',\n",
       "       'city', 'state', 'zip_code', 'house_size', 'prev_sold_date',\n",
       "       'first_time', 'land_area', 'water_area', 'latitude', 'longitude',\n",
       "       'population', 'density', 'violent_crime', 'property_crime',\n",
       "       'closest_uni_name', 'closest_uni_lat', 'closest_uni_lon',\n",
       "       'closest_uni_zip', 'closest_uni_obereg', 'closest_uni_hloffer',\n",
       "       'distance_to_uni', 'median_zip_price', 'inventory_count', 'nearest_zip',\n",
       "       'nearest_zip_distance', 'total_crime', 'crime_rate', 'property_tax',\n",
       "       'rank'],\n",
       "      dtype='object')"
      ]
     },
     "metadata": {},
     "output_type": "display_data"
    }
   ],
   "source": [
    "display(realtor_data.dtypes)\n",
    "display(realtor_data.columns)"
   ]
  },
  {
   "cell_type": "code",
   "execution_count": 70,
   "id": "4e090966",
   "metadata": {},
   "outputs": [
    {
     "name": "stdout",
     "output_type": "stream",
     "text": [
      "  zip_code      price  house_size       house_category\n",
      "0     1001  12.100718    6.517671            Tiny Home\n",
      "1     1001  10.126671    7.242798           Ranch Home\n",
      "2     1001  12.042971    6.794587            Tiny Home\n",
      "3     1001  12.396697    7.264730  Investment Property\n",
      "4     1001  12.611374    7.414573  Investment Property\n"
     ]
    }
   ],
   "source": [
    "# ---- GEODEMOGRAPHIC SEGMENTATION (Region-Based Classification) ----\n",
    "region_column = \"zip_code\"\n",
    "\n",
    "# Compute **regional** statistics using **median** instead of upper quartiles for acreage\n",
    "region_stats = realtor_data.groupby(region_column).agg(\n",
    "    price_25=(\"price\", lambda x: x.quantile(0.25)),\n",
    "    price_50=(\"price\", lambda x: x.quantile(0.50)),\n",
    "    price_75=(\"price\", lambda x: x.quantile(0.75)),\n",
    "    price_90=(\"price\", lambda x: x.quantile(0.90)),\n",
    "    size_25=(\"house_size\", lambda x: x.quantile(0.25)),\n",
    "    size_50=(\"house_size\", lambda x: x.quantile(0.50)),\n",
    "    size_75=(\"house_size\", lambda x: x.quantile(0.75)),\n",
    "    size_90=(\"house_size\", lambda x: x.quantile(0.90)),\n",
    "    crime_25=(\"crime_rate\", lambda x: x.quantile(0.25)),\n",
    "    crime_75=(\"crime_rate\", lambda x: x.quantile(0.75)),\n",
    "    tax_25=(\"property_tax\", lambda x: x.quantile(0.25)),\n",
    "    tax_75=(\"property_tax\", lambda x: x.quantile(0.75)),\n",
    "    density_50=(\"density\", lambda x: x.median()),  \n",
    "    acre_median=(\"acre_lot\", lambda x: x.median()) )\n",
    "\n",
    "def classify_home(row, region_stats):\n",
    "    region = row[region_column]\n",
    "    if region not in region_stats.index:\n",
    "        return \"Other\"\n",
    "    q = region_stats.loc[region]\n",
    "    acre_median = q[\"acre_median\"]\n",
    "    if row[\"price\"] >= q[\"price_90\"] and row[\"house_size\"] >= q[\"size_90\"] and row[\"acre_lot\"] >= 2 * acre_median:\n",
    "        return \"Luxury Estate\"\n",
    "    if row[\"acre_lot\"] >= 1.5 * acre_median and row[\"price\"] < q[\"price_90\"]:\n",
    "        return \"Ranch Home\"\n",
    "    if row[\"price\"] >= q[\"price_90\"] and row[\"house_size\"] >= q[\"size_90\"]:\n",
    "        return \"Luxury Home\"\n",
    "    if row[\"bed\"] >= 3 and row[\"bath\"] >= 2 and q[\"price_25\"] < row[\"price\"] <= q[\"price_75\"]:\n",
    "        return \"Family Home\"\n",
    "    if row[\"price\"] <= q[\"price_25\"] and row[\"house_size\"] <= q[\"size_25\"]:\n",
    "        return \"Tiny Home\"\n",
    "    if row[\"crime_rate\"] >= q[\"crime_75\"] or row[\"property_tax\"] >= q[\"tax_75\"] or row[\"house_size\"] <= q[\"size_25\"]:\n",
    "        return \"Investment Property\"\n",
    "    return \"Other\"\n",
    "\n",
    "realtor_data[\"house_category\"] = realtor_data.apply(lambda row: classify_home(row, region_stats), axis=1)\n",
    "\n",
    "region_home_stats = realtor_data.groupby([region_column, \"house_category\"]).agg(\n",
    "    total_listings=(\"price\", \"count\"),\n",
    "    median_price=(\"price\", \"median\"),\n",
    "    median_size=(\"house_size\", \"median\"),\n",
    "    crime_rate_median=(\"crime_rate\", \"median\"),\n",
    "    property_tax_median=(\"property_tax\", \"median\"),\n",
    "    median_acreage=(\"acre_lot\", \"median\") \n",
    ").reset_index()\n",
    "\n",
    "# plt.figure(figsize=(12, 6))\n",
    "# sns.boxplot(x=\"house_category\", y=\"price\", data=realtor_data, order=[\n",
    "#     \"Tiny Home\", \"Investment Property\", \"Family Home\", \"Ranch Home\", \n",
    "#     \"Luxury Home\", \"Luxury Estate\", \"Other\"\n",
    "# ])\n",
    "# plt.xticks(rotation=45)\n",
    "# plt.title(\"Price Distribution by House Category\")\n",
    "# plt.ylabel(\"Price ($)\")\n",
    "# plt.xlabel(\"House Category\")\n",
    "# plt.grid(axis=\"y\", linestyle=\"--\", alpha=0.7)\n",
    "# plt.show()\n",
    "\n",
    "# plt.figure(figsize=(12, 6))\n",
    "# sns.boxplot(x=\"house_category\", y=\"house_size\", data=realtor_data, order=[\n",
    "#     \"Tiny Home\", \"Investment Property\", \"Family Home\", \"Ranch Home\", \n",
    "#     \"Luxury Home\", \"Luxury Estate\", \"Other\"\n",
    "# ])\n",
    "# plt.xticks(rotation=45)\n",
    "# plt.title(\"House Size Distribution by Category\")\n",
    "# plt.ylabel(\"House Size (sq ft)\")\n",
    "# plt.xlabel(\"House Category\")\n",
    "# plt.grid(axis=\"y\", linestyle=\"--\", alpha=0.7)\n",
    "# plt.show()\n",
    "\n",
    "# plt.figure(figsize=(12, 6))\n",
    "# sns.boxplot(x=\"house_category\", y=\"acre_lot\", data=realtor_data, order=[\n",
    "#     \"Tiny Home\", \"Investment Property\", \"Family Home\", \"Ranch Home\", \n",
    "#     \"Luxury Home\", \"Luxury Estate\", \"Other\"\n",
    "# ])\n",
    "# plt.xticks(rotation=45)\n",
    "# plt.title(\"Acre Size Distribution by Category\")\n",
    "# plt.ylabel(\"Acre Size\")\n",
    "# plt.xlabel(\"House Category\")\n",
    "# plt.grid(axis=\"y\", linestyle=\"--\", alpha=0.7)\n",
    "# plt.show()\n",
    "\n",
    "print(realtor_data[[region_column, \"price\", \"house_size\", \"house_category\"]].head())"
   ]
  },
  {
   "attachments": {},
   "cell_type": "markdown",
   "id": "1494645e",
   "metadata": {},
   "source": [
    "**Overview**\n",
    "This analysis applies Ordinary Least Squares (OLS), Lasso Regression, and Elastic Net Regression to predict house prices. The goal is to evaluate the effectiveness of different models, interpret key features affecting price, and identify areas for improvement.\n",
    "\n",
    "**1. Summary of Model Performance**\n",
    "The table below presents the results of different regression models used in the analysis:\n",
    "\n",
    "| Model         | R² Score | Feature Selection | Regularization |\n",
    "|--------------|---------|----------------|---------------|\n",
    "| **OLS**       | 0.592   | All features included | No regularization |\n",
    "| **Lasso**     | ~0.592  | Excluded `latitude`, kept `longitude` | L1 penalty (feature selection) |\n",
    "| **Elastic Net** | ~0.592  | Retained `latitude`, adjusted some coefficients | Balances L1 (Lasso) and L2 (Ridge) |\n",
    "\n",
    "**Key Observations**\n",
    "- All models produced **similar R² values (~0.592)**, indicating that feature selection had little impact on predictive performance.\n",
    "- **Lasso removed `latitude` but retained `longitude`**, suggesting a high correlation between these two variables.\n",
    "- **Elastic Net retained `latitude`**, indicating that it contains some unique information that contributes to price prediction.\n",
    "\n",
    "**2. Interpretation of Key Findings**\n",
    "**A. Model Fit and Performance**\n",
    "- **R² = 0.592**: The models explain approximately 59.2% of the variation in house prices.\n",
    "- **Adjusted R² = 0.592**: There is no substantial penalty for adding variables, suggesting that the selected features are relevant.\n",
    "- **F-statistic = 266,100**: The model is statistically significant, with a very low probability of these results occurring by chance.\n",
    "- **Durbin-Watson = 1.366**: Some evidence of positive autocorrelation in residuals, which suggests that prices may follow trends not fully captured by the model.\n",
    "\n",
    "**B. Feature Importance and Coefficients**\n",
    "The following table summarizes the most significant predictors of house price:\n",
    "\n",
    "| Feature            | Coefficient | Interpretation |\n",
    "|--------------------|------------|---------------|\n",
    "| **Median Zip Price** | 0.6959  | Houses in higher-priced zip codes are significantly more expensive. |\n",
    "| **House Size**     | 0.4320  | Larger houses increase price substantially. |\n",
    "| **Acre Lot**       | 0.2398  | More land generally increases house prices. |\n",
    "| **Bath**          | 0.5784  | Additional bathrooms contribute to higher prices. |\n",
    "| **Latitude**       | 0.0032  | Geographic location influences house price. |\n",
    "| **Longitude**      | -0.0048 | Longitude has a negative correlation, likely due to regional price differences. |\n",
    "| **Crime Rate**     | 0.0065  | Higher crime rate is associated with higher prices, possibly due to urban clustering. |\n",
    "\n",
    "**C. Interpretation of Crime Rate and Density Relationship**\n",
    "The positive relationship between crime rate and house price is counterintuitive. This may indicate:\n",
    "- An **urban effect** where higher crime rates occur in densely populated areas that also have higher home prices.\n",
    "- Potential **multicollinearity** with other urban-related variables, such as population density or zip code price levels.\n",
    "\n",
    "**3. Further Investigation and Next Steps**\n",
    "**A. Check for Multicollinearity (Variance Inflation Factor - VIF)**\n",
    "To determine whether some features are redundant, it is necessary to calculate the Variance Inflation Factor (VIF)\n",
    "\n",
    "\n",
    "- Observations  \n",
    "    - Luxury Estates and Luxury Homes have the highest median prices, with Luxury Estates having the widest price range.  \n",
    "    - Ranch Homes and Family Homes fall in a mid-tier price range, but Ranch Homes show more variability.  \n",
    "    - Investment Properties and Tiny Homes have the lowest median prices, with Tiny Homes showing the least variation.  \n",
    "    - Luxury Homes and Luxury Estates have several high-value outliers, indicating that some properties are significantly more expensive than the median.  \n",
    "\n",
    "- Interpretation  \n",
    "    - It is expected that Luxury Estates command the highest prices, as they include expansive properties in prime locations.  \n",
    "    - Ranch Homes appear to have a broad price distribution, which could be due to differences in land value across regions.  \n",
    "    - Investment Properties show high variation, suggesting the category includes both affordable rental units and high-value investment assets.  \n",
    "    - The Other category remains inconsistent, indicating that it might contain unclassified properties such as mobile homes or mixed-use spaces.  \n",
    "\n",
    "- Observations  \n",
    "    - Luxury Estates have the largest homes, with a substantial range in size.  \n",
    "    - Family Homes, Luxury Homes, and Ranch Homes are in a similar size range, though Ranch Homes show more variation.  \n",
    "    - Tiny Homes are the smallest, as expected, followed by Investment Properties, which have moderate variation.  \n",
    "    - Luxury Estates and Luxury Homes have a wide distribution of sizes, suggesting the inclusion of both high-end apartments and large estates.  \n",
    "\n",
    "- Interpretation  \n",
    "    - Family Homes having larger median sizes than Tiny Homes aligns with expectations, as they are designed for larger households.  \n",
    "    - The wide range in Ranch Home sizes suggests that some may be large, multi-acre properties, while others could be smaller homes with significant land.  \n",
    "    - Investment Properties showing variation in size suggests a mix of rental units, duplexes, and larger income-generating properties.  \n",
    "    - The relatively small size distribution of Tiny Homes reflects a niche market targeting affordability and compact living.  \n",
    "\n",
    "- Observations  \n",
    "    - Ranch Homes and Luxury Estates have the largest acre sizes, with Luxury Estates showing the widest range.  \n",
    "    - Family Homes, Tiny Homes, and Investment Properties have significantly smaller acre sizes, as expected.  \n",
    "    - Luxury Homes do not require large land areas, reinforcing the distinction between Luxury Homes and Luxury Estates.  \n",
    "    - The Other category includes properties with variable acre sizes, suggesting mixed property classifications.  \n",
    "\n",
    "- Interpretation  \n",
    "    - Ranch Homes having large acre sizes but mid-tier prices aligns with expectations, as these homes prioritize land over house size.  \n",
    "    - Luxury Estates, which have both large acre sizes and high prices, appear correctly classified.  \n",
    "    - The presence of large-acre properties in the Other category may indicate incomplete classifications or edge cases.  \n",
    "    - The relatively small land size of Tiny Homes and Investment Properties is expected, as these properties are typically located in dense urban areas or are compact rental units.  \n",
    "\n",
    "- Conclusion  \n",
    "    - The distribution of house prices, sizes, and acreages across categories aligns with market trends. Luxury Estates and Luxury Homes tend to be larger and more expensive, while Tiny Homes and Investment Properties remain compact and more affordable. Ranch Homes show a distinct trend, prioritizing land size over price. The classification model appears reasonable, but additional refinement in the Other category and further validation using location-based data could enhance accuracy.\n",
    "\n"
   ]
  },
  {
   "cell_type": "markdown",
   "id": "20bac1bf",
   "metadata": {},
   "source": [
    "**Univariate Analysis**"
   ]
  },
  {
   "cell_type": "markdown",
   "id": "bfb4d0e9",
   "metadata": {},
   "source": [
    "for col in (realtor_data.select_dtypes(include=['float64', 'int64']).columns):\n",
    "    plt.figure(figsize=(8, 4))\n",
    "    sns.histplot(realtor_data[col], kde=True, stat='density', bins=20)\n",
    "    plt.title(f'Distribution of {col}')\n",
    "    plt.show()"
   ]
  },
  {
   "cell_type": "markdown",
   "id": "5eeafa5b",
   "metadata": {},
   "source": [
    "Distributions of the numeric features"
   ]
  },
  {
   "cell_type": "markdown",
   "id": "aa1b1082",
   "metadata": {},
   "source": [
    "numeric_cols = ['price', 'bed', 'bath', 'acre_lot', 'house_size']\n",
    "sampled_data = realtor_data.sample(100000, random_state=42)  # Sample 100K rows\n",
    "\n",
    "fig, axes = plt.subplots(2, 2, figsize=(10, 8))\n",
    "fig.subplots_adjust(hspace=0.4, wspace=0.3)\n",
    "\n",
    "for ax, col in zip(axes.flatten(), numeric_cols[:4]):\n",
    "    sns.histplot(data=sampled_data, x=col, kde=True, stat=\"density\", kde_kws={\"bw_adjust\": 5}, bins=25, ax=ax)\n",
    "    ax.set_title(col)\n",
    "    if col in ['bed', 'bath']:\n",
    "        ax.set_xlabel(f'{col} (unit of 1)')\n",
    "    elif col == 'price':\n",
    "        ax.set_xlabel(f'{col} (millions $)')\n",
    "    else:\n",
    "        ax.set_xlabel(f'{col} (acres)')\n",
    "\n",
    "plt.figure(figsize=(4, 3))\n",
    "sns.histplot(data=sampled_data, x=numeric_cols[4], kde=True, stat=\"density\", kde_kws={\"bw_adjust\": 5}, bins=25)\n",
    "plt.title(numeric_cols[4])\n",
    "plt.xlabel(f'{numeric_cols[4]} (sq ft)')\n",
    "plt.show()"
   ]
  },
  {
   "cell_type": "markdown",
   "id": "66438485",
   "metadata": {},
   "source": [
    "Since the histograms of `price`, `acre_lot`, and `house_size` show extreme right-skewness, we will apply a log transformation to spread out the lower values."
   ]
  },
  {
   "cell_type": "markdown",
   "id": "e8d08030-1eea-49d0-846f-54005268356b",
   "metadata": {},
   "source": [
    "RE_data = realtor_data"
   ]
  },
  {
   "cell_type": "markdown",
   "id": "b7a16494",
   "metadata": {},
   "source": [
    "# Price\n",
    "fig, ax = plt.subplots(figsize=(6, 5))\n",
    "sns.histplot(data=realtor_data, x=np.log10(realtor_data['price'] + 1), kde=True, bins=50, ax=ax)\n",
    "ax.set_title(\"Log-Transformed Standardized Price Distribution\")\n",
    "ax.set_xlabel(\"log10(price)\")\n",
    "plt.show()\n",
    "\n",
    "# acre_lot\n",
    "fig, ax = plt.subplots(figsize=(6, 5))\n",
    "sns.histplot(data=realtor_data, x=np.log10(realtor_data['acre_lot'] + 1), kde=False, bins=30, ax=ax)\n",
    "ax.set_title(\"Log-Transformed Standardized acre_lot Distribution\")\n",
    "ax.set_xlabel(\"log10(acre_lot)\")\n",
    "plt.show()\n",
    "\n",
    "# Q-Q plot\n",
    "fig, ax = plt.subplots(figsize=(6, 5))\n",
    "stats.probplot(np.log10(realtor_data['acre_lot'] + 1), dist=\"norm\", plot=ax)\n",
    "ax.set_title(\"Q-Q Plot of Log-Transformed acre_lot\")\n",
    "plt.show()"
   ]
  },
  {
   "cell_type": "markdown",
   "id": "737e8591",
   "metadata": {},
   "source": [
    "# Plotting log-transformed standardized values for 'price' and 'acre_lot'\n",
    "fig, axes = plt.subplots(1, 2, figsize=(12, 5))\n",
    "fig.subplots_adjust(hspace=0.4, wspace=0.3)\n",
    "\n",
    "for ax, col in zip(axes.flatten(), ['price', 'acre_lot']):\n",
    "    # Plot log-transformed standardized values\n",
    "    sns.histplot(data=realtor_data_copy, x=np.log1p(realtor_data_copy[col]), kde=True, bins=30, ax=ax)\n",
    "    ax.set_title(f\"Log-Transformed {col}\")\n",
    "    ax.set_xlabel(f\"log10({col})\")\n",
    "\n",
    "plt.show()\n",
    "\n",
    "# Plotting for 'house_size'\n",
    "fig, ax = plt.subplots(figsize=(6, 5))\n",
    "sns.histplot(data=realtor_data_copy, x=np.log1p(realtor_data_copy['house_size']), kde=True, bins=30)\n",
    "ax.set_title(\"Log-Transformed house_size\")\n",
    "ax.set_xlabel(\"log10(house_size)\")\n",
    "plt.show()"
   ]
  },
  {
   "cell_type": "markdown",
   "id": "6c034743-8f1d-452d-a319-e6ba15fb3d28",
   "metadata": {},
   "source": [
    "# Ensure only numeric columns are considered\n",
    "numeric_cols = realtor_data.select_dtypes(include=['number']).columns\n",
    "\n",
    "# Compute skewness only for numeric columns\n",
    "skewed_cols = numeric_cols[realtor_data[numeric_cols].skew() > 2].tolist()\n",
    "\n",
    "# Apply log transformation for highly skewed columns\n",
    "realtor_data[skewed_cols] = realtor_data[skewed_cols].apply(lambda x: np.log1p(x))\n",
    "\n",
    "print(f\"Log-transformed columns: {skewed_cols}\")"
   ]
  },
  {
   "cell_type": "markdown",
   "id": "1f04f31b-0d93-4780-9498-43046a939ad8",
   "metadata": {},
   "source": [
    "fig, axes = plt.subplots(1, 2, figsize=(14, 5))\n",
    "\n",
    "# Before log transformation\n",
    "sns.violinplot(y=realtor_data_copy['price'], ax=axes[0], color='blue')\n",
    "axes[0].set_title('Price Distribution (Original)')\n",
    "\n",
    "# After log transformation\n",
    "sns.violinplot(y=np.log1p(realtor_data['price']), ax=axes[1], color='red')\n",
    "axes[1].set_title('Price Distribution (Log-Transformed)')\n",
    "\n",
    "plt.show()"
   ]
  },
  {
   "cell_type": "markdown",
   "id": "98a81345-329b-40ec-9df5-ba645e660bae",
   "metadata": {},
   "source": [
    "numeric_data = realtor_data.select_dtypes(include=['number'])\n",
    "plt.figure(figsize=(20, 6))\n",
    "sns.heatmap(numeric_data.corr(), annot=True, cmap='coolwarm', fmt=\".2f\")\n",
    "plt.title(\"Feature Correlation Heatmap\")\n",
    "plt.show()"
   ]
  },
  {
   "cell_type": "markdown",
   "id": "1b8d7b28-5ca1-4784-956c-efc9b1a72b65",
   "metadata": {},
   "source": [
    "sns.set(style=\"whitegrid\")\n",
    "plt.figure(figsize=(10, 6))\n",
    "sns.countplot(x='status', data=realtor_data, hue='status', palette='coolwarm')\n",
    "plt.title(\"Distribution of Status by Color\")\n",
    "plt.show()\n"
   ]
  },
  {
   "cell_type": "markdown",
   "id": "fd87240e-c4e6-4c2a-b7e9-8d2485c446be",
   "metadata": {},
   "source": [
    "RE = realtor_data"
   ]
  },
  {
   "cell_type": "markdown",
   "id": "91e7b0f2-d0c8-4771-ac01-5ba9f222fd98",
   "metadata": {},
   "source": [
    "outlier_list = ['price','bed','house_size']\n",
    "max = 3\n",
    "for i in outlier_list:\n",
    "    z_scores = np.abs((RE_data[i] - RE_data[i].mean()) / RE_data[i].std())\n",
    "    RE_data = RE_data[z_scores <= max]"
   ]
  },
  {
   "cell_type": "markdown",
   "id": "2eb5648b-6c3e-47c0-ab91-466616c9f661",
   "metadata": {},
   "source": [
    "**Avg house size by state**"
   ]
  },
  {
   "cell_type": "markdown",
   "id": "d89f01c1-0619-4dcf-bbed-c9bcc17c6572",
   "metadata": {},
   "source": [
    "avg_house_size = RE_data[['state','house_size']]\\\n",
    "                .groupby('state')\\\n",
    "                .mean()\\\n",
    "                .sort_values('house_size')\\\n",
    "                .rename(columns={'house_size':'House Size'})\n",
    "avg_house_size.index.name = 'State'\n",
    "\n",
    "avg_house_size.plot(kind='bar');\n",
    "plt.title('Average House Size by State');\n",
    "plt.ylabel('Average House Size');"
   ]
  },
  {
   "cell_type": "markdown",
   "id": "a4e397a3-d07d-428e-aa16-a66f7302bc1f",
   "metadata": {},
   "source": [
    "**Price range frequency**"
   ]
  },
  {
   "cell_type": "markdown",
   "id": "0d2b2947-2cae-47db-9656-6cb6a028029d",
   "metadata": {},
   "source": [
    "num_bins = 20\n",
    "price_range = (0,100)\n",
    "\n",
    "hist_price = pd.cut(RE_data['price'], bins=num_bins)\n",
    "\n",
    "dist_houseprice = hist_price.value_counts().sort_index().round(2).plot(kind='bar');\n",
    "\n",
    "plt.xlabel('Price Range')\n",
    "plt.ylabel('Frequency')\n",
    "\n",
    "dist_houseprice;"
   ]
  },
  {
   "cell_type": "markdown",
   "id": "6561b21b-a423-47b9-96df-fa0393c19eea",
   "metadata": {},
   "source": [
    "**Price distribution on bedroom**"
   ]
  },
  {
   "cell_type": "markdown",
   "id": "d162ca83-6a8f-441c-bea3-ae8445b00274",
   "metadata": {},
   "source": [
    "def as_millions(value):\n",
    "    return value/1_000_000\n",
    "\n",
    "\n",
    "avg_price_bdr = RE_data[['price','bed']]\\\n",
    "                .groupby('bed')\\\n",
    "                .mean()\\\n",
    "                .rename(columns={'price':'Price'})\\\n",
    "                .apply(as_millions)\n",
    "    \n",
    "avg_price_bdr.index.name = \"Bedroom\"\n",
    "\n",
    "avg_price_bdr\n",
    "\n",
    "avg_price_bdr.plot(kind='bar')\n",
    "plt.ylabel('Price (in MMs)');"
   ]
  },
  {
   "cell_type": "markdown",
   "id": "9873f5db-d6c2-458b-920b-1aa6fecf17b1",
   "metadata": {},
   "source": [
    "**Avg price of State**"
   ]
  },
  {
   "cell_type": "markdown",
   "id": "2f67dc93-f9a7-493d-9bcc-86aae194e49a",
   "metadata": {},
   "source": [
    "avg_price_state = RE_data[['state','price']]\\\n",
    "                .groupby('state')\\\n",
    "                .mean()\\\n",
    "                .sort_values('price')\\\n",
    "                .rename(columns={'price':'Price'})\n",
    "avg_price_state.index.name = 'State'\n",
    "\n",
    "avg_price_state.plot(kind='bar')\n",
    "plt.ylabel('Price')\n",
    "plt.title('Average Home Price of State');"
   ]
  },
  {
   "cell_type": "markdown",
   "id": "53532ba6-d995-4ede-aed8-3acb0c7d99e2",
   "metadata": {},
   "source": [
    "**Highest Average Home Price accross citys**"
   ]
  },
  {
   "cell_type": "markdown",
   "id": "a82a5231-9f90-4a2b-ae4e-51e3d8fa02b8",
   "metadata": {},
   "source": [
    "avg_price_city = RE_data[['city','price']]\\\n",
    "                .groupby('city')\\\n",
    "                .mean()\\\n",
    "                .nlargest(10,'price')\\\n",
    "                .rename(columns={'price':'Price'})\n",
    "avg_price_city.index.name = 'City'\n",
    "\n",
    "avg_price_city['Price'] = avg_price_city['Price'].apply(as_millions) \n",
    "                \n",
    "avg_price_city\n",
    "\n",
    "avg_price_city.plot(kind='bar');\n",
    "plt.ylabel('Price (in MMs)');\n",
    "plt.title('Top Ten Cities with Highest Average Home Prices');"
   ]
  },
  {
   "cell_type": "markdown",
   "id": "678e6823-9471-4cdb-b221-52b7535bd0fc",
   "metadata": {},
   "source": [
    "## Baseline Models"
   ]
  },
  {
   "cell_type": "markdown",
   "id": "0b3ee9a3-ffa1-4be0-a448-e0ffb83b0df2",
   "metadata": {
    "scrolled": true
   },
   "source": [
    "**Preprocessing Features**"
   ]
  },
  {
   "cell_type": "code",
   "execution_count": 71,
   "id": "a77b3b64-426f-4c6a-8857-c0c1ab746a4a",
   "metadata": {},
   "outputs": [],
   "source": [
    "feature_cols = [\"median_zip_price\", \"house_size\", \"acre_lot\", \n",
    "                \"bath\", \"latitude\", \"longitude\", \"crime_rate\"]\n",
    "X = realtor_data[feature_cols]\n",
    "y = realtor_data[\"price\"]  \n",
    "X_train, X_test, y_train, y_test = train_test_split(\n",
    "    X, y, test_size=0.2, random_state=42\n",
    ")"
   ]
  },
  {
   "cell_type": "markdown",
   "id": "96f826fe-5e52-40c6-9fa3-559aa1446df9",
   "metadata": {},
   "source": [
    "**Linear Regression**"
   ]
  },
  {
   "cell_type": "markdown",
   "id": "23bd04fb-722f-4cec-8960-259035c7ac7b",
   "metadata": {},
   "source": [
    "linreg = LinearRegression()\n",
    "linreg.fit(X_train, y_train)\n",
    "y_pred = linreg.predict(X_test)\n",
    "rmse = np.sqrt(mean_squared_error(y_test, y_pred))\n",
    "print(f\"RMSE: {rmse:.2f}\")"
   ]
  },
  {
   "cell_type": "markdown",
   "id": "616ba1f1-03a7-44b7-bebd-3790233903f8",
   "metadata": {},
   "source": [
    "**Random Forest Regressor**"
   ]
  },
  {
   "cell_type": "markdown",
   "id": "ea4486a5-7b46-45ac-83d9-c9ea3b302c77",
   "metadata": {},
   "source": [
    "rf_reg = RandomForestRegressor(\n",
    "    n_estimators=100,\n",
    "    random_state=42,\n",
    "    max_depth=10\n",
    ")\n",
    "rf_reg.fit(X_train, y_train)\n",
    "y_pred = rf_reg.predict(X_test)\n",
    "rmse = np.sqrt(mean_squared_error(y_test, y_pred))\n",
    "print(f\"RMSE: {rmse:.2f}\")"
   ]
  },
  {
   "cell_type": "markdown",
   "id": "ee9683eb-6869-4e71-8d68-f7c4caae0918",
   "metadata": {},
   "source": [
    "**XGBoost Regressor**"
   ]
  },
  {
   "cell_type": "markdown",
   "id": "86f17538-8d21-46c5-8886-e16c4520f0a8",
   "metadata": {},
   "source": [
    "xgb_reg = xgb.XGBRegressor(\n",
    "    n_estimators=100,\n",
    "    max_depth=10,\n",
    "    learning_rate=0.1,\n",
    "    random_state=42,\n",
    "    verbosity=1\n",
    ")\n",
    "xgb_reg.fit(X_train, y_train)\n",
    "y_pred = xgb_reg.predict(X_test)\n",
    "rmse = np.sqrt(mean_squared_error(y_test, y_pred))\n",
    "print(f\"RMSE: {rmse:.2f}\")"
   ]
  },
  {
   "cell_type": "markdown",
   "id": "89dd02b0-3d3f-47bb-b187-c5c79e73080e",
   "metadata": {},
   "source": [
    "**LightGBM**"
   ]
  },
  {
   "cell_type": "markdown",
   "id": "dd116389-78ef-4c42-b64e-08a2ee6b4e39",
   "metadata": {},
   "source": [
    "lgb_reg = lgb.LGBMRegressor(\n",
    "    n_estimators=100,\n",
    "    max_depth=10,\n",
    "    learning_rate=0.1,\n",
    "    random_state=42\n",
    ")\n",
    "lgb_reg.fit(X_train, y_train)\n",
    "y_pred = lgb_reg.predict(X_test)\n",
    "rmse = np.sqrt(mean_squared_error(y_test, y_pred))\n",
    "print(f\"RMSE: {rmse:.2f}\")"
   ]
  },
  {
   "cell_type": "markdown",
   "id": "378e774a-d3d3-49f8-8fea-9f53517fb735",
   "metadata": {},
   "source": [
    "**Lasso Regression**"
   ]
  },
  {
   "cell_type": "markdown",
   "id": "905a5678-515e-4aac-81d8-5a1d65cebfd9",
   "metadata": {},
   "source": [
    "lasso_reg = Lasso(alpha=0.01)\n",
    "lasso_reg.fit(X_train, y_train)\n",
    "y_pred_lasso = lasso_reg.predict(X_test)\n",
    "rmse = np.sqrt(mean_squared_error(y_test, y_pred_lasso))\n",
    "print(f\"RMSE: {rmse:.2f}\")"
   ]
  },
  {
   "cell_type": "markdown",
   "id": "cee9abae-bcd4-4149-91b7-a03fc1fe11c2",
   "metadata": {},
   "source": [
    "**Ridge Regression**"
   ]
  },
  {
   "cell_type": "markdown",
   "id": "fe1a7f8d-1f8f-4800-8b01-4fb4a5fd2d78",
   "metadata": {},
   "source": [
    "ridge_reg = Ridge(alpha=1.0)\n",
    "ridge_reg.fit(X_train, y_train)\n",
    "y_pred_ridge = ridge_reg.predict(X_test)\n",
    "rmse = np.sqrt(mean_squared_error(y_test, y_pred_ridge))\n",
    "print(f\"RMSE: {rmse:.2f}\")"
   ]
  },
  {
   "cell_type": "markdown",
   "id": "5f7453a5",
   "metadata": {},
   "source": [
    "## Final Model"
   ]
  },
  {
   "cell_type": "code",
   "execution_count": 72,
   "id": "e06e8a8a-f6ce-4c34-b8bf-5d4abea4b1a9",
   "metadata": {
    "scrolled": true
   },
   "outputs": [
    {
     "name": "stdout",
     "output_type": "stream",
     "text": [
      "[LightGBM] [Info] Auto-choosing row-wise multi-threading, the overhead of testing was 0.037392 seconds.\n",
      "You can set `force_row_wise=true` to remove the overhead.\n",
      "And if memory is not enough, you can set `force_col_wise=true`.\n",
      "[LightGBM] [Info] Total Bins 6715\n",
      "[LightGBM] [Info] Number of data points in the train set: 1760742, number of used features: 38\n",
      "[LightGBM] [Info] Start training from score 12.580133\n",
      "RMSE: 0.41\n"
     ]
    }
   ],
   "source": [
    "X = realtor_data.drop('price', axis=1)\n",
    "y = realtor_data['price']\n",
    "X['prev_sold_year'] = X['prev_sold_date'].dt.year\n",
    "X['prev_sold_month'] = X['prev_sold_date'].dt.month\n",
    "X['prev_sold_day'] = X['prev_sold_date'].dt.day\n",
    "X = X.drop(columns=['prev_sold_date'])\n",
    "\n",
    "categorical_cols = X.select_dtypes(include=['object']).columns\n",
    "encoder = LabelEncoder()\n",
    "for col in categorical_cols:\n",
    "    X[col] = encoder.fit_transform(X[col])\n",
    "\n",
    "X_train, X_test, y_train, y_test = train_test_split(X, y, test_size=0.2, random_state=42)\n",
    "\n",
    "train_data = lgb.Dataset(X_train, label=y_train)\n",
    "test_data = lgb.Dataset(X_test, label=y_test, reference=train_data)\n",
    "\n",
    "params = {\n",
    "    'objective': 'regression',\n",
    "    'metric': 'rmse',\n",
    "    'boosting_type': 'gbdt', \n",
    "    'num_leaves': 100,        # From RandomizedSearchCV\n",
    "    'max_depth': 20,          # From RandomizedSearchCV\n",
    "    'learning_rate': 0.1,     # From RandomizedSearchCV\n",
    "    'lambda_l1': 1.0,         # From RandomizedSearchCV      \n",
    "    'lambda_l2': 1.0,         # From RandomizedSearchCV      \n",
    "    'feature_fraction': 1,  # From RandomizedSearchCV\n",
    "    'bagging_fraction': 0.8,  # From RandomizedSearchCV     \n",
    "}\n",
    "\n",
    "model = lgb.train(params, train_data, valid_sets=[test_data], num_boost_round=1000)\n",
    "\n",
    "y_pred = model.predict(X_test, num_iteration=model.best_iteration)\n",
    "\n",
    "rmse = mean_squared_error(y_test, y_pred, squared=False)\n",
    "print(f\"RMSE: {rmse:.2f}\")"
   ]
  },
  {
   "cell_type": "markdown",
   "id": "ca2132e5-7c99-41cd-8667-d18c0e4d7f92",
   "metadata": {},
   "source": [
    "**RandomSearchCV**"
   ]
  },
  {
   "cell_type": "code",
   "execution_count": 73,
   "id": "e7b5f548-d699-4b15-95a8-5bdd9201bb21",
   "metadata": {},
   "outputs": [],
   "source": [
    "# param_dist = {\n",
    "#     'num_leaves': [31, 50, 100],\n",
    "#     'learning_rate': [0.01, 0.05, 0.1],\n",
    "#     'max_depth': [-1, 10, 20],\n",
    "#     'feature_fraction': [0.6, 0.8, 1.0],\n",
    "#     'bagging_fraction': [0.6, 0.8, 1.0],\n",
    "#     'lambda_l1': [0.1, 0.5, 1.0],\n",
    "#     'lambda_l2': [0.1, 0.5, 1.0],\n",
    "# }\n",
    "\n",
    "# lgb_model = lgb.LGBMRegressor(objective='regression', metric='rmse')\n",
    "\n",
    "# random_search = RandomizedSearchCV(lgb_model, param_distributions=param_dist, n_iter=10, cv=3, verbose=2)\n",
    "# random_search.fit(X_train, y_train)\n",
    "\n",
    "# print(f\"Best parameters: {random_search.best_params_}\")"
   ]
  },
  {
   "cell_type": "markdown",
   "id": "ad60615d-2820-44bd-ab16-5e816a5e9a47",
   "metadata": {},
   "source": [
    "**Important Features For the Model**"
   ]
  },
  {
   "cell_type": "code",
   "execution_count": 74,
   "id": "4bafd228-54df-4305-952e-52e45bcbf38b",
   "metadata": {
    "scrolled": true
   },
   "outputs": [
    {
     "name": "stdout",
     "output_type": "stream",
     "text": [
      "                 Feature    Importance\n",
      "26      median_zip_price  4.837365e+06\n",
      "34        house_category  1.476547e+06\n",
      "9             house_size  6.134539e+05\n",
      "3                   bath  5.816400e+05\n",
      "4               acre_lot  4.481432e+05\n",
      "16               density  1.054784e+05\n",
      "27       inventory_count  1.049133e+05\n",
      "2                    bed  9.650178e+04\n",
      "5                 street  9.212687e+04\n",
      "10            first_time  8.430762e+04\n",
      "11             land_area  5.059362e+04\n",
      "13              latitude  4.603798e+04\n",
      "20       closest_uni_lat  4.542729e+04\n",
      "15            population  4.505485e+04\n",
      "23    closest_uni_obereg  4.024692e+04\n",
      "7                  state  3.245766e+04\n",
      "12            water_area  3.080950e+04\n",
      "25       distance_to_uni  2.530202e+04\n",
      "29  nearest_zip_distance  2.498998e+04\n",
      "8               zip_code  2.495735e+04\n",
      "14             longitude  2.482479e+04\n",
      "1                 status  2.411204e+04\n",
      "31            crime_rate  2.092792e+04\n",
      "21       closest_uni_lon  2.024352e+04\n",
      "6                   city  1.976083e+04\n",
      "22       closest_uni_zip  1.904075e+04\n",
      "19      closest_uni_name  1.855172e+04\n",
      "0            brokered_by  1.821019e+04\n",
      "28           nearest_zip  1.625341e+04\n",
      "17         violent_crime  1.592309e+04\n",
      "35        prev_sold_year  1.464564e+04\n",
      "24   closest_uni_hloffer  1.444325e+04\n",
      "32          property_tax  1.367497e+04\n",
      "18        property_crime  1.190418e+04\n",
      "30           total_crime  7.551241e+03\n",
      "36       prev_sold_month  4.249904e+03\n",
      "37         prev_sold_day  3.796040e+03\n",
      "33                  rank  2.806877e+03\n"
     ]
    }
   ],
   "source": [
    "importances = model.feature_importance(importance_type='gain')\n",
    "features = X_train.columns\n",
    "feature_importance_df = pd.DataFrame({'Feature': features, 'Importance': importances}).sort_values(by='Importance', ascending=False)\n",
    "print(feature_importance_df)"
   ]
  },
  {
   "attachments": {},
   "cell_type": "markdown",
   "id": "906f8455",
   "metadata": {},
   "source": [
    "## Home Evaluation and Association Rule Mining"
   ]
  },
  {
   "cell_type": "code",
   "execution_count": 75,
   "id": "42ecf79e",
   "metadata": {},
   "outputs": [],
   "source": [
    "realtor_data['prev_sold_year'] = realtor_data['prev_sold_date'].dt.year\n",
    "realtor_data['prev_sold_month'] = realtor_data['prev_sold_date'].dt.month\n",
    "realtor_data['prev_sold_day'] = realtor_data['prev_sold_date'].dt.day\n",
    "\n",
    "X_features = realtor_data.drop(columns=['prev_sold_date', 'price'])\n",
    "\n",
    "categorical_cols = X_features.select_dtypes(include=['object']).columns\n",
    "for col in categorical_cols:\n",
    "    X_features[col] = encoder.fit_transform(X_features[col])\n",
    "\n",
    "realtor_data['xPrice'] = model.predict(X_features, num_iteration=model.best_iteration)"
   ]
  },
  {
   "cell_type": "code",
   "execution_count": 76,
   "id": "5c3fa8cc",
   "metadata": {},
   "outputs": [
    {
     "data": {
      "text/html": [
       "<div>\n",
       "<style scoped>\n",
       "    .dataframe tbody tr th:only-of-type {\n",
       "        vertical-align: middle;\n",
       "    }\n",
       "\n",
       "    .dataframe tbody tr th {\n",
       "        vertical-align: top;\n",
       "    }\n",
       "\n",
       "    .dataframe thead th {\n",
       "        text-align: right;\n",
       "    }\n",
       "</style>\n",
       "<table border=\"1\" class=\"dataframe\">\n",
       "  <thead>\n",
       "    <tr style=\"text-align: right;\">\n",
       "      <th></th>\n",
       "      <th>brokered_by</th>\n",
       "      <th>status</th>\n",
       "      <th>price</th>\n",
       "      <th>bed</th>\n",
       "      <th>bath</th>\n",
       "      <th>acre_lot</th>\n",
       "      <th>street</th>\n",
       "      <th>city</th>\n",
       "      <th>state</th>\n",
       "      <th>zip_code</th>\n",
       "      <th>house_size</th>\n",
       "      <th>prev_sold_date</th>\n",
       "      <th>first_time</th>\n",
       "      <th>land_area</th>\n",
       "      <th>water_area</th>\n",
       "      <th>latitude</th>\n",
       "      <th>longitude</th>\n",
       "      <th>population</th>\n",
       "      <th>density</th>\n",
       "      <th>violent_crime</th>\n",
       "      <th>property_crime</th>\n",
       "      <th>closest_uni_name</th>\n",
       "      <th>closest_uni_lat</th>\n",
       "      <th>closest_uni_lon</th>\n",
       "      <th>closest_uni_zip</th>\n",
       "      <th>closest_uni_obereg</th>\n",
       "      <th>closest_uni_hloffer</th>\n",
       "      <th>distance_to_uni</th>\n",
       "      <th>median_zip_price</th>\n",
       "      <th>inventory_count</th>\n",
       "      <th>nearest_zip</th>\n",
       "      <th>nearest_zip_distance</th>\n",
       "      <th>total_crime</th>\n",
       "      <th>crime_rate</th>\n",
       "      <th>property_tax</th>\n",
       "      <th>rank</th>\n",
       "      <th>house_category</th>\n",
       "      <th>prev_sold_year</th>\n",
       "      <th>prev_sold_month</th>\n",
       "      <th>prev_sold_day</th>\n",
       "      <th>xPrice</th>\n",
       "      <th>price_diff</th>\n",
       "      <th>valuation</th>\n",
       "    </tr>\n",
       "  </thead>\n",
       "  <tbody>\n",
       "    <tr>\n",
       "      <th>0</th>\n",
       "      <td>67832</td>\n",
       "      <td>for sale</td>\n",
       "      <td>12.100718</td>\n",
       "      <td>2</td>\n",
       "      <td>1</td>\n",
       "      <td>0.292670</td>\n",
       "      <td>732726</td>\n",
       "      <td>agawam</td>\n",
       "      <td>massachusetts</td>\n",
       "      <td>1001</td>\n",
       "      <td>6.517671</td>\n",
       "      <td>2021-11-30</td>\n",
       "      <td>1</td>\n",
       "      <td>2.508949</td>\n",
       "      <td>0.599386</td>\n",
       "      <td>42.062368</td>\n",
       "      <td>-72.625754</td>\n",
       "      <td>17621.0</td>\n",
       "      <td>6.3347</td>\n",
       "      <td>4.343805</td>\n",
       "      <td>6.257668</td>\n",
       "      <td>bay path university</td>\n",
       "      <td>42.055088</td>\n",
       "      <td>-72.583382</td>\n",
       "      <td>01106</td>\n",
       "      <td>1</td>\n",
       "      <td>9</td>\n",
       "      <td>1.788056</td>\n",
       "      <td>12.396697</td>\n",
       "      <td>3.332205</td>\n",
       "      <td>1030</td>\n",
       "      <td>10.391737</td>\n",
       "      <td>10.601473</td>\n",
       "      <td>0.601639</td>\n",
       "      <td>1.11</td>\n",
       "      <td>17</td>\n",
       "      <td>Tiny Home</td>\n",
       "      <td>2021</td>\n",
       "      <td>11</td>\n",
       "      <td>30</td>\n",
       "      <td>11.615943</td>\n",
       "      <td>0.484775</td>\n",
       "      <td>Overvalued</td>\n",
       "    </tr>\n",
       "    <tr>\n",
       "      <th>1</th>\n",
       "      <td>97400</td>\n",
       "      <td>for sale</td>\n",
       "      <td>10.126671</td>\n",
       "      <td>3</td>\n",
       "      <td>2</td>\n",
       "      <td>1.483875</td>\n",
       "      <td>1909493</td>\n",
       "      <td>agawam</td>\n",
       "      <td>massachusetts</td>\n",
       "      <td>1001</td>\n",
       "      <td>7.242798</td>\n",
       "      <td>2021-11-30</td>\n",
       "      <td>1</td>\n",
       "      <td>2.508949</td>\n",
       "      <td>0.599386</td>\n",
       "      <td>42.062368</td>\n",
       "      <td>-72.625754</td>\n",
       "      <td>17621.0</td>\n",
       "      <td>6.3347</td>\n",
       "      <td>4.343805</td>\n",
       "      <td>6.257668</td>\n",
       "      <td>bay path university</td>\n",
       "      <td>42.055088</td>\n",
       "      <td>-72.583382</td>\n",
       "      <td>01106</td>\n",
       "      <td>1</td>\n",
       "      <td>9</td>\n",
       "      <td>1.788056</td>\n",
       "      <td>12.396697</td>\n",
       "      <td>3.332205</td>\n",
       "      <td>1030</td>\n",
       "      <td>10.391737</td>\n",
       "      <td>10.601473</td>\n",
       "      <td>0.601639</td>\n",
       "      <td>1.11</td>\n",
       "      <td>17</td>\n",
       "      <td>Ranch Home</td>\n",
       "      <td>2021</td>\n",
       "      <td>11</td>\n",
       "      <td>30</td>\n",
       "      <td>11.750796</td>\n",
       "      <td>-1.624125</td>\n",
       "      <td>Undervalued</td>\n",
       "    </tr>\n",
       "    <tr>\n",
       "      <th>2</th>\n",
       "      <td>58796</td>\n",
       "      <td>for sale</td>\n",
       "      <td>12.042971</td>\n",
       "      <td>2</td>\n",
       "      <td>2</td>\n",
       "      <td>0.343590</td>\n",
       "      <td>1194249</td>\n",
       "      <td>agawam</td>\n",
       "      <td>massachusetts</td>\n",
       "      <td>1001</td>\n",
       "      <td>6.794587</td>\n",
       "      <td>2019-04-30</td>\n",
       "      <td>0</td>\n",
       "      <td>2.508949</td>\n",
       "      <td>0.599386</td>\n",
       "      <td>42.062368</td>\n",
       "      <td>-72.625754</td>\n",
       "      <td>17621.0</td>\n",
       "      <td>6.3347</td>\n",
       "      <td>4.343805</td>\n",
       "      <td>6.257668</td>\n",
       "      <td>bay path university</td>\n",
       "      <td>42.055088</td>\n",
       "      <td>-72.583382</td>\n",
       "      <td>01106</td>\n",
       "      <td>1</td>\n",
       "      <td>9</td>\n",
       "      <td>1.788056</td>\n",
       "      <td>12.396697</td>\n",
       "      <td>3.332205</td>\n",
       "      <td>1030</td>\n",
       "      <td>10.391737</td>\n",
       "      <td>10.601473</td>\n",
       "      <td>0.601639</td>\n",
       "      <td>1.11</td>\n",
       "      <td>17</td>\n",
       "      <td>Tiny Home</td>\n",
       "      <td>2019</td>\n",
       "      <td>4</td>\n",
       "      <td>30</td>\n",
       "      <td>11.935597</td>\n",
       "      <td>0.107374</td>\n",
       "      <td>Properly Valued</td>\n",
       "    </tr>\n",
       "    <tr>\n",
       "      <th>3</th>\n",
       "      <td>8147</td>\n",
       "      <td>for sale</td>\n",
       "      <td>12.396697</td>\n",
       "      <td>2</td>\n",
       "      <td>2</td>\n",
       "      <td>0.343590</td>\n",
       "      <td>913299</td>\n",
       "      <td>agawam</td>\n",
       "      <td>massachusetts</td>\n",
       "      <td>1001</td>\n",
       "      <td>7.264730</td>\n",
       "      <td>2021-11-30</td>\n",
       "      <td>1</td>\n",
       "      <td>2.508949</td>\n",
       "      <td>0.599386</td>\n",
       "      <td>42.062368</td>\n",
       "      <td>-72.625754</td>\n",
       "      <td>17621.0</td>\n",
       "      <td>6.3347</td>\n",
       "      <td>4.343805</td>\n",
       "      <td>6.257668</td>\n",
       "      <td>bay path university</td>\n",
       "      <td>42.055088</td>\n",
       "      <td>-72.583382</td>\n",
       "      <td>01106</td>\n",
       "      <td>1</td>\n",
       "      <td>9</td>\n",
       "      <td>1.788056</td>\n",
       "      <td>12.396697</td>\n",
       "      <td>3.332205</td>\n",
       "      <td>1030</td>\n",
       "      <td>10.391737</td>\n",
       "      <td>10.601473</td>\n",
       "      <td>0.601639</td>\n",
       "      <td>1.11</td>\n",
       "      <td>17</td>\n",
       "      <td>Investment Property</td>\n",
       "      <td>2021</td>\n",
       "      <td>11</td>\n",
       "      <td>30</td>\n",
       "      <td>12.470693</td>\n",
       "      <td>-0.073996</td>\n",
       "      <td>Properly Valued</td>\n",
       "    </tr>\n",
       "    <tr>\n",
       "      <th>4</th>\n",
       "      <td>22700</td>\n",
       "      <td>for sale</td>\n",
       "      <td>12.611374</td>\n",
       "      <td>2</td>\n",
       "      <td>2</td>\n",
       "      <td>0.343590</td>\n",
       "      <td>560791</td>\n",
       "      <td>agawam</td>\n",
       "      <td>massachusetts</td>\n",
       "      <td>1001</td>\n",
       "      <td>7.414573</td>\n",
       "      <td>2021-11-30</td>\n",
       "      <td>1</td>\n",
       "      <td>2.508949</td>\n",
       "      <td>0.599386</td>\n",
       "      <td>42.062368</td>\n",
       "      <td>-72.625754</td>\n",
       "      <td>17621.0</td>\n",
       "      <td>6.3347</td>\n",
       "      <td>4.343805</td>\n",
       "      <td>6.257668</td>\n",
       "      <td>bay path university</td>\n",
       "      <td>42.055088</td>\n",
       "      <td>-72.583382</td>\n",
       "      <td>01106</td>\n",
       "      <td>1</td>\n",
       "      <td>9</td>\n",
       "      <td>1.788056</td>\n",
       "      <td>12.396697</td>\n",
       "      <td>3.332205</td>\n",
       "      <td>1030</td>\n",
       "      <td>10.391737</td>\n",
       "      <td>10.601473</td>\n",
       "      <td>0.601639</td>\n",
       "      <td>1.11</td>\n",
       "      <td>17</td>\n",
       "      <td>Investment Property</td>\n",
       "      <td>2021</td>\n",
       "      <td>11</td>\n",
       "      <td>30</td>\n",
       "      <td>12.644924</td>\n",
       "      <td>-0.033550</td>\n",
       "      <td>Properly Valued</td>\n",
       "    </tr>\n",
       "  </tbody>\n",
       "</table>\n",
       "</div>"
      ],
      "text/plain": [
       "  brokered_by    status      price  bed  bath  acre_lot   street    city  \\\n",
       "0       67832  for sale  12.100718    2     1  0.292670   732726  agawam   \n",
       "1       97400  for sale  10.126671    3     2  1.483875  1909493  agawam   \n",
       "2       58796  for sale  12.042971    2     2  0.343590  1194249  agawam   \n",
       "3        8147  for sale  12.396697    2     2  0.343590   913299  agawam   \n",
       "4       22700  for sale  12.611374    2     2  0.343590   560791  agawam   \n",
       "\n",
       "           state zip_code  house_size prev_sold_date first_time  land_area  \\\n",
       "0  massachusetts     1001    6.517671     2021-11-30          1   2.508949   \n",
       "1  massachusetts     1001    7.242798     2021-11-30          1   2.508949   \n",
       "2  massachusetts     1001    6.794587     2019-04-30          0   2.508949   \n",
       "3  massachusetts     1001    7.264730     2021-11-30          1   2.508949   \n",
       "4  massachusetts     1001    7.414573     2021-11-30          1   2.508949   \n",
       "\n",
       "   water_area   latitude  longitude  population  density  violent_crime  \\\n",
       "0    0.599386  42.062368 -72.625754     17621.0   6.3347       4.343805   \n",
       "1    0.599386  42.062368 -72.625754     17621.0   6.3347       4.343805   \n",
       "2    0.599386  42.062368 -72.625754     17621.0   6.3347       4.343805   \n",
       "3    0.599386  42.062368 -72.625754     17621.0   6.3347       4.343805   \n",
       "4    0.599386  42.062368 -72.625754     17621.0   6.3347       4.343805   \n",
       "\n",
       "   property_crime     closest_uni_name  closest_uni_lat  closest_uni_lon  \\\n",
       "0        6.257668  bay path university        42.055088       -72.583382   \n",
       "1        6.257668  bay path university        42.055088       -72.583382   \n",
       "2        6.257668  bay path university        42.055088       -72.583382   \n",
       "3        6.257668  bay path university        42.055088       -72.583382   \n",
       "4        6.257668  bay path university        42.055088       -72.583382   \n",
       "\n",
       "  closest_uni_zip closest_uni_obereg closest_uni_hloffer  distance_to_uni  \\\n",
       "0           01106                  1                   9         1.788056   \n",
       "1           01106                  1                   9         1.788056   \n",
       "2           01106                  1                   9         1.788056   \n",
       "3           01106                  1                   9         1.788056   \n",
       "4           01106                  1                   9         1.788056   \n",
       "\n",
       "   median_zip_price  inventory_count nearest_zip  nearest_zip_distance  \\\n",
       "0         12.396697         3.332205        1030             10.391737   \n",
       "1         12.396697         3.332205        1030             10.391737   \n",
       "2         12.396697         3.332205        1030             10.391737   \n",
       "3         12.396697         3.332205        1030             10.391737   \n",
       "4         12.396697         3.332205        1030             10.391737   \n",
       "\n",
       "   total_crime  crime_rate  property_tax  rank       house_category  \\\n",
       "0    10.601473    0.601639          1.11    17            Tiny Home   \n",
       "1    10.601473    0.601639          1.11    17           Ranch Home   \n",
       "2    10.601473    0.601639          1.11    17            Tiny Home   \n",
       "3    10.601473    0.601639          1.11    17  Investment Property   \n",
       "4    10.601473    0.601639          1.11    17  Investment Property   \n",
       "\n",
       "   prev_sold_year  prev_sold_month  prev_sold_day     xPrice  price_diff  \\\n",
       "0            2021               11             30  11.615943    0.484775   \n",
       "1            2021               11             30  11.750796   -1.624125   \n",
       "2            2019                4             30  11.935597    0.107374   \n",
       "3            2021               11             30  12.470693   -0.073996   \n",
       "4            2021               11             30  12.644924   -0.033550   \n",
       "\n",
       "         valuation  \n",
       "0       Overvalued  \n",
       "1      Undervalued  \n",
       "2  Properly Valued  \n",
       "3  Properly Valued  \n",
       "4  Properly Valued  "
      ]
     },
     "execution_count": 76,
     "metadata": {},
     "output_type": "execute_result"
    }
   ],
   "source": [
    "realtor_data['price_diff'] = realtor_data['price'] - realtor_data['xPrice']\n",
    "std_dev = realtor_data['price_diff'].std()\n",
    "def categorize_valuation(diff, std_dev):\n",
    "    if diff < -std_dev:\n",
    "        return 'Undervalued'\n",
    "    elif diff > std_dev:\n",
    "        return 'Overvalued'\n",
    "    else:\n",
    "        return 'Properly Valued'\n",
    "\n",
    "realtor_data['valuation'] = realtor_data['price_diff'].apply(lambda x: categorize_valuation(x, std_dev))\n",
    "realtor_data.head()"
   ]
  },
  {
   "cell_type": "code",
   "execution_count": 78,
   "id": "ae80745a",
   "metadata": {},
   "outputs": [
    {
     "data": {
      "text/plain": [
       "Properly Valued    0.793808\n",
       "Undervalued        0.105263\n",
       "Overvalued         0.100929\n",
       "Name: valuation, dtype: float64"
      ]
     },
     "execution_count": 78,
     "metadata": {},
     "output_type": "execute_result"
    }
   ],
   "source": [
    "realtor_data['valuation'].value_counts(normalize=True)"
   ]
  }
 ],
 "metadata": {
  "kernelspec": {
   "display_name": "Python 3 (ipykernel)",
   "language": "python",
   "name": "python3"
  },
  "language_info": {
   "codemirror_mode": {
    "name": "ipython",
    "version": 3
   },
   "file_extension": ".py",
   "mimetype": "text/x-python",
   "name": "python",
   "nbconvert_exporter": "python",
   "pygments_lexer": "ipython3",
   "version": "3.12.7"
  },
  "vscode": {
   "interpreter": {
    "hash": "b12909ae3d420039fe0d665486d7a3bae20c5f4e9ed25a1740938c9f4691a450"
   }
  }
 },
 "nbformat": 4,
 "nbformat_minor": 5
}
