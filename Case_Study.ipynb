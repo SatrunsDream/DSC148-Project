{
 "cells": [
  {
   "cell_type": "code",
   "execution_count": 79,
   "id": "a0ef7ee0-9e25-4fca-a880-d92acfc552a9",
   "metadata": {},
   "outputs": [],
   "source": [
    "import pandas as pd\n",
    "import math\n",
    "import matplotlib.pyplot as plt\n",
    "from plotly.subplots import make_subplots\n",
    "import plotly.graph_objects as go\n",
    "from mpl_toolkits.mplot3d import Axes3D\n",
    "import plotly.express as px\n",
    "import seaborn as sns\n",
    "import numpy as np\n",
    "from sklearn.linear_model import LinearRegression\n",
    "from sklearn.model_selection import train_test_split\n",
    "from sklearn.metrics import mean_squared_error\n",
    "from IPython.display import display, Math\n",
    "from sklearn.svm import SVC\n",
    "from sklearn.naive_bayes import GaussianNB\n",
    "from sklearn.metrics import accuracy_score\n",
    "from sklearn.tree import DecisionTreeClassifier\n",
    "from sklearn.metrics import confusion_matrix, classification_report, precision_score, recall_score, f1_score\n",
    "from sklearn.metrics import precision_recall_fscore_support\n",
    "from sklearn.ensemble import RandomForestClassifier\n",
    "from mlxtend.frequent_patterns import apriori, association_rules"
   ]
  },
  {
   "cell_type": "markdown",
   "id": "98b90bc7-e4ab-4662-972b-748a20d77dc9",
   "metadata": {},
   "source": [
    "# Data Cleaning"
   ]
  },
  {
   "cell_type": "code",
   "execution_count": 41,
   "id": "2797b335-d1bf-4d3d-b72c-03388edf40e9",
   "metadata": {},
   "outputs": [
    {
     "data": {
      "text/html": [
       "<div>\n",
       "<style scoped>\n",
       "    .dataframe tbody tr th:only-of-type {\n",
       "        vertical-align: middle;\n",
       "    }\n",
       "\n",
       "    .dataframe tbody tr th {\n",
       "        vertical-align: top;\n",
       "    }\n",
       "\n",
       "    .dataframe thead th {\n",
       "        text-align: right;\n",
       "    }\n",
       "</style>\n",
       "<table border=\"1\" class=\"dataframe\">\n",
       "  <thead>\n",
       "    <tr style=\"text-align: right;\">\n",
       "      <th></th>\n",
       "      <th>brokered_by</th>\n",
       "      <th>status</th>\n",
       "      <th>price</th>\n",
       "      <th>bed</th>\n",
       "      <th>bath</th>\n",
       "      <th>acre_lot</th>\n",
       "      <th>street</th>\n",
       "      <th>city</th>\n",
       "      <th>state</th>\n",
       "      <th>zip_code</th>\n",
       "      <th>house_size</th>\n",
       "      <th>prev_sold_date</th>\n",
       "    </tr>\n",
       "  </thead>\n",
       "  <tbody>\n",
       "    <tr>\n",
       "      <th>0</th>\n",
       "      <td>103378.0</td>\n",
       "      <td>for_sale</td>\n",
       "      <td>105000.0</td>\n",
       "      <td>3.0</td>\n",
       "      <td>2.0</td>\n",
       "      <td>0.12</td>\n",
       "      <td>1962661.0</td>\n",
       "      <td>Adjuntas</td>\n",
       "      <td>Puerto Rico</td>\n",
       "      <td>601.0</td>\n",
       "      <td>920.0</td>\n",
       "      <td>NaN</td>\n",
       "    </tr>\n",
       "    <tr>\n",
       "      <th>1</th>\n",
       "      <td>52707.0</td>\n",
       "      <td>for_sale</td>\n",
       "      <td>80000.0</td>\n",
       "      <td>4.0</td>\n",
       "      <td>2.0</td>\n",
       "      <td>0.08</td>\n",
       "      <td>1902874.0</td>\n",
       "      <td>Adjuntas</td>\n",
       "      <td>Puerto Rico</td>\n",
       "      <td>601.0</td>\n",
       "      <td>1527.0</td>\n",
       "      <td>NaN</td>\n",
       "    </tr>\n",
       "    <tr>\n",
       "      <th>2</th>\n",
       "      <td>103379.0</td>\n",
       "      <td>for_sale</td>\n",
       "      <td>67000.0</td>\n",
       "      <td>2.0</td>\n",
       "      <td>1.0</td>\n",
       "      <td>0.15</td>\n",
       "      <td>1404990.0</td>\n",
       "      <td>Juana Diaz</td>\n",
       "      <td>Puerto Rico</td>\n",
       "      <td>795.0</td>\n",
       "      <td>748.0</td>\n",
       "      <td>NaN</td>\n",
       "    </tr>\n",
       "    <tr>\n",
       "      <th>3</th>\n",
       "      <td>31239.0</td>\n",
       "      <td>for_sale</td>\n",
       "      <td>145000.0</td>\n",
       "      <td>4.0</td>\n",
       "      <td>2.0</td>\n",
       "      <td>0.10</td>\n",
       "      <td>1947675.0</td>\n",
       "      <td>Ponce</td>\n",
       "      <td>Puerto Rico</td>\n",
       "      <td>731.0</td>\n",
       "      <td>1800.0</td>\n",
       "      <td>NaN</td>\n",
       "    </tr>\n",
       "    <tr>\n",
       "      <th>4</th>\n",
       "      <td>34632.0</td>\n",
       "      <td>for_sale</td>\n",
       "      <td>65000.0</td>\n",
       "      <td>6.0</td>\n",
       "      <td>2.0</td>\n",
       "      <td>0.05</td>\n",
       "      <td>331151.0</td>\n",
       "      <td>Mayaguez</td>\n",
       "      <td>Puerto Rico</td>\n",
       "      <td>680.0</td>\n",
       "      <td>NaN</td>\n",
       "      <td>NaN</td>\n",
       "    </tr>\n",
       "  </tbody>\n",
       "</table>\n",
       "</div>"
      ],
      "text/plain": [
       "   brokered_by    status     price  bed  bath  acre_lot     street  \\\n",
       "0     103378.0  for_sale  105000.0  3.0   2.0      0.12  1962661.0   \n",
       "1      52707.0  for_sale   80000.0  4.0   2.0      0.08  1902874.0   \n",
       "2     103379.0  for_sale   67000.0  2.0   1.0      0.15  1404990.0   \n",
       "3      31239.0  for_sale  145000.0  4.0   2.0      0.10  1947675.0   \n",
       "4      34632.0  for_sale   65000.0  6.0   2.0      0.05   331151.0   \n",
       "\n",
       "         city        state  zip_code  house_size prev_sold_date  \n",
       "0    Adjuntas  Puerto Rico     601.0       920.0            NaN  \n",
       "1    Adjuntas  Puerto Rico     601.0      1527.0            NaN  \n",
       "2  Juana Diaz  Puerto Rico     795.0       748.0            NaN  \n",
       "3       Ponce  Puerto Rico     731.0      1800.0            NaN  \n",
       "4    Mayaguez  Puerto Rico     680.0         NaN            NaN  "
      ]
     },
     "execution_count": 41,
     "metadata": {},
     "output_type": "execute_result"
    }
   ],
   "source": [
    "realtor_data = pd.read_csv('realtor-data.zip.csv')\n",
    "realtor_data.head()"
   ]
  },
  {
   "cell_type": "code",
   "execution_count": 5,
   "id": "ea949aad-4508-4cab-ab14-74b48d637972",
   "metadata": {},
   "outputs": [
    {
     "data": {
      "text/plain": [
       "(2226382, 12)"
      ]
     },
     "execution_count": 5,
     "metadata": {},
     "output_type": "execute_result"
    }
   ],
   "source": [
    "realtor_data.shape"
   ]
  },
  {
   "cell_type": "code",
   "execution_count": 7,
   "id": "f60086cc-d721-4559-b3ba-f791671ce3b9",
   "metadata": {},
   "outputs": [
    {
     "data": {
      "text/plain": [
       "['brokered_by',\n",
       " 'status',\n",
       " 'price',\n",
       " 'bed',\n",
       " 'bath',\n",
       " 'acre_lot',\n",
       " 'street',\n",
       " 'city',\n",
       " 'state',\n",
       " 'zip_code',\n",
       " 'house_size',\n",
       " 'prev_sold_date']"
      ]
     },
     "execution_count": 7,
     "metadata": {},
     "output_type": "execute_result"
    }
   ],
   "source": [
    "column_names = realtor_data.columns.tolist()\n",
    "column_names"
   ]
  },
  {
   "cell_type": "code",
   "execution_count": 9,
   "id": "1814dd1f-e9b1-4a49-ade4-d7bacfdb1139",
   "metadata": {},
   "outputs": [
    {
     "data": {
      "text/plain": [
       "brokered_by       float64\n",
       "status             object\n",
       "price             float64\n",
       "bed               float64\n",
       "bath              float64\n",
       "acre_lot          float64\n",
       "street            float64\n",
       "city               object\n",
       "state              object\n",
       "zip_code          float64\n",
       "house_size        float64\n",
       "prev_sold_date     object\n",
       "dtype: object"
      ]
     },
     "execution_count": 9,
     "metadata": {},
     "output_type": "execute_result"
    }
   ],
   "source": [
    "realtor_data.dtypes"
   ]
  },
  {
   "cell_type": "code",
   "execution_count": 11,
   "id": "a67bd4d4-5966-4dc0-9301-2249c057dc90",
   "metadata": {},
   "outputs": [
    {
     "data": {
      "text/html": [
       "<div>\n",
       "<style scoped>\n",
       "    .dataframe tbody tr th:only-of-type {\n",
       "        vertical-align: middle;\n",
       "    }\n",
       "\n",
       "    .dataframe tbody tr th {\n",
       "        vertical-align: top;\n",
       "    }\n",
       "\n",
       "    .dataframe thead th {\n",
       "        text-align: right;\n",
       "    }\n",
       "</style>\n",
       "<table border=\"1\" class=\"dataframe\">\n",
       "  <thead>\n",
       "    <tr style=\"text-align: right;\">\n",
       "      <th></th>\n",
       "      <th>brokered_by</th>\n",
       "      <th>status</th>\n",
       "      <th>price</th>\n",
       "      <th>bed</th>\n",
       "      <th>bath</th>\n",
       "      <th>acre_lot</th>\n",
       "      <th>street</th>\n",
       "      <th>city</th>\n",
       "      <th>state</th>\n",
       "      <th>zip_code</th>\n",
       "      <th>house_size</th>\n",
       "      <th>prev_sold_date</th>\n",
       "    </tr>\n",
       "  </thead>\n",
       "  <tbody>\n",
       "    <tr>\n",
       "      <th>0</th>\n",
       "      <td>103378.0</td>\n",
       "      <td>for sale</td>\n",
       "      <td>105000.0</td>\n",
       "      <td>3.0</td>\n",
       "      <td>2.0</td>\n",
       "      <td>0.12</td>\n",
       "      <td>1962661.0</td>\n",
       "      <td>Adjuntas</td>\n",
       "      <td>Puerto Rico</td>\n",
       "      <td>601.0</td>\n",
       "      <td>920.0</td>\n",
       "      <td>NaN</td>\n",
       "    </tr>\n",
       "    <tr>\n",
       "      <th>1</th>\n",
       "      <td>52707.0</td>\n",
       "      <td>for sale</td>\n",
       "      <td>80000.0</td>\n",
       "      <td>4.0</td>\n",
       "      <td>2.0</td>\n",
       "      <td>0.08</td>\n",
       "      <td>1902874.0</td>\n",
       "      <td>Adjuntas</td>\n",
       "      <td>Puerto Rico</td>\n",
       "      <td>601.0</td>\n",
       "      <td>1527.0</td>\n",
       "      <td>NaN</td>\n",
       "    </tr>\n",
       "    <tr>\n",
       "      <th>2</th>\n",
       "      <td>103379.0</td>\n",
       "      <td>for sale</td>\n",
       "      <td>67000.0</td>\n",
       "      <td>2.0</td>\n",
       "      <td>1.0</td>\n",
       "      <td>0.15</td>\n",
       "      <td>1404990.0</td>\n",
       "      <td>Juana Diaz</td>\n",
       "      <td>Puerto Rico</td>\n",
       "      <td>795.0</td>\n",
       "      <td>748.0</td>\n",
       "      <td>NaN</td>\n",
       "    </tr>\n",
       "    <tr>\n",
       "      <th>3</th>\n",
       "      <td>31239.0</td>\n",
       "      <td>for sale</td>\n",
       "      <td>145000.0</td>\n",
       "      <td>4.0</td>\n",
       "      <td>2.0</td>\n",
       "      <td>0.10</td>\n",
       "      <td>1947675.0</td>\n",
       "      <td>Ponce</td>\n",
       "      <td>Puerto Rico</td>\n",
       "      <td>731.0</td>\n",
       "      <td>1800.0</td>\n",
       "      <td>NaN</td>\n",
       "    </tr>\n",
       "    <tr>\n",
       "      <th>4</th>\n",
       "      <td>34632.0</td>\n",
       "      <td>for sale</td>\n",
       "      <td>65000.0</td>\n",
       "      <td>6.0</td>\n",
       "      <td>2.0</td>\n",
       "      <td>0.05</td>\n",
       "      <td>331151.0</td>\n",
       "      <td>Mayaguez</td>\n",
       "      <td>Puerto Rico</td>\n",
       "      <td>680.0</td>\n",
       "      <td>NaN</td>\n",
       "      <td>NaN</td>\n",
       "    </tr>\n",
       "    <tr>\n",
       "      <th>...</th>\n",
       "      <td>...</td>\n",
       "      <td>...</td>\n",
       "      <td>...</td>\n",
       "      <td>...</td>\n",
       "      <td>...</td>\n",
       "      <td>...</td>\n",
       "      <td>...</td>\n",
       "      <td>...</td>\n",
       "      <td>...</td>\n",
       "      <td>...</td>\n",
       "      <td>...</td>\n",
       "      <td>...</td>\n",
       "    </tr>\n",
       "    <tr>\n",
       "      <th>2226377</th>\n",
       "      <td>23009.0</td>\n",
       "      <td>sold</td>\n",
       "      <td>359900.0</td>\n",
       "      <td>4.0</td>\n",
       "      <td>2.0</td>\n",
       "      <td>0.33</td>\n",
       "      <td>353094.0</td>\n",
       "      <td>Richland</td>\n",
       "      <td>Washington</td>\n",
       "      <td>99354.0</td>\n",
       "      <td>3600.0</td>\n",
       "      <td>2022-03-25</td>\n",
       "    </tr>\n",
       "    <tr>\n",
       "      <th>2226378</th>\n",
       "      <td>18208.0</td>\n",
       "      <td>sold</td>\n",
       "      <td>350000.0</td>\n",
       "      <td>3.0</td>\n",
       "      <td>2.0</td>\n",
       "      <td>0.10</td>\n",
       "      <td>1062149.0</td>\n",
       "      <td>Richland</td>\n",
       "      <td>Washington</td>\n",
       "      <td>99354.0</td>\n",
       "      <td>1616.0</td>\n",
       "      <td>2022-03-25</td>\n",
       "    </tr>\n",
       "    <tr>\n",
       "      <th>2226379</th>\n",
       "      <td>76856.0</td>\n",
       "      <td>sold</td>\n",
       "      <td>440000.0</td>\n",
       "      <td>6.0</td>\n",
       "      <td>3.0</td>\n",
       "      <td>0.50</td>\n",
       "      <td>405677.0</td>\n",
       "      <td>Richland</td>\n",
       "      <td>Washington</td>\n",
       "      <td>99354.0</td>\n",
       "      <td>3200.0</td>\n",
       "      <td>2022-03-24</td>\n",
       "    </tr>\n",
       "    <tr>\n",
       "      <th>2226380</th>\n",
       "      <td>53618.0</td>\n",
       "      <td>sold</td>\n",
       "      <td>179900.0</td>\n",
       "      <td>2.0</td>\n",
       "      <td>1.0</td>\n",
       "      <td>0.09</td>\n",
       "      <td>761379.0</td>\n",
       "      <td>Richland</td>\n",
       "      <td>Washington</td>\n",
       "      <td>99354.0</td>\n",
       "      <td>933.0</td>\n",
       "      <td>2022-03-24</td>\n",
       "    </tr>\n",
       "    <tr>\n",
       "      <th>2226381</th>\n",
       "      <td>108243.0</td>\n",
       "      <td>sold</td>\n",
       "      <td>580000.0</td>\n",
       "      <td>5.0</td>\n",
       "      <td>3.0</td>\n",
       "      <td>0.31</td>\n",
       "      <td>307704.0</td>\n",
       "      <td>Richland</td>\n",
       "      <td>Washington</td>\n",
       "      <td>99354.0</td>\n",
       "      <td>3615.0</td>\n",
       "      <td>2022-03-23</td>\n",
       "    </tr>\n",
       "  </tbody>\n",
       "</table>\n",
       "<p>2226382 rows × 12 columns</p>\n",
       "</div>"
      ],
      "text/plain": [
       "         brokered_by    status     price  bed  bath  acre_lot     street  \\\n",
       "0           103378.0  for sale  105000.0  3.0   2.0      0.12  1962661.0   \n",
       "1            52707.0  for sale   80000.0  4.0   2.0      0.08  1902874.0   \n",
       "2           103379.0  for sale   67000.0  2.0   1.0      0.15  1404990.0   \n",
       "3            31239.0  for sale  145000.0  4.0   2.0      0.10  1947675.0   \n",
       "4            34632.0  for sale   65000.0  6.0   2.0      0.05   331151.0   \n",
       "...              ...       ...       ...  ...   ...       ...        ...   \n",
       "2226377      23009.0      sold  359900.0  4.0   2.0      0.33   353094.0   \n",
       "2226378      18208.0      sold  350000.0  3.0   2.0      0.10  1062149.0   \n",
       "2226379      76856.0      sold  440000.0  6.0   3.0      0.50   405677.0   \n",
       "2226380      53618.0      sold  179900.0  2.0   1.0      0.09   761379.0   \n",
       "2226381     108243.0      sold  580000.0  5.0   3.0      0.31   307704.0   \n",
       "\n",
       "               city        state  zip_code  house_size prev_sold_date  \n",
       "0          Adjuntas  Puerto Rico     601.0       920.0            NaN  \n",
       "1          Adjuntas  Puerto Rico     601.0      1527.0            NaN  \n",
       "2        Juana Diaz  Puerto Rico     795.0       748.0            NaN  \n",
       "3             Ponce  Puerto Rico     731.0      1800.0            NaN  \n",
       "4          Mayaguez  Puerto Rico     680.0         NaN            NaN  \n",
       "...             ...          ...       ...         ...            ...  \n",
       "2226377    Richland   Washington   99354.0      3600.0     2022-03-25  \n",
       "2226378    Richland   Washington   99354.0      1616.0     2022-03-25  \n",
       "2226379    Richland   Washington   99354.0      3200.0     2022-03-24  \n",
       "2226380    Richland   Washington   99354.0       933.0     2022-03-24  \n",
       "2226381    Richland   Washington   99354.0      3615.0     2022-03-23  \n",
       "\n",
       "[2226382 rows x 12 columns]"
      ]
     },
     "execution_count": 11,
     "metadata": {},
     "output_type": "execute_result"
    }
   ],
   "source": [
    "realtor_data['status'] = realtor_data['status'].apply(lambda x: x.replace('_', ' '))\n",
    "realtor_data"
   ]
  },
  {
   "cell_type": "code",
   "execution_count": 13,
   "id": "c5272805-a6a8-46e4-a764-36d7549d7faf",
   "metadata": {},
   "outputs": [
    {
     "data": {
      "text/html": [
       "<div>\n",
       "<style scoped>\n",
       "    .dataframe tbody tr th:only-of-type {\n",
       "        vertical-align: middle;\n",
       "    }\n",
       "\n",
       "    .dataframe tbody tr th {\n",
       "        vertical-align: top;\n",
       "    }\n",
       "\n",
       "    .dataframe thead th {\n",
       "        text-align: right;\n",
       "    }\n",
       "</style>\n",
       "<table border=\"1\" class=\"dataframe\">\n",
       "  <thead>\n",
       "    <tr style=\"text-align: right;\">\n",
       "      <th></th>\n",
       "      <th>brokered_by</th>\n",
       "      <th>status</th>\n",
       "      <th>price</th>\n",
       "      <th>bed</th>\n",
       "      <th>bath</th>\n",
       "      <th>acre_lot</th>\n",
       "      <th>street</th>\n",
       "      <th>city</th>\n",
       "      <th>state</th>\n",
       "      <th>zip_code</th>\n",
       "      <th>house_size</th>\n",
       "      <th>prev_sold_date</th>\n",
       "    </tr>\n",
       "  </thead>\n",
       "  <tbody>\n",
       "    <tr>\n",
       "      <th>0</th>\n",
       "      <td>103378.0</td>\n",
       "      <td>for sale</td>\n",
       "      <td>105000.0</td>\n",
       "      <td>3.0</td>\n",
       "      <td>2.0</td>\n",
       "      <td>0.12</td>\n",
       "      <td>1962661.0</td>\n",
       "      <td>Adjuntas</td>\n",
       "      <td>Puerto Rico</td>\n",
       "      <td>601.0</td>\n",
       "      <td>920.0</td>\n",
       "      <td>NaN</td>\n",
       "    </tr>\n",
       "    <tr>\n",
       "      <th>1</th>\n",
       "      <td>52707.0</td>\n",
       "      <td>for sale</td>\n",
       "      <td>80000.0</td>\n",
       "      <td>4.0</td>\n",
       "      <td>2.0</td>\n",
       "      <td>0.08</td>\n",
       "      <td>1902874.0</td>\n",
       "      <td>Adjuntas</td>\n",
       "      <td>Puerto Rico</td>\n",
       "      <td>601.0</td>\n",
       "      <td>1527.0</td>\n",
       "      <td>NaN</td>\n",
       "    </tr>\n",
       "    <tr>\n",
       "      <th>2</th>\n",
       "      <td>103379.0</td>\n",
       "      <td>for sale</td>\n",
       "      <td>67000.0</td>\n",
       "      <td>2.0</td>\n",
       "      <td>1.0</td>\n",
       "      <td>0.15</td>\n",
       "      <td>1404990.0</td>\n",
       "      <td>Juana Diaz</td>\n",
       "      <td>Puerto Rico</td>\n",
       "      <td>795.0</td>\n",
       "      <td>748.0</td>\n",
       "      <td>NaN</td>\n",
       "    </tr>\n",
       "    <tr>\n",
       "      <th>3</th>\n",
       "      <td>31239.0</td>\n",
       "      <td>for sale</td>\n",
       "      <td>145000.0</td>\n",
       "      <td>4.0</td>\n",
       "      <td>2.0</td>\n",
       "      <td>0.10</td>\n",
       "      <td>1947675.0</td>\n",
       "      <td>Ponce</td>\n",
       "      <td>Puerto Rico</td>\n",
       "      <td>731.0</td>\n",
       "      <td>1800.0</td>\n",
       "      <td>NaN</td>\n",
       "    </tr>\n",
       "    <tr>\n",
       "      <th>4</th>\n",
       "      <td>34632.0</td>\n",
       "      <td>for sale</td>\n",
       "      <td>65000.0</td>\n",
       "      <td>6.0</td>\n",
       "      <td>2.0</td>\n",
       "      <td>0.05</td>\n",
       "      <td>331151.0</td>\n",
       "      <td>Mayaguez</td>\n",
       "      <td>Puerto Rico</td>\n",
       "      <td>680.0</td>\n",
       "      <td>NaN</td>\n",
       "      <td>NaN</td>\n",
       "    </tr>\n",
       "    <tr>\n",
       "      <th>...</th>\n",
       "      <td>...</td>\n",
       "      <td>...</td>\n",
       "      <td>...</td>\n",
       "      <td>...</td>\n",
       "      <td>...</td>\n",
       "      <td>...</td>\n",
       "      <td>...</td>\n",
       "      <td>...</td>\n",
       "      <td>...</td>\n",
       "      <td>...</td>\n",
       "      <td>...</td>\n",
       "      <td>...</td>\n",
       "    </tr>\n",
       "    <tr>\n",
       "      <th>2226377</th>\n",
       "      <td>23009.0</td>\n",
       "      <td>sold</td>\n",
       "      <td>359900.0</td>\n",
       "      <td>4.0</td>\n",
       "      <td>2.0</td>\n",
       "      <td>0.33</td>\n",
       "      <td>353094.0</td>\n",
       "      <td>Richland</td>\n",
       "      <td>Washington</td>\n",
       "      <td>99354.0</td>\n",
       "      <td>3600.0</td>\n",
       "      <td>2022-03-25</td>\n",
       "    </tr>\n",
       "    <tr>\n",
       "      <th>2226378</th>\n",
       "      <td>18208.0</td>\n",
       "      <td>sold</td>\n",
       "      <td>350000.0</td>\n",
       "      <td>3.0</td>\n",
       "      <td>2.0</td>\n",
       "      <td>0.10</td>\n",
       "      <td>1062149.0</td>\n",
       "      <td>Richland</td>\n",
       "      <td>Washington</td>\n",
       "      <td>99354.0</td>\n",
       "      <td>1616.0</td>\n",
       "      <td>2022-03-25</td>\n",
       "    </tr>\n",
       "    <tr>\n",
       "      <th>2226379</th>\n",
       "      <td>76856.0</td>\n",
       "      <td>sold</td>\n",
       "      <td>440000.0</td>\n",
       "      <td>6.0</td>\n",
       "      <td>3.0</td>\n",
       "      <td>0.50</td>\n",
       "      <td>405677.0</td>\n",
       "      <td>Richland</td>\n",
       "      <td>Washington</td>\n",
       "      <td>99354.0</td>\n",
       "      <td>3200.0</td>\n",
       "      <td>2022-03-24</td>\n",
       "    </tr>\n",
       "    <tr>\n",
       "      <th>2226380</th>\n",
       "      <td>53618.0</td>\n",
       "      <td>sold</td>\n",
       "      <td>179900.0</td>\n",
       "      <td>2.0</td>\n",
       "      <td>1.0</td>\n",
       "      <td>0.09</td>\n",
       "      <td>761379.0</td>\n",
       "      <td>Richland</td>\n",
       "      <td>Washington</td>\n",
       "      <td>99354.0</td>\n",
       "      <td>933.0</td>\n",
       "      <td>2022-03-24</td>\n",
       "    </tr>\n",
       "    <tr>\n",
       "      <th>2226381</th>\n",
       "      <td>108243.0</td>\n",
       "      <td>sold</td>\n",
       "      <td>580000.0</td>\n",
       "      <td>5.0</td>\n",
       "      <td>3.0</td>\n",
       "      <td>0.31</td>\n",
       "      <td>307704.0</td>\n",
       "      <td>Richland</td>\n",
       "      <td>Washington</td>\n",
       "      <td>99354.0</td>\n",
       "      <td>3615.0</td>\n",
       "      <td>2022-03-23</td>\n",
       "    </tr>\n",
       "  </tbody>\n",
       "</table>\n",
       "<p>2226382 rows × 12 columns</p>\n",
       "</div>"
      ],
      "text/plain": [
       "         brokered_by    status     price  bed  bath  acre_lot     street  \\\n",
       "0           103378.0  for sale  105000.0  3.0   2.0      0.12  1962661.0   \n",
       "1            52707.0  for sale   80000.0  4.0   2.0      0.08  1902874.0   \n",
       "2           103379.0  for sale   67000.0  2.0   1.0      0.15  1404990.0   \n",
       "3            31239.0  for sale  145000.0  4.0   2.0      0.10  1947675.0   \n",
       "4            34632.0  for sale   65000.0  6.0   2.0      0.05   331151.0   \n",
       "...              ...       ...       ...  ...   ...       ...        ...   \n",
       "2226377      23009.0      sold  359900.0  4.0   2.0      0.33   353094.0   \n",
       "2226378      18208.0      sold  350000.0  3.0   2.0      0.10  1062149.0   \n",
       "2226379      76856.0      sold  440000.0  6.0   3.0      0.50   405677.0   \n",
       "2226380      53618.0      sold  179900.0  2.0   1.0      0.09   761379.0   \n",
       "2226381     108243.0      sold  580000.0  5.0   3.0      0.31   307704.0   \n",
       "\n",
       "               city        state  zip_code  house_size prev_sold_date  \n",
       "0          Adjuntas  Puerto Rico     601.0       920.0            NaN  \n",
       "1          Adjuntas  Puerto Rico     601.0      1527.0            NaN  \n",
       "2        Juana Diaz  Puerto Rico     795.0       748.0            NaN  \n",
       "3             Ponce  Puerto Rico     731.0      1800.0            NaN  \n",
       "4          Mayaguez  Puerto Rico     680.0         NaN            NaN  \n",
       "...             ...          ...       ...         ...            ...  \n",
       "2226377    Richland   Washington   99354.0      3600.0     2022-03-25  \n",
       "2226378    Richland   Washington   99354.0      1616.0     2022-03-25  \n",
       "2226379    Richland   Washington   99354.0      3200.0     2022-03-24  \n",
       "2226380    Richland   Washington   99354.0       933.0     2022-03-24  \n",
       "2226381    Richland   Washington   99354.0      3615.0     2022-03-23  \n",
       "\n",
       "[2226382 rows x 12 columns]"
      ]
     },
     "execution_count": 13,
     "metadata": {},
     "output_type": "execute_result"
    }
   ],
   "source": [
    "realtor_data = realtor_data.apply(lambda col: col.map(lambda x: x.strip() if isinstance(x, str) else x))\n",
    "realtor_data"
   ]
  },
  {
   "cell_type": "code",
   "execution_count": 43,
   "id": "0fc75fae-0a3a-42b8-b715-90ab18ae1d85",
   "metadata": {},
   "outputs": [
    {
     "data": {
      "text/plain": [
       "brokered_by         4533\n",
       "status                 0\n",
       "price               1541\n",
       "bed               481317\n",
       "bath              511771\n",
       "acre_lot          325589\n",
       "street             10866\n",
       "city                1407\n",
       "state                  8\n",
       "zip_code             299\n",
       "house_size        568484\n",
       "prev_sold_date    734297\n",
       "dtype: int64"
      ]
     },
     "execution_count": 43,
     "metadata": {},
     "output_type": "execute_result"
    }
   ],
   "source": [
    "data_missing = realtor_data.isnull().sum()\n",
    "data_missing"
   ]
  },
  {
   "cell_type": "markdown",
   "id": "7d3fe09e-7fe0-42b9-8dea-80b05ef857da",
   "metadata": {},
   "source": [
    "# Cleaning"
   ]
  },
  {
   "cell_type": "code",
   "execution_count": 47,
   "id": "92c1d1f9-5d61-4769-9d28-795f36ecc61d",
   "metadata": {},
   "outputs": [],
   "source": [
    "# Convert 'brokered_by' to string and fill missing values\n",
    "realtor_data['brokered_by'] = realtor_data['brokered_by'].astype(str).fillna(\"Unknown\")"
   ]
  },
  {
   "cell_type": "code",
   "execution_count": 55,
   "id": "0aafda9f-43ec-493c-a91a-1deaa719a463",
   "metadata": {},
   "outputs": [],
   "source": [
    "# Fill missing price with median per city\n",
    "realtor_data['price'] = realtor_data.groupby('city')['price'].transform(lambda x: x.fillna(x.median()))\n",
    "realtor_data['price'] = realtor_data['price'].fillna(realtor_data['price'].median())  # If city is missing"
   ]
  },
  {
   "cell_type": "code",
   "execution_count": 51,
   "id": "429e8a10-010e-46fd-849f-518596ad884a",
   "metadata": {},
   "outputs": [],
   "source": [
    "# Fill missing bed and bath with median per city\n",
    "realtor_data['bed'] = realtor_data.groupby('city')['bed'].transform(lambda x: x.fillna(x.median()))\n",
    "realtor_data['bath'] = realtor_data.groupby('city')['bath'].transform(lambda x: x.fillna(x.median()))"
   ]
  },
  {
   "cell_type": "code",
   "execution_count": 57,
   "id": "70aa2229-43ce-420d-8889-e340f1dc0aac",
   "metadata": {},
   "outputs": [],
   "source": [
    "# Fill acre_lot with median per city or 0\n",
    "realtor_data['acre_lot'] = realtor_data.groupby('city')['acre_lot'].transform(lambda x: x.fillna(x.median()))\n",
    "realtor_data['acre_lot'] = realtor_data['acre_lot'].fillna(0)  # Default to 0 if no data available"
   ]
  },
  {
   "cell_type": "code",
   "execution_count": 59,
   "id": "e716558c-053c-41e3-a148-753fd2df3b63",
   "metadata": {},
   "outputs": [],
   "source": [
    "# Convert 'street' to string and fill missing values\n",
    "realtor_data['street'] = realtor_data['street'].astype(str)\n",
    "realtor_data.loc[realtor_data['street'] == 'nan', 'street'] = \"Unknown\""
   ]
  },
  {
   "cell_type": "code",
   "execution_count": 61,
   "id": "8cc20f2d-0b33-4726-bc10-78762762307b",
   "metadata": {},
   "outputs": [],
   "source": [
    "# Drop rows where both city and state are missing\n",
    "realtor_data = realtor_data.dropna(subset=['city', 'state'])"
   ]
  },
  {
   "cell_type": "code",
   "execution_count": 63,
   "id": "9ce51270-34b4-4614-9a6e-324a15d878f2",
   "metadata": {},
   "outputs": [],
   "source": [
    "# Fill missing zip_code with most common zip per city\n",
    "realtor_data['zip_code'] = realtor_data.groupby('city')['zip_code'].transform(lambda x: x.fillna(x.mode()[0] if not x.mode().empty else np.nan))"
   ]
  },
  {
   "cell_type": "code",
   "execution_count": 65,
   "id": "c719227f-fc2d-47cc-8917-abeaf1fcce1a",
   "metadata": {},
   "outputs": [],
   "source": [
    "# Convert zip_code, bed, bath, house_size to int (after filling NaNs)\n",
    "realtor_data[['zip_code', 'bed', 'bath', 'house_size']] = realtor_data[['zip_code', 'bed', 'bath', 'house_size']].fillna(0).astype(int)"
   ]
  },
  {
   "cell_type": "code",
   "execution_count": 67,
   "id": "73f76371-0837-4855-90a5-31fbb0864a52",
   "metadata": {},
   "outputs": [],
   "source": [
    "# Fill missing house_size with median per city\n",
    "realtor_data['house_size'] = realtor_data.groupby('city')['house_size'].transform(lambda x: x.fillna(x.median()))\n",
    "realtor_data['house_size'] = realtor_data['house_size'].fillna(realtor_data['house_size'].median())"
   ]
  },
  {
   "cell_type": "code",
   "execution_count": 69,
   "id": "75258de5-2da3-42c8-ba94-43168e62dcfd",
   "metadata": {},
   "outputs": [
    {
     "name": "stderr",
     "output_type": "stream",
     "text": [
      "C:\\Users\\sardo\\AppData\\Local\\Temp\\ipykernel_13196\\4183090853.py:3: UserWarning:\n",
      "\n",
      "Could not infer format, so each element will be parsed individually, falling back to `dateutil`. To ensure parsing is consistent and as-expected, please specify a format.\n",
      "\n"
     ]
    }
   ],
   "source": [
    "# Fill missing prev_sold_date with \"Never Sold\" and convert to datetime\n",
    "realtor_data['prev_sold_date'] = realtor_data['prev_sold_date'].fillna(\"Never Sold\")\n",
    "realtor_data['prev_sold_date'] = pd.to_datetime(realtor_data['prev_sold_date'], errors='coerce')"
   ]
  },
  {
   "cell_type": "code",
   "execution_count": 71,
   "id": "30a9a42f-d8ab-488f-a60a-f408747ec3d5",
   "metadata": {},
   "outputs": [],
   "source": [
    "# Normalize text columns\n",
    "realtor_data['status'] = realtor_data['status'].str.lower()\n",
    "realtor_data['city'] = realtor_data['city'].str.lower()\n",
    "realtor_data['state'] = realtor_data['state'].str.lower()"
   ]
  },
  {
   "cell_type": "code",
   "execution_count": 73,
   "id": "f54ac886-96c7-4426-a39f-f90d85a1733d",
   "metadata": {},
   "outputs": [],
   "source": [
    "# Drop duplicates\n",
    "realtor_data = realtor_data.drop_duplicates(subset=['street', 'city', 'state', 'price'], keep='first')"
   ]
  },
  {
   "cell_type": "code",
   "execution_count": 75,
   "id": "976fe675-9e3e-411f-a0d6-5dd4036bf8e6",
   "metadata": {},
   "outputs": [
    {
     "data": {
      "text/plain": [
       "brokered_by            0\n",
       "status                 0\n",
       "price                  0\n",
       "bed                    0\n",
       "bath                   0\n",
       "acre_lot               0\n",
       "street                 0\n",
       "city                   0\n",
       "state                  0\n",
       "zip_code               0\n",
       "house_size             0\n",
       "prev_sold_date    724953\n",
       "dtype: int64"
      ]
     },
     "execution_count": 75,
     "metadata": {},
     "output_type": "execute_result"
    }
   ],
   "source": [
    "data_missing = realtor_data.isnull().sum()\n",
    "data_missing"
   ]
  },
  {
   "cell_type": "markdown",
   "id": "54c75fb8-2b48-4a25-ac98-d0b8ea2ac06d",
   "metadata": {},
   "source": [
    "# EDA"
   ]
  },
  {
   "cell_type": "markdown",
   "id": "f68d5c82-416a-443e-affe-1a2b97a4d274",
   "metadata": {},
   "source": [
    "## Unaviraite Analysis"
   ]
  },
  {
   "cell_type": "code",
   "execution_count": 87,
   "id": "da6ecf80-b103-4608-8c9c-04fbf13fdf28",
   "metadata": {},
   "outputs": [],
   "source": [
    "## Summary"
   ]
  },
  {
   "cell_type": "code",
   "execution_count": 83,
   "id": "c180c86c-de93-4c8c-bce6-3522dd2ca83c",
   "metadata": {},
   "outputs": [
    {
     "data": {
      "text/html": [
       "<div>\n",
       "<style scoped>\n",
       "    .dataframe tbody tr th:only-of-type {\n",
       "        vertical-align: middle;\n",
       "    }\n",
       "\n",
       "    .dataframe tbody tr th {\n",
       "        vertical-align: top;\n",
       "    }\n",
       "\n",
       "    .dataframe thead th {\n",
       "        text-align: right;\n",
       "    }\n",
       "</style>\n",
       "<table border=\"1\" class=\"dataframe\">\n",
       "  <thead>\n",
       "    <tr style=\"text-align: right;\">\n",
       "      <th></th>\n",
       "      <th>count</th>\n",
       "      <th>mean</th>\n",
       "      <th>min</th>\n",
       "      <th>25%</th>\n",
       "      <th>50%</th>\n",
       "      <th>75%</th>\n",
       "      <th>max</th>\n",
       "      <th>std</th>\n",
       "      <th>missing_percent</th>\n",
       "    </tr>\n",
       "  </thead>\n",
       "  <tbody>\n",
       "    <tr>\n",
       "      <th>price</th>\n",
       "      <td>2093965.0</td>\n",
       "      <td>525263.014651</td>\n",
       "      <td>0.0</td>\n",
       "      <td>164900.0</td>\n",
       "      <td>325000.0</td>\n",
       "      <td>550000.0</td>\n",
       "      <td>2147483600.0</td>\n",
       "      <td>2194653.911944</td>\n",
       "      <td>0.000000</td>\n",
       "    </tr>\n",
       "    <tr>\n",
       "      <th>bed</th>\n",
       "      <td>2093965.0</td>\n",
       "      <td>3.223317</td>\n",
       "      <td>0.0</td>\n",
       "      <td>3.0</td>\n",
       "      <td>3.0</td>\n",
       "      <td>4.0</td>\n",
       "      <td>473.0</td>\n",
       "      <td>1.425735</td>\n",
       "      <td>0.000000</td>\n",
       "    </tr>\n",
       "    <tr>\n",
       "      <th>bath</th>\n",
       "      <td>2093965.0</td>\n",
       "      <td>2.424237</td>\n",
       "      <td>0.0</td>\n",
       "      <td>2.0</td>\n",
       "      <td>2.0</td>\n",
       "      <td>3.0</td>\n",
       "      <td>830.0</td>\n",
       "      <td>1.499798</td>\n",
       "      <td>0.000000</td>\n",
       "    </tr>\n",
       "    <tr>\n",
       "      <th>acre_lot</th>\n",
       "      <td>2093965.0</td>\n",
       "      <td>12.973629</td>\n",
       "      <td>0.0</td>\n",
       "      <td>0.15</td>\n",
       "      <td>0.25</td>\n",
       "      <td>0.76</td>\n",
       "      <td>100000.0</td>\n",
       "      <td>701.667956</td>\n",
       "      <td>0.000000</td>\n",
       "    </tr>\n",
       "    <tr>\n",
       "      <th>zip_code</th>\n",
       "      <td>2093965.0</td>\n",
       "      <td>51861.58614</td>\n",
       "      <td>0.0</td>\n",
       "      <td>29526.0</td>\n",
       "      <td>48045.0</td>\n",
       "      <td>77868.0</td>\n",
       "      <td>99999.0</td>\n",
       "      <td>28974.012408</td>\n",
       "      <td>0.000000</td>\n",
       "    </tr>\n",
       "    <tr>\n",
       "      <th>house_size</th>\n",
       "      <td>2093965.0</td>\n",
       "      <td>2042.013139</td>\n",
       "      <td>0.0</td>\n",
       "      <td>0.0</td>\n",
       "      <td>1440.0</td>\n",
       "      <td>2137.0</td>\n",
       "      <td>1040400400.0</td>\n",
       "      <td>719075.4654</td>\n",
       "      <td>0.000000</td>\n",
       "    </tr>\n",
       "    <tr>\n",
       "      <th>prev_sold_date</th>\n",
       "      <td>1369012</td>\n",
       "      <td>2017-03-20 00:49:47.621437696</td>\n",
       "      <td>1901-01-01 00:00:00</td>\n",
       "      <td>2015-08-31 00:00:00</td>\n",
       "      <td>2021-11-17 00:00:00</td>\n",
       "      <td>2022-02-15 00:00:00</td>\n",
       "      <td>2026-04-08 00:00:00</td>\n",
       "      <td>NaN</td>\n",
       "      <td>34.621066</td>\n",
       "    </tr>\n",
       "  </tbody>\n",
       "</table>\n",
       "</div>"
      ],
      "text/plain": [
       "                    count                           mean                  min  \\\n",
       "price           2093965.0                  525263.014651                  0.0   \n",
       "bed             2093965.0                       3.223317                  0.0   \n",
       "bath            2093965.0                       2.424237                  0.0   \n",
       "acre_lot        2093965.0                      12.973629                  0.0   \n",
       "zip_code        2093965.0                    51861.58614                  0.0   \n",
       "house_size      2093965.0                    2042.013139                  0.0   \n",
       "prev_sold_date    1369012  2017-03-20 00:49:47.621437696  1901-01-01 00:00:00   \n",
       "\n",
       "                                25%                  50%                  75%  \\\n",
       "price                      164900.0             325000.0             550000.0   \n",
       "bed                             3.0                  3.0                  4.0   \n",
       "bath                            2.0                  2.0                  3.0   \n",
       "acre_lot                       0.15                 0.25                 0.76   \n",
       "zip_code                    29526.0              48045.0              77868.0   \n",
       "house_size                      0.0               1440.0               2137.0   \n",
       "prev_sold_date  2015-08-31 00:00:00  2021-11-17 00:00:00  2022-02-15 00:00:00   \n",
       "\n",
       "                                max             std  missing_percent  \n",
       "price                  2147483600.0  2194653.911944         0.000000  \n",
       "bed                           473.0        1.425735         0.000000  \n",
       "bath                          830.0        1.499798         0.000000  \n",
       "acre_lot                   100000.0      701.667956         0.000000  \n",
       "zip_code                    99999.0    28974.012408         0.000000  \n",
       "house_size             1040400400.0     719075.4654         0.000000  \n",
       "prev_sold_date  2026-04-08 00:00:00             NaN        34.621066  "
      ]
     },
     "execution_count": 83,
     "metadata": {},
     "output_type": "execute_result"
    }
   ],
   "source": [
    "summary_stats = realtor_data.describe().T\n",
    "summary_stats['missing_percent'] = (realtor_data.isnull().sum() / len(realtor_data)) * 100\n",
    "summary_stats"
   ]
  },
  {
   "cell_type": "markdown",
   "id": "85d9f0b6-9d4e-41c5-ab99-23c29a01b76d",
   "metadata": {},
   "source": [
    "## Log Transform to deal with distrbutions and data"
   ]
  },
  {
   "cell_type": "code",
   "execution_count": 91,
   "id": "6c034743-8f1d-452d-a319-e6ba15fb3d28",
   "metadata": {},
   "outputs": [
    {
     "name": "stdout",
     "output_type": "stream",
     "text": [
      "Log-transformed columns: ['price', 'bed', 'bath', 'acre_lot', 'house_size']\n"
     ]
    }
   ],
   "source": [
    "import numpy as np\n",
    "\n",
    "# Ensure only numeric columns are considered\n",
    "numeric_cols = realtor_data.select_dtypes(include=['number']).columns\n",
    "\n",
    "# Compute skewness only for numeric columns\n",
    "skewed_cols = numeric_cols[realtor_data[numeric_cols].skew() > 2].tolist()\n",
    "\n",
    "# Apply log transformation for highly skewed columns\n",
    "realtor_data[skewed_cols] = realtor_data[skewed_cols].apply(lambda x: np.log1p(x))\n",
    "\n",
    "print(f\"Log-transformed columns: {skewed_cols}\")\n"
   ]
  },
  {
   "cell_type": "code",
   "execution_count": 93,
   "id": "1f04f31b-0d93-4780-9498-43046a939ad8",
   "metadata": {},
   "outputs": [
    {
     "data": {
      "image/png": "[encoded data removed]",
      "text/plain": [
       "<Figure size 1400x500 with 2 Axes>"
      ]
     },
     "metadata": {},
     "output_type": "display_data"
    }
   ],
   "source": [
    "fig, axes = plt.subplots(1, 2, figsize=(14, 5))\n",
    "\n",
    "# Before log transformation\n",
    "sns.violinplot(y=realtor_data['price'], ax=axes[0], color='blue')\n",
    "axes[0].set_title('Price Distribution (Original)')\n",
    "\n",
    "# After log transformation\n",
    "sns.violinplot(y=np.log1p(realtor_data['price']), ax=axes[1], color='red')\n",
    "axes[1].set_title('Price Distribution (Log-Transformed)')\n",
    "\n",
    "plt.show()"
   ]
  },
  {
   "cell_type": "markdown",
   "id": "1a55fe98-ac06-4471-8772-05c2f8172455",
   "metadata": {},
   "source": [
    "## Finding Outliers"
   ]
  },
  {
   "cell_type": "code",
   "execution_count": 95,
   "id": "31cf132c-800e-4be7-91a0-79ae354fae5f",
   "metadata": {},
   "outputs": [
    {
     "data": {
      "image/png": "[encoded data removed]",
      "text/plain": [
       "<Figure size 1800x500 with 3 Axes>"
      ]
     },
     "metadata": {},
     "output_type": "display_data"
    }
   ],
   "source": [
    "fig, axes = plt.subplots(1, 3, figsize=(18, 5))\n",
    "\n",
    "sns.boxplot(y=realtor_data['price'], ax=axes[0]).set_title('Price Outliers')\n",
    "sns.boxplot(y=realtor_data['house_size'], ax=axes[1]).set_title('House Size Outliers')\n",
    "sns.boxplot(y=realtor_data['acre_lot'], ax=axes[2]).set_title('Lot Size Outliers')\n",
    "\n",
    "plt.show()"
   ]
  },
  {
   "cell_type": "markdown",
   "id": "2ddbc42f-cdb4-43e2-b7d8-a7ca3aea4753",
   "metadata": {},
   "source": [
    "## Heatmap"
   ]
  },
  {
   "cell_type": "code",
   "execution_count": 111,
   "id": "98a81345-329b-40ec-9df5-ba645e660bae",
   "metadata": {},
   "outputs": [
    {
     "data": {
      "image/png": "[encoded data removed]",
      "text/plain": [
       "<Figure size 1000x600 with 2 Axes>"
      ]
     },
     "metadata": {},
     "output_type": "display_data"
    }
   ],
   "source": [
    "\n",
    "numeric_data = realtor_data.select_dtypes(include=['number'])\n",
    "\n",
    "plt.figure(figsize=(10, 6))\n",
    "sns.heatmap(numeric_data.corr(), annot=True, cmap='coolwarm', fmt=\".2f\")\n",
    "plt.title(\"Feature Correlation Heatmap\")\n",
    "plt.show()\n"
   ]
  },
  {
   "cell_type": "code",
   "execution_count": 117,
   "id": "dd7abbb7-c94b-428d-a438-eaf1d3ca75a0",
   "metadata": {},
   "outputs": [
    {
     "name": "stderr",
     "output_type": "stream",
     "text": [
      "No artists with labels found to put in legend.  Note that artists whose label start with an underscore are ignored when legend() is called with no argument.\n"
     ]
    },
    {
     "data": {
      "image/png": "[encoded data removed]",
      "text/plain": [
       "<Figure size 1000x600 with 1 Axes>"
      ]
     },
     "metadata": {},
     "output_type": "display_data"
    }
   ],
   "source": [
    "sns.set(style=\"whitegrid\")\n",
    "plt.figure(figsize=(10, 6))\n",
    "sns.countplot(x='status', data=realtor_data, hue='status', palette='coolwarm')\n",
    "plt.title(\"Distribution of Status by Color\")\n",
    "plt.legend(title=\"Status\")\n",
    "plt.show()\n"
   ]
  },
  {
   "cell_type": "code",
   "execution_count": 107,
   "id": "f5f04454-32a9-4d79-a3f9-8eeab13ca4f8",
   "metadata": {},
   "outputs": [
    {
     "data": {
      "image/png": "[encoded data removed]",
      "text/plain": [
       "<Figure size 1200x600 with 1 Axes>"
      ]
     },
     "metadata": {},
     "output_type": "display_data"
    }
   ],
   "source": [
    "city_prices = realtor_data.groupby('city')['price'].median().sort_values()\n",
    "\n",
    "plt.figure(figsize=(12, 6))\n",
    "city_prices.tail(20).plot(kind='barh', color='green')  # Top 20 most expensive\n",
    "plt.title(\"Top 20 Most Expensive Cities (Median Price)\")\n",
    "plt.show()\n"
   ]
  },
  {
   "cell_type": "code",
   "execution_count": null,
   "id": "de52a925-9d54-48cc-a3a4-28eda5d83cf5",
   "metadata": {},
   "outputs": [],
   "source": []
  }
 ],
 "metadata": {
  "kernelspec": {
   "display_name": "Python 3 (ipykernel)",
   "language": "python",
   "name": "python3"
  },
  "language_info": {
   "codemirror_mode": {
    "name": "ipython",
    "version": 3
   },
   "file_extension": ".py",
   "mimetype": "text/x-python",
   "name": "python",
   "nbconvert_exporter": "python",
   "pygments_lexer": "ipython3",
   "version": "3.12.4"
  }
 },
 "nbformat": 4,
 "nbformat_minor": 5
}
